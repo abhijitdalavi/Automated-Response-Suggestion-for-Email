{
  "nbformat": 4,
  "nbformat_minor": 0,
  "metadata": {
    "colab": {
      "name": "Smart_Gmail_Reply.ipynb",
      "provenance": [],
      "collapsed_sections": [],
      "include_colab_link": true
    },
    "kernelspec": {
      "name": "python3",
      "display_name": "Python 3"
    },
    "accelerator": "GPU"
  },
  "cells": [
    {
      "cell_type": "markdown",
      "metadata": {
        "id": "view-in-github",
        "colab_type": "text"
      },
      "source": [
        "<a href=\"https://colab.research.google.com/github/yatindma/Automated-Response-Suggestion-for-Email/blob/master/Smart_Gmail_Reply.ipynb\" target=\"_parent\"><img src=\"https://colab.research.google.com/assets/colab-badge.svg\" alt=\"Open In Colab\"/></a>"
      ]
    },
    {
      "cell_type": "markdown",
      "metadata": {
        "id": "t0B6vYT4gFCH",
        "colab_type": "text"
      },
      "source": [
        "<h2> Overview </h2>\n",
        "\n",
        "\n",
        "Here we'll try to predict the Short email responses.<br>\n",
        "As most of the emails have shorter replies.<br>\n",
        "So that it can be easy to reply, without the hassle of typing.<br>\n",
        "It can help in saving the time of the person.<br>\n",
        "\n",
        "########################################################\n",
        "\n",
        "Will update later.\n",
        "########################################################\n",
        "\n",
        "\n",
        "[my kilnkn](www.com)\n",
        "\n",
        "\n"
      ]
    },
    {
      "cell_type": "code",
      "metadata": {
        "id": "C02AflfXgEUP",
        "colab_type": "code",
        "colab": {}
      },
      "source": [
        "import pandas as pd\n",
        "import numpy as np\n",
        "import matplotlib.pyplot as plt\n",
        "%matplotlib inline"
      ],
      "execution_count": 0,
      "outputs": []
    },
    {
      "cell_type": "markdown",
      "metadata": {
        "id": "6DWZSzjLHzu2",
        "colab_type": "text"
      },
      "source": [
        "<h4> Reading the data </h4>"
      ]
    },
    {
      "cell_type": "code",
      "metadata": {
        "id": "3Q_E3Tr9Elm-",
        "colab_type": "code",
        "colab": {}
      },
      "source": [
        "data = pd.read_csv('qa_dataset.csv', encoding = \"ISO-8859-1\", low_memory=False) "
      ],
      "execution_count": 0,
      "outputs": []
    },
    {
      "cell_type": "code",
      "metadata": {
        "id": "ZzfwTmtsE8_3",
        "colab_type": "code",
        "outputId": "e5e3982a-bd33-4649-8a43-ab954eaf81be",
        "colab": {
          "base_uri": "https://localhost:8080/",
          "height": 111
        }
      },
      "source": [
        "data.head(2)"
      ],
      "execution_count": 39,
      "outputs": [
        {
          "output_type": "execute_result",
          "data": {
            "text/html": [
              "<div>\n",
              "<style scoped>\n",
              "    .dataframe tbody tr th:only-of-type {\n",
              "        vertical-align: middle;\n",
              "    }\n",
              "\n",
              "    .dataframe tbody tr th {\n",
              "        vertical-align: top;\n",
              "    }\n",
              "\n",
              "    .dataframe thead th {\n",
              "        text-align: right;\n",
              "    }\n",
              "</style>\n",
              "<table border=\"1\" class=\"dataframe\">\n",
              "  <thead>\n",
              "    <tr style=\"text-align: right;\">\n",
              "      <th></th>\n",
              "      <th>ArticleTitle</th>\n",
              "      <th>Question</th>\n",
              "      <th>Answer</th>\n",
              "      <th>DifficultyFromQuestioner</th>\n",
              "      <th>DifficultyFromAnswerer</th>\n",
              "      <th>ArticleFile</th>\n",
              "    </tr>\n",
              "  </thead>\n",
              "  <tbody>\n",
              "    <tr>\n",
              "      <th>0</th>\n",
              "      <td>Alessandro_Volta</td>\n",
              "      <td>Was Volta an Italian physicist?</td>\n",
              "      <td>yes</td>\n",
              "      <td>easy</td>\n",
              "      <td>easy</td>\n",
              "      <td>data/set4/a10</td>\n",
              "    </tr>\n",
              "    <tr>\n",
              "      <th>1</th>\n",
              "      <td>Alessandro_Volta</td>\n",
              "      <td>Is Volta buried in the city of Pittsburgh?</td>\n",
              "      <td>no</td>\n",
              "      <td>easy</td>\n",
              "      <td>easy</td>\n",
              "      <td>data/set4/a10</td>\n",
              "    </tr>\n",
              "  </tbody>\n",
              "</table>\n",
              "</div>"
            ],
            "text/plain": [
              "       ArticleTitle  ...    ArticleFile\n",
              "0  Alessandro_Volta  ...  data/set4/a10\n",
              "1  Alessandro_Volta  ...  data/set4/a10\n",
              "\n",
              "[2 rows x 6 columns]"
            ]
          },
          "metadata": {
            "tags": []
          },
          "execution_count": 39
        }
      ]
    },
    {
      "cell_type": "code",
      "metadata": {
        "id": "0dK4ZhqSmqiY",
        "colab_type": "code",
        "outputId": "019c4871-0219-4500-8ddb-887366853e6b",
        "colab": {
          "base_uri": "https://localhost:8080/",
          "height": 34
        }
      },
      "source": [
        "type(data)"
      ],
      "execution_count": 40,
      "outputs": [
        {
          "output_type": "execute_result",
          "data": {
            "text/plain": [
              "pandas.core.frame.DataFrame"
            ]
          },
          "metadata": {
            "tags": []
          },
          "execution_count": 40
        }
      ]
    },
    {
      "cell_type": "markdown",
      "metadata": {
        "id": "Ce8jKwYNmFtG",
        "colab_type": "text"
      },
      "source": [
        "<h4>convert data into lower case</h4>"
      ]
    },
    {
      "cell_type": "code",
      "metadata": {
        "id": "IsWUBd8RmE0a",
        "colab_type": "code",
        "outputId": "ab347cb2-6ca7-4062-c3b6-2730b4270a0b",
        "colab": {
          "base_uri": "https://localhost:8080/",
          "height": 173
        }
      },
      "source": [
        "data = data.apply(lambda x: x.astype(str).str.lower())\n",
        "data.head(4)"
      ],
      "execution_count": 41,
      "outputs": [
        {
          "output_type": "execute_result",
          "data": {
            "text/html": [
              "<div>\n",
              "<style scoped>\n",
              "    .dataframe tbody tr th:only-of-type {\n",
              "        vertical-align: middle;\n",
              "    }\n",
              "\n",
              "    .dataframe tbody tr th {\n",
              "        vertical-align: top;\n",
              "    }\n",
              "\n",
              "    .dataframe thead th {\n",
              "        text-align: right;\n",
              "    }\n",
              "</style>\n",
              "<table border=\"1\" class=\"dataframe\">\n",
              "  <thead>\n",
              "    <tr style=\"text-align: right;\">\n",
              "      <th></th>\n",
              "      <th>ArticleTitle</th>\n",
              "      <th>Question</th>\n",
              "      <th>Answer</th>\n",
              "      <th>DifficultyFromQuestioner</th>\n",
              "      <th>DifficultyFromAnswerer</th>\n",
              "      <th>ArticleFile</th>\n",
              "    </tr>\n",
              "  </thead>\n",
              "  <tbody>\n",
              "    <tr>\n",
              "      <th>0</th>\n",
              "      <td>alessandro_volta</td>\n",
              "      <td>was volta an italian physicist?</td>\n",
              "      <td>yes</td>\n",
              "      <td>easy</td>\n",
              "      <td>easy</td>\n",
              "      <td>data/set4/a10</td>\n",
              "    </tr>\n",
              "    <tr>\n",
              "      <th>1</th>\n",
              "      <td>alessandro_volta</td>\n",
              "      <td>is volta buried in the city of pittsburgh?</td>\n",
              "      <td>no</td>\n",
              "      <td>easy</td>\n",
              "      <td>easy</td>\n",
              "      <td>data/set4/a10</td>\n",
              "    </tr>\n",
              "    <tr>\n",
              "      <th>2</th>\n",
              "      <td>alessandro_volta</td>\n",
              "      <td>did volta have a passion for the study of elec...</td>\n",
              "      <td>yes</td>\n",
              "      <td>easy</td>\n",
              "      <td>medium</td>\n",
              "      <td>data/set4/a10</td>\n",
              "    </tr>\n",
              "    <tr>\n",
              "      <th>3</th>\n",
              "      <td>alessandro_volta</td>\n",
              "      <td>what is the battery made by volta credited to be?</td>\n",
              "      <td>the first cell</td>\n",
              "      <td>medium</td>\n",
              "      <td>medium</td>\n",
              "      <td>data/set4/a10</td>\n",
              "    </tr>\n",
              "  </tbody>\n",
              "</table>\n",
              "</div>"
            ],
            "text/plain": [
              "       ArticleTitle  ...    ArticleFile\n",
              "0  alessandro_volta  ...  data/set4/a10\n",
              "1  alessandro_volta  ...  data/set4/a10\n",
              "2  alessandro_volta  ...  data/set4/a10\n",
              "3  alessandro_volta  ...  data/set4/a10\n",
              "\n",
              "[4 rows x 6 columns]"
            ]
          },
          "metadata": {
            "tags": []
          },
          "execution_count": 41
        }
      ]
    },
    {
      "cell_type": "code",
      "metadata": {
        "id": "w98pHMKvmFGP",
        "colab_type": "code",
        "colab": {}
      },
      "source": [
        "#Remove the full stops from the dataframe answers\n",
        "\n",
        "bad_chars = [';', ':', '!', \"*\",'.',')','(','?']\n",
        "\n",
        "preprocessed_answers = []\n",
        "for answer in data['Answer'].values:\n",
        "  for i in bad_chars : \n",
        "    answer = answer.replace(i, '')\n",
        "  preprocessed_answers.append(answer)\n",
        "\n"
      ],
      "execution_count": 0,
      "outputs": []
    },
    {
      "cell_type": "code",
      "metadata": {
        "id": "UK_Le3kFmFA5",
        "colab_type": "code",
        "colab": {}
      },
      "source": [
        "data['Answer'] = preprocessed_answers"
      ],
      "execution_count": 0,
      "outputs": []
    },
    {
      "cell_type": "code",
      "metadata": {
        "id": "-wRHxbSH5Q77",
        "colab_type": "code",
        "colab": {}
      },
      "source": [
        "#trimming the string the dataframe  \n",
        "data = data.applymap(lambda x: x.strip() if isinstance(x, str) else x)\n"
      ],
      "execution_count": 0,
      "outputs": []
    },
    {
      "cell_type": "code",
      "metadata": {
        "colab_type": "code",
        "id": "aVDO3G8X2DjP",
        "colab": {}
      },
      "source": [
        "answers_list = list(data['Answer'].values)\n",
        "answers_dict = {i:answers_list.count(i) for i in answers_list}"
      ],
      "execution_count": 0,
      "outputs": []
    },
    {
      "cell_type": "code",
      "metadata": {
        "colab_type": "code",
        "id": "yNfvv1i12DjY",
        "colab": {}
      },
      "source": [
        "from collections import OrderedDict\n",
        "answers_dict_sorted = OrderedDict(sorted(answers_dict.items(), key=lambda x: x[1]))"
      ],
      "execution_count": 0,
      "outputs": []
    },
    {
      "cell_type": "code",
      "metadata": {
        "id": "d32EpOzEmE7t",
        "colab_type": "code",
        "colab": {}
      },
      "source": [
        "answers = []\n",
        "keys = []\n",
        "for item in answers_dict_sorted.items():\n",
        "  answers.append(item[0])\n",
        "  keys.append(item[1])"
      ],
      "execution_count": 0,
      "outputs": []
    },
    {
      "cell_type": "code",
      "metadata": {
        "id": "2oVVC9oqja57",
        "colab_type": "code",
        "colab": {}
      },
      "source": [
        "answers.reverse()\n",
        "keys.reverse()"
      ],
      "execution_count": 0,
      "outputs": []
    },
    {
      "cell_type": "code",
      "metadata": {
        "id": "S_Ad6vx_8LhB",
        "colab_type": "code",
        "colab": {}
      },
      "source": [
        "#top 10 answers\n",
        "top_5_answers = answers[:5]\n",
        "top_5_keys = keys[:5]"
      ],
      "execution_count": 0,
      "outputs": []
    },
    {
      "cell_type": "code",
      "metadata": {
        "id": "kmMETsW6-q8U",
        "colab_type": "code",
        "colab": {}
      },
      "source": [
        "temp_answer_list = []\n",
        "i = 0\n",
        "for key in top_5_keys:\n",
        "  for _ in range(0,key):\n",
        "    temp_answer_list.append(top_5_answers[i])\n",
        "  i += 1"
      ],
      "execution_count": 0,
      "outputs": []
    },
    {
      "cell_type": "markdown",
      "metadata": {
        "id": "sxzR9Cj8FhBF",
        "colab_type": "text"
      },
      "source": [
        "<b>\n",
        "Article title can be used while giving the sentence for tokenizing later \n",
        "Question do we need to preprocess the data\n",
        "Answer mai kitne repeated h\n",
        "</b>\n"
      ]
    },
    {
      "cell_type": "code",
      "metadata": {
        "id": "iGGxT8LNFgjE",
        "colab_type": "code",
        "outputId": "638273eb-6a57-430d-9194-9a3d5fb7879e",
        "colab": {
          "base_uri": "https://localhost:8080/",
          "height": 265
        }
      },
      "source": [
        "plt.hist(temp_answer_list, 10,\n",
        "         histtype='bar',\n",
        "         facecolor='b',\n",
        "         alpha=0.5)\n",
        "plt.show()"
      ],
      "execution_count": 51,
      "outputs": [
        {
          "output_type": "display_data",
          "data": {
            "image/png": "[encoded data removed]",
            "text/plain": [
              "<Figure size 432x288 with 1 Axes>"
            ]
          },
          "metadata": {
            "tags": []
          }
        }
      ]
    },
    {
      "cell_type": "markdown",
      "metadata": {
        "id": "X3t4K_gaAT8t",
        "colab_type": "text"
      },
      "source": [
        "From the above graph we can observe that \n",
        "<b>yes</b> and <b>no</b> replies are the most common answers in the mails "
      ]
    },
    {
      "cell_type": "code",
      "metadata": {
        "id": "Sg-JhYeCYAhe",
        "colab_type": "code",
        "outputId": "d4c6ba27-9c9a-4fdc-9597-e0ae7f9e595f",
        "colab": {
          "base_uri": "https://localhost:8080/",
          "height": 561
        }
      },
      "source": [
        "import matplotlib\n",
        "matplotlib.rc('figure', figsize=[50,5])\n",
        "#Getting the length of each Answer\n",
        "data[\"Answer Length\"]= data[\"Answer\"].str.len()\n",
        "len_answers = data[\"Answer Length\"].values\n",
        "\n",
        "#converting datatype to string\n",
        "len_str_arr = []\n",
        "for num in len_answers:\n",
        "  len_str_arr.append(str(num)) \n",
        "\n",
        "no_reply_counter = 0\n",
        "for num in len_answers:\n",
        "  if num == 0:\n",
        "    no_reply_counter += 1\n",
        "\n",
        "temp_arr = []\n",
        "for indx in len_answers:\n",
        "  if indx == 0:\n",
        "    continue\n",
        "  else:\n",
        "    temp_arr.append(indx)\n",
        "    \n",
        "print(\"number of email don' have any reply\", end = ' : ')\n",
        "print(no_reply_counter)\n",
        "print('*' * 50)\n",
        "\n",
        "print('Max length', end = ' : ')\n",
        "print(max(list(len_answers)))\n",
        "print('*' * 50)\n",
        "\n",
        "print('Min Length', end = ' : ')\n",
        "print(min(list(temp_arr)))\n",
        "print('*' * 50)\n",
        "\n",
        "print(\"Average Length\", end = ' : ')\n",
        "print((sum(list(len_answers)))/(len(list(len_answers))))\n",
        "print('*' * 50)\n",
        "\n",
        "print(\"No of unique replies\", end = ' : ')\n",
        "print(len(list(set(len_answers))))\n",
        "print('*' * 50)\n",
        "\n",
        "\n",
        "print('-' * 50)\n",
        "print(\"Distribution of the words\")\n",
        "print('-' * 50)\n",
        "\n",
        "plt.hist(len_str_arr, 200,\n",
        "         histtype='bar',\n",
        "         facecolor='r',\n",
        "         alpha=0.5)\n",
        "plt.show()"
      ],
      "execution_count": 58,
      "outputs": [
        {
          "output_type": "stream",
          "text": [
            "number of email don' have any reply : 1\n",
            "**************************************************\n",
            "Max length : 920\n",
            "**************************************************\n",
            "Min Length : 1\n",
            "**************************************************\n",
            "Average Length : 24.696948920123415\n",
            "**************************************************\n",
            "No of unique replies : 169\n",
            "**************************************************\n",
            "--------------------------------------------------\n",
            "Distribution of the words\n",
            "--------------------------------------------------\n"
          ],
          "name": "stdout"
        },
        {
          "output_type": "display_data",
          "data": {
            "image/png": "[encoded data removed]",
            "text/plain": [
              "<Figure size 3600x360 with 1 Axes>"
            ]
          },
          "metadata": {
            "tags": []
          }
        }
      ]
    },
    {
      "cell_type": "markdown",
      "metadata": {
        "id": "oZLHjHWArFA6",
        "colab_type": "text"
      },
      "source": [
        "From above graphs and data we observed that <b>maximun replies have less words. </b><br><br>\n",
        "and <b>average length</b> if reply is nearly <b>25</b> words<br><br>\n",
        "We have <b>169</b> unique replies\n"
      ]
    },
    {
      "cell_type": "markdown",
      "metadata": {
        "id": "QujyL73prseT",
        "colab_type": "text"
      },
      "source": [
        "<h2> Check for emails </h2>"
      ]
    },
    {
      "cell_type": "code",
      "metadata": {
        "id": "rtqw89lviMMr",
        "colab_type": "code",
        "colab": {}
      },
      "source": [
        "all_questions = data['Question'].values"
      ],
      "execution_count": 0,
      "outputs": []
    },
    {
      "cell_type": "code",
      "metadata": {
        "id": "O6l_1hStAynl",
        "colab_type": "code",
        "colab": {}
      },
      "source": [
        "#Preprocessing Questions \n",
        "#Remove the full stops from the dataframe answers\n",
        "\n",
        "bad_chars = [';', ':', '!', \"*\",'.',')','(','?']\n",
        "\n",
        "preprocessed_question = []\n",
        "for question in all_questions:\n",
        "  for i in bad_chars : \n",
        "    question = question.replace(i, '')\n",
        "  preprocessed_question.append(question)\n",
        "\n"
      ],
      "execution_count": 0,
      "outputs": []
    },
    {
      "cell_type": "code",
      "metadata": {
        "id": "zrlzs4y1Ay5g",
        "colab_type": "code",
        "colab": {}
      },
      "source": [
        "data['Question'] = preprocessed_question"
      ],
      "execution_count": 0,
      "outputs": []
    },
    {
      "cell_type": "code",
      "metadata": {
        "id": "bHv6ShjNiMSf",
        "colab_type": "code",
        "colab": {
          "base_uri": "https://localhost:8080/",
          "height": 561
        },
        "outputId": "1b512f1c-ba05-4e00-f64b-f6f32cf7222b"
      },
      "source": [
        "import matplotlib\n",
        "matplotlib.rc('figure', figsize=[50,5])\n",
        "#Getting the length of each Answer\n",
        "data[\"Question_length\"]= data[\"Question\"].str.len()\n",
        "len_questions = data[\"Question_length\"].values\n",
        "\n",
        "#converting datatype to string\n",
        "len_str_arr = []\n",
        "for num in len_questions:\n",
        "  len_str_arr.append(str(num)) \n",
        "\n",
        "no_reply_counter = 0\n",
        "for num in len_questions:\n",
        "  if num == 0:\n",
        "    no_reply_counter += 1\n",
        "\n",
        "temp_arr = []\n",
        "for indx in len_questions:\n",
        "  if indx == 0:\n",
        "    continue\n",
        "  else:\n",
        "    temp_arr.append(indx)\n",
        "    \n",
        "print(\"number of email don' have any reply\", end = ' : ')\n",
        "print(no_reply_counter)\n",
        "print('*' * 50)\n",
        "\n",
        "print('Max length', end = ' : ')\n",
        "print(max(list(len_questions)))\n",
        "print('*' * 50)\n",
        "\n",
        "print('Min Length', end = ' : ')\n",
        "print(min(list(temp_arr)))\n",
        "print('*' * 50)\n",
        "\n",
        "print(\"Average Length\", end = ' : ')\n",
        "print((sum(list(len_questions)))/(len(list(len_questions))))\n",
        "print('*' * 50)\n",
        "\n",
        "print(\"No of unique replies\", end = ' : ')\n",
        "print(len(list(set(len_questions))))\n",
        "print('*' * 50)\n",
        "\n",
        "\n",
        "print('-' * 50)\n",
        "print(\"Distribution of the words\")\n",
        "print('-' * 50)\n",
        "\n",
        "plt.hist(len_str_arr, 200,\n",
        "         histtype='bar',\n",
        "         facecolor='r',\n",
        "         alpha=0.5)\n",
        "plt.show()"
      ],
      "execution_count": 63,
      "outputs": [
        {
          "output_type": "stream",
          "text": [
            "number of email don' have any reply : 0\n",
            "**************************************************\n",
            "Max length : 270\n",
            "**************************************************\n",
            "Min Length : 4\n",
            "**************************************************\n",
            "Average Length : 51.784367500857044\n",
            "**************************************************\n",
            "No of unique replies : 156\n",
            "**************************************************\n",
            "--------------------------------------------------\n",
            "Distribution of the words\n",
            "--------------------------------------------------\n"
          ],
          "name": "stdout"
        },
        {
          "output_type": "display_data",
          "data": {
            "image/png": "[encoded data removed]",
            "text/plain": [
              "<Figure size 3600x360 with 1 Axes>"
            ]
          },
          "metadata": {
            "tags": []
          }
        }
      ]
    },
    {
      "cell_type": "markdown",
      "metadata": {
        "id": "PC-6hJeos4lk",
        "colab_type": "text"
      },
      "source": [
        "From the above graph we can observe that we have minimum of <b>4</b> character in the email<br><br>\n",
        "maximum length of the Questions is <b>270</b><br><br>\n",
        "and we have unique distribution of <b>156</b> questions."
      ]
    },
    {
      "cell_type": "markdown",
      "metadata": {
        "id": "AX-JCQQyCL0Q",
        "colab_type": "text"
      },
      "source": [
        "Top Unique distribution of Questions in dataset"
      ]
    },
    {
      "cell_type": "code",
      "metadata": {
        "id": "FmeoeW6OCIzQ",
        "colab_type": "code",
        "colab": {
          "base_uri": "https://localhost:8080/",
          "height": 111
        },
        "outputId": "274b54eb-c883-4c20-a749-ba50153adab5"
      },
      "source": [
        "data.head(2)"
      ],
      "execution_count": 66,
      "outputs": [
        {
          "output_type": "execute_result",
          "data": {
            "text/html": [
              "<div>\n",
              "<style scoped>\n",
              "    .dataframe tbody tr th:only-of-type {\n",
              "        vertical-align: middle;\n",
              "    }\n",
              "\n",
              "    .dataframe tbody tr th {\n",
              "        vertical-align: top;\n",
              "    }\n",
              "\n",
              "    .dataframe thead th {\n",
              "        text-align: right;\n",
              "    }\n",
              "</style>\n",
              "<table border=\"1\" class=\"dataframe\">\n",
              "  <thead>\n",
              "    <tr style=\"text-align: right;\">\n",
              "      <th></th>\n",
              "      <th>ArticleTitle</th>\n",
              "      <th>Question</th>\n",
              "      <th>Answer</th>\n",
              "      <th>DifficultyFromQuestioner</th>\n",
              "      <th>DifficultyFromAnswerer</th>\n",
              "      <th>ArticleFile</th>\n",
              "      <th>Answer Length</th>\n",
              "      <th>Question_length</th>\n",
              "    </tr>\n",
              "  </thead>\n",
              "  <tbody>\n",
              "    <tr>\n",
              "      <th>0</th>\n",
              "      <td>alessandro_volta</td>\n",
              "      <td>was volta an italian physicist</td>\n",
              "      <td>yes</td>\n",
              "      <td>easy</td>\n",
              "      <td>easy</td>\n",
              "      <td>data/set4/a10</td>\n",
              "      <td>3</td>\n",
              "      <td>31</td>\n",
              "    </tr>\n",
              "    <tr>\n",
              "      <th>1</th>\n",
              "      <td>alessandro_volta</td>\n",
              "      <td>is volta buried in the city of pittsburgh</td>\n",
              "      <td>no</td>\n",
              "      <td>easy</td>\n",
              "      <td>easy</td>\n",
              "      <td>data/set4/a10</td>\n",
              "      <td>2</td>\n",
              "      <td>42</td>\n",
              "    </tr>\n",
              "  </tbody>\n",
              "</table>\n",
              "</div>"
            ],
            "text/plain": [
              "       ArticleTitle  ... Question_length\n",
              "0  alessandro_volta  ...              31\n",
              "1  alessandro_volta  ...              42\n",
              "\n",
              "[2 rows x 8 columns]"
            ]
          },
          "metadata": {
            "tags": []
          },
          "execution_count": 66
        }
      ]
    },
    {
      "cell_type": "code",
      "metadata": {
        "colab_type": "code",
        "id": "UBIUdsE8Cs_9",
        "colab": {}
      },
      "source": [
        "#trimming the string the dataframe  \n",
        "#because after removal of the special character trimming might have lost\n",
        "data = data.applymap(lambda x: x.strip() if isinstance(x, str) else x)\n"
      ],
      "execution_count": 0,
      "outputs": []
    },
    {
      "cell_type": "code",
      "metadata": {
        "colab_type": "code",
        "id": "5SSTC69ECtAC",
        "colab": {}
      },
      "source": [
        "question_list = list(data['Question'].values)\n",
        "questions_dict = {i:question_list.count(i) for i in question_list}"
      ],
      "execution_count": 0,
      "outputs": []
    },
    {
      "cell_type": "code",
      "metadata": {
        "colab_type": "code",
        "id": "MQMpPIG6CtAD",
        "colab": {}
      },
      "source": [
        "from collections import OrderedDict\n",
        "questions_dict_sorted = OrderedDict(sorted(questions_dict.items(), key=lambda x: x[1]))"
      ],
      "execution_count": 0,
      "outputs": []
    },
    {
      "cell_type": "code",
      "metadata": {
        "colab_type": "code",
        "id": "zfBW6l0kCtAF",
        "colab": {}
      },
      "source": [
        "questions = []\n",
        "keys = []\n",
        "for item in questions_dict_sorted.items():\n",
        "  questions.append(item[0])\n",
        "  keys.append(item[1])"
      ],
      "execution_count": 0,
      "outputs": []
    },
    {
      "cell_type": "code",
      "metadata": {
        "colab_type": "code",
        "id": "Ly-dFxnXCtAH",
        "colab": {}
      },
      "source": [
        "questions.reverse()\n",
        "keys.reverse()"
      ],
      "execution_count": 0,
      "outputs": []
    },
    {
      "cell_type": "code",
      "metadata": {
        "colab_type": "code",
        "id": "kEZ2na2FCtAL",
        "colab": {}
      },
      "source": [
        "#top 10 answers\n",
        "top_5_questions = questions[:5]\n",
        "top_5_keys = keys[:5]"
      ],
      "execution_count": 0,
      "outputs": []
    },
    {
      "cell_type": "code",
      "metadata": {
        "colab_type": "code",
        "id": "XJtdgsG4CtAO",
        "colab": {}
      },
      "source": [
        "temp_questions_list = []\n",
        "i = 0\n",
        "for key in top_5_keys:\n",
        "  for _ in range(0,key):\n",
        "    temp_questions_list.append(top_5_questions[i])\n",
        "  i += 1"
      ],
      "execution_count": 0,
      "outputs": []
    },
    {
      "cell_type": "code",
      "metadata": {
        "colab_type": "code",
        "outputId": "5a17d3b9-710c-4371-82aa-176b1a86a79e",
        "id": "E2sCoPEpCtAQ",
        "colab": {
          "base_uri": "https://localhost:8080/",
          "height": 265
        }
      },
      "source": [
        "import matplotlib\n",
        "matplotlib.rc('figure', figsize=[20,4])\n",
        "plt.hist(temp_questions_list, 50,\n",
        "         histtype='bar',\n",
        "         facecolor='g',\n",
        "         alpha=0.5)\n",
        "plt.show()"
      ],
      "execution_count": 85,
      "outputs": [
        {
          "output_type": "display_data",
          "data": {
            "image/png": "[encoded data removed]",
            "text/plain": [
              "<Figure size 1440x288 with 1 Axes>"
            ]
          },
          "metadata": {
            "tags": []
          }
        }
      ]
    },
    {
      "cell_type": "markdown",
      "metadata": {
        "id": "3ilQK6LLEAB-",
        "colab_type": "text"
      },
      "source": [
        "Here we can see the top 5 repeated questions,<br>\n",
        "&nbsp;&nbsp;&nbsp;&nbsp;&nbsp;&nbsp;&nbsp;&nbsp; It's not looking usefull for any interpretation"
      ]
    },
    {
      "cell_type": "code",
      "metadata": {
        "id": "zIpAzHbDDfoD",
        "colab_type": "code",
        "colab": {}
      },
      "source": [
        ""
      ],
      "execution_count": 0,
      "outputs": []
    }
  ]
}