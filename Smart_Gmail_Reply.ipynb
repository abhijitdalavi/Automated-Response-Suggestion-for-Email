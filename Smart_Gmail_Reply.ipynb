{
  "nbformat": 4,
  "nbformat_minor": 0,
  "metadata": {
    "colab": {
      "name": "Reverted_Smart_Gmail_Reply_14Nov_latest.ipynb",
      "provenance": [],
      "collapsed_sections": [
        "IDH7zDPp8wgU"
      ],
      "toc_visible": true,
      "machine_shape": "hm",
      "include_colab_link": true
    },
    "kernelspec": {
      "name": "python3",
      "display_name": "Python 3"
    },
    "accelerator": "GPU"
  },
  "cells": [
    {
      "cell_type": "markdown",
      "metadata": {
        "id": "view-in-github",
        "colab_type": "text"
      },
      "source": [
        "<a href=\"https://colab.research.google.com/github/yatindma/Automated-Response-Suggestion-for-Email/blob/master/Smart_Gmail_Reply.ipynb\" target=\"_parent\"><img src=\"https://colab.research.google.com/assets/colab-badge.svg\" alt=\"Open In Colab\"/></a>"
      ]
    },
    {
      "cell_type": "markdown",
      "metadata": {
        "id": "t0B6vYT4gFCH",
        "colab_type": "text"
      },
      "source": [
        "<h2> Overview </h2>\n",
        "\n",
        "Here we'll try to predict the Short email responses.<br>\n",
        "As most of the emails have shorter replies.<br>\n",
        "So that it can be easy to reply, without the hassle of typing.<br>\n",
        "It can help in saving the time of the person.<br>\n",
        "\n",
        "########################################################\n",
        "\n",
        "Will update later.\n",
        "########################################################\n",
        "\n",
        "\n",
        "[my kilnkn](www.com)\n",
        "\n",
        "\n"
      ]
    },
    {
      "cell_type": "code",
      "metadata": {
        "id": "C02AflfXgEUP",
        "colab_type": "code",
        "colab": {}
      },
      "source": [
        "import pandas as pd\n",
        "import numpy as np\n",
        "import matplotlib.pyplot as plt\n",
        "%matplotlib inline\n",
        "import pickle"
      ],
      "execution_count": 0,
      "outputs": []
    },
    {
      "cell_type": "markdown",
      "metadata": {
        "id": "IDH7zDPp8wgU",
        "colab_type": "text"
      },
      "source": [
        "# Attention Layer"
      ]
    },
    {
      "cell_type": "code",
      "metadata": {
        "id": "ratVBBpp8yNT",
        "colab_type": "code",
        "outputId": "c72bb224-d214-435f-d992-02438c977126",
        "colab": {
          "base_uri": "https://localhost:8080/",
          "height": 0
        }
      },
      "source": [
        "import tensorflow as tf\n",
        "import os\n",
        "from tensorflow.python.keras.layers import Layer\n",
        "from tensorflow.python.keras import backend as K\n",
        "\n",
        "\n",
        "class AttentionLayer(Layer):\n",
        "    \"\"\"\n",
        "    This class implements Bahdanau attention (https://arxiv.org/pdf/1409.0473.pdf).\n",
        "    There are three sets of weights introduced W_a, U_a, and V_a\n",
        "     \"\"\"\n",
        "\n",
        "    def __init__(self, **kwargs):\n",
        "        super(AttentionLayer, self).__init__(**kwargs)\n",
        "\n",
        "    def build(self, input_shape):\n",
        "        assert isinstance(input_shape, list)\n",
        "        # Create a trainable weight variable for this layer.\n",
        "\n",
        "        self.W_a = self.add_weight(name='W_a',\n",
        "                                   shape=tf.TensorShape((input_shape[0][2], input_shape[0][2])),\n",
        "                                   initializer='uniform',\n",
        "                                   trainable=True)\n",
        "        self.U_a = self.add_weight(name='U_a',\n",
        "                                   shape=tf.TensorShape((input_shape[1][2], input_shape[0][2])),\n",
        "                                   initializer='uniform',\n",
        "                                   trainable=True)\n",
        "        self.V_a = self.add_weight(name='V_a',\n",
        "                                   shape=tf.TensorShape((input_shape[0][2], 1)),\n",
        "                                   initializer='uniform',\n",
        "                                   trainable=True)\n",
        "\n",
        "        super(AttentionLayer, self).build(input_shape)  # Be sure to call this at the end\n",
        "\n",
        "    def call(self, inputs, verbose=False):\n",
        "        print(\"here at call \")\n",
        "        \"\"\"\n",
        "        inputs: [encoder_output_sequence, decoder_output_sequence]\n",
        "        \"\"\"\n",
        "        assert type(inputs) == list\n",
        "        encoder_out_seq, decoder_out_seq = inputs\n",
        "        if verbose:\n",
        "            print('encoder_out_seq>', encoder_out_seq.shape)\n",
        "            print('decoder_out_seq>', decoder_out_seq.shape)\n",
        "\n",
        "        def energy_step(inputs, states):\n",
        "            print(\"here at energy_step \")\n",
        "            \"\"\" Step function for computing energy for a single decoder state \"\"\"\n",
        "            assert_msg = \"States must be a list. However states {} is of type {}\".format(states, type(states))\n",
        "            assert isinstance(states, list) or isinstance(states, tuple), assert_msg\n",
        "\n",
        "            \"\"\" Some parameters required for shaping tensors\"\"\"\n",
        "            en_seq_len, en_hidden = encoder_out_seq.shape[1], encoder_out_seq.shape[2]\n",
        "            \n",
        "            de_hidden = inputs.shape[-1]\n",
        "            print(\"here is error1\")\n",
        "            \"\"\" Computing S.Wa where S=[s0, s1, ..., si]\"\"\"\n",
        "            # <= batch_size*en_seq_len, latent_dim\n",
        "            reshaped_enc_outputs = K.reshape(encoder_out_seq, (-1, en_hidden))\n",
        "            print(\"here is error2\")\n",
        "            # <= batch_size*en_seq_len, latent_dim\n",
        "            W_a_dot_s = K.reshape(K.dot(reshaped_enc_outputs, self.W_a), (-1, en_seq_len, en_hidden)) # error is happening\n",
        "            \n",
        "            print(\"no error till here\")\n",
        "            if verbose:\n",
        "                print('wa.s>',W_a_dot_s.shape)\n",
        "\n",
        "            \"\"\" Computing hj.Ua \"\"\"\n",
        "            U_a_dot_h = K.expand_dims(K.dot(inputs, self.U_a), 1)  # <= batch_size, 1, latent_dim\n",
        "            if verbose:\n",
        "                print('Ua.h>',U_a_dot_h.shape)\n",
        "\n",
        "            \"\"\" tanh(S.Wa + hj.Ua) \"\"\"\n",
        "            # <= batch_size*en_seq_len, latent_dim\n",
        "            reshaped_Ws_plus_Uh = K.tanh(K.reshape(W_a_dot_s + U_a_dot_h, (-1, en_hidden)))\n",
        "            if verbose:\n",
        "                print('Ws+Uh>', reshaped_Ws_plus_Uh.shape)\n",
        "\n",
        "            \"\"\" softmax(va.tanh(S.Wa + hj.Ua)) \"\"\"\n",
        "            # <= batch_size, en_seq_len\n",
        "            e_i = K.reshape(K.dot(reshaped_Ws_plus_Uh, self.V_a), (-1, en_seq_len))\n",
        "            # <= batch_size, en_seq_len\n",
        "            e_i = K.softmax(e_i)\n",
        "\n",
        "            if verbose:\n",
        "                print('ei>', e_i.shape)\n",
        "\n",
        "            return e_i, [e_i]\n",
        "\n",
        "        def context_step(inputs, states):\n",
        "            \"\"\" Step function for computing ci using ei \"\"\"\n",
        "            print(\"here at context_step \")\n",
        "            # <= batch_size, hidden_size\n",
        "            c_i = K.sum(encoder_out_seq * K.expand_dims(inputs, -1), axis=1)\n",
        "            if verbose:\n",
        "                print('ci>', c_i.shape)\n",
        "            return c_i, [c_i]\n",
        "\n",
        "        def create_inital_state(inputs, hidden_size):\n",
        "            print(\"here at create_inital_state \")\n",
        "            # We are not using initial states, but need to pass something to K.rnn funciton\n",
        "            fake_state = K.zeros_like(inputs)  # <= (batch_size, enc_seq_len, latent_dim\n",
        "            fake_state = K.sum(fake_state, axis=[1, 2])  # <= (batch_size)\n",
        "            fake_state = K.expand_dims(fake_state)  # <= (batch_size, 1)\n",
        "            fake_state = K.tile(fake_state, [1, hidden_size])  # <= (batch_size, latent_dim\n",
        "            print(\"reaching here\")\n",
        "            return fake_state\n",
        "\n",
        "        fake_state_c = create_inital_state(encoder_out_seq, encoder_out_seq.shape[-1])\n",
        "        fake_state_e = create_inital_state(encoder_out_seq, encoder_out_seq.shape[1])    # <= (batch_size, enc_seq_len, latent_dim\n",
        "\n",
        "        \"\"\" Computing energy outputs \"\"\"\n",
        "        # e_outputs => (batch_size, de_seq_len, en_seq_len)\n",
        "        last_out, e_outputs, _ = K.rnn(\n",
        "            energy_step, decoder_out_seq, [fake_state_e],\n",
        "        )\n",
        "\n",
        "        \"\"\" Computing context vectors \"\"\"\n",
        "        last_out, c_outputs, _ = K.rnn(\n",
        "            context_step, e_outputs, [fake_state_c],\n",
        "        )\n",
        "\n",
        "        return c_outputs, e_outputs\n",
        "\n",
        "    def compute_output_shape(self, input_shape):\n",
        "        \"\"\" Outputs produced by the layer \"\"\"\n",
        "        print(\"here at compute_output_shape \")\n",
        "        return [\n",
        "            tf.TensorShape((input_shape[1][0], input_shape[1][1], input_shape[1][2])),\n",
        "            tf.TensorShape((input_shape[1][0], input_shape[1][1], input_shape[0][1]))\n",
        "        ]"
      ],
      "execution_count": 2,
      "outputs": [
        {
          "output_type": "display_data",
          "data": {
            "text/html": [
              "<p style=\"color: red;\">\n",
              "The default version of TensorFlow in Colab will soon switch to TensorFlow 2.x.<br>\n",
              "We recommend you <a href=\"https://www.tensorflow.org/guide/migrate\" target=\"_blank\">upgrade</a> now \n",
              "or ensure your notebook will continue to use TensorFlow 1.x via the <code>%tensorflow_version 1.x</code> magic:\n",
              "<a href=\"https://colab.research.google.com/notebooks/tensorflow_version.ipynb\" target=\"_blank\">more info</a>.</p>\n"
            ],
            "text/plain": [
              "<IPython.core.display.HTML object>"
            ]
          },
          "metadata": {
            "tags": []
          }
        }
      ]
    },
    {
      "cell_type": "markdown",
      "metadata": {
        "id": "6DWZSzjLHzu2",
        "colab_type": "text"
      },
      "source": [
        "# Reading the data"
      ]
    },
    {
      "cell_type": "code",
      "metadata": {
        "id": "iwEkTdfTBXdN",
        "colab_type": "code",
        "colab": {
          "base_uri": "https://localhost:8080/",
          "height": 124
        },
        "outputId": "eaf707a3-90b5-48a6-a5f5-aeac2aadc7e3"
      },
      "source": [
        "# Load the Drive helper and mount\n",
        "from google.colab import drive\n",
        "# This will prompt for authorization.\n",
        "drive.mount('/content/drive')"
      ],
      "execution_count": 3,
      "outputs": [
        {
          "output_type": "stream",
          "text": [
            "Go to this URL in a browser: https://accounts.google.com/o/oauth2/auth?client_id=947318989803-6bn6qk8qdgf4n4g3pfee6491hc0brc4i.apps.googleusercontent.com&redirect_uri=urn%3aietf%3awg%3aoauth%3a2.0%3aoob&response_type=code&scope=email%20https%3a%2f%2fwww.googleapis.com%2fauth%2fdocs.test%20https%3a%2f%2fwww.googleapis.com%2fauth%2fdrive%20https%3a%2f%2fwww.googleapis.com%2fauth%2fdrive.photos.readonly%20https%3a%2f%2fwww.googleapis.com%2fauth%2fpeopleapi.readonly\n",
            "\n",
            "Enter your authorization code:\n",
            "··········\n",
            "Mounted at /content/drive\n"
          ],
          "name": "stdout"
        }
      ]
    },
    {
      "cell_type": "code",
      "metadata": {
        "id": "3Q_E3Tr9Elm-",
        "colab_type": "code",
        "colab": {}
      },
      "source": [
        "data = pd.read_csv('qa_dataset.csv', encoding = \"ISO-8859-1\", low_memory=False) "
      ],
      "execution_count": 0,
      "outputs": []
    },
    {
      "cell_type": "code",
      "metadata": {
        "id": "XAmSgysK0MQA",
        "colab_type": "code",
        "outputId": "89407c6f-4f41-44d4-eb5b-897024a96a03",
        "colab": {
          "base_uri": "https://localhost:8080/",
          "height": 108
        }
      },
      "source": [
        "data.head(2)"
      ],
      "execution_count": 5,
      "outputs": [
        {
          "output_type": "execute_result",
          "data": {
            "text/html": [
              "<div>\n",
              "<style scoped>\n",
              "    .dataframe tbody tr th:only-of-type {\n",
              "        vertical-align: middle;\n",
              "    }\n",
              "\n",
              "    .dataframe tbody tr th {\n",
              "        vertical-align: top;\n",
              "    }\n",
              "\n",
              "    .dataframe thead th {\n",
              "        text-align: right;\n",
              "    }\n",
              "</style>\n",
              "<table border=\"1\" class=\"dataframe\">\n",
              "  <thead>\n",
              "    <tr style=\"text-align: right;\">\n",
              "      <th></th>\n",
              "      <th>ArticleTitle</th>\n",
              "      <th>Question</th>\n",
              "      <th>Answer</th>\n",
              "      <th>DifficultyFromQuestioner</th>\n",
              "      <th>DifficultyFromAnswerer</th>\n",
              "      <th>ArticleFile</th>\n",
              "    </tr>\n",
              "  </thead>\n",
              "  <tbody>\n",
              "    <tr>\n",
              "      <th>0</th>\n",
              "      <td>Alessandro_Volta</td>\n",
              "      <td>Was Volta an Italian physicist?</td>\n",
              "      <td>yes</td>\n",
              "      <td>easy</td>\n",
              "      <td>easy</td>\n",
              "      <td>data/set4/a10</td>\n",
              "    </tr>\n",
              "    <tr>\n",
              "      <th>1</th>\n",
              "      <td>Alessandro_Volta</td>\n",
              "      <td>Is Volta buried in the city of Pittsburgh?</td>\n",
              "      <td>no</td>\n",
              "      <td>easy</td>\n",
              "      <td>easy</td>\n",
              "      <td>data/set4/a10</td>\n",
              "    </tr>\n",
              "  </tbody>\n",
              "</table>\n",
              "</div>"
            ],
            "text/plain": [
              "       ArticleTitle  ...    ArticleFile\n",
              "0  Alessandro_Volta  ...  data/set4/a10\n",
              "1  Alessandro_Volta  ...  data/set4/a10\n",
              "\n",
              "[2 rows x 6 columns]"
            ]
          },
          "metadata": {
            "tags": []
          },
          "execution_count": 5
        }
      ]
    },
    {
      "cell_type": "code",
      "metadata": {
        "id": "nYz7vVbk0Ooj",
        "colab_type": "code",
        "colab": {}
      },
      "source": [
        "data.columns = ['1','English','french','qw','ed','rf']"
      ],
      "execution_count": 0,
      "outputs": []
    },
    {
      "cell_type": "code",
      "metadata": {
        "id": "ZzfwTmtsE8_3",
        "colab_type": "code",
        "outputId": "f412a36f-df3e-4af3-c630-656062399fad",
        "colab": {
          "base_uri": "https://localhost:8080/",
          "height": 432
        }
      },
      "source": [
        "# Columns\n",
        "# Description of the data frame\n",
        "print(\"=\"*25 + \" Data Overview \" + \"=\"*25)\n",
        "print(\"\\n\", data.info(), \"\\n\")\n",
        "print(\"=\"*25 + \" Sample Data \" + \"=\"*25)\n",
        "print(data.head(5))"
      ],
      "execution_count": 7,
      "outputs": [
        {
          "output_type": "stream",
          "text": [
            "========================= Data Overview =========================\n",
            "<class 'pandas.core.frame.DataFrame'>\n",
            "RangeIndex: 2917 entries, 0 to 2916\n",
            "Data columns (total 6 columns):\n",
            "1          2917 non-null object\n",
            "English    2917 non-null object\n",
            "french     2917 non-null object\n",
            "qw         2237 non-null object\n",
            "ed         2912 non-null object\n",
            "rf         2915 non-null object\n",
            "dtypes: object(6)\n",
            "memory usage: 136.9+ KB\n",
            "\n",
            " None \n",
            "\n",
            "========================= Sample Data =========================\n",
            "                  1  ...             rf\n",
            "0  Alessandro_Volta  ...  data/set4/a10\n",
            "1  Alessandro_Volta  ...  data/set4/a10\n",
            "2  Alessandro_Volta  ...  data/set4/a10\n",
            "3  Alessandro_Volta  ...  data/set4/a10\n",
            "4  Alessandro_Volta  ...  data/set4/a10\n",
            "\n",
            "[5 rows x 6 columns]\n"
          ],
          "name": "stdout"
        }
      ]
    },
    {
      "cell_type": "markdown",
      "metadata": {
        "id": "pECRLhTzU804",
        "colab_type": "text"
      },
      "source": [
        "### Preprocessing"
      ]
    },
    {
      "cell_type": "code",
      "metadata": {
        "id": "IsWUBd8RmE0a",
        "colab_type": "code",
        "outputId": "59577626-b1a6-4fb0-aeea-4c40f6f15d79",
        "colab": {
          "base_uri": "https://localhost:8080/",
          "height": 168
        }
      },
      "source": [
        "# Convert data into lower case\n",
        "data = data.apply(lambda x: x.astype(str).str.lower())\n",
        "data.head(4)"
      ],
      "execution_count": 8,
      "outputs": [
        {
          "output_type": "execute_result",
          "data": {
            "text/html": [
              "<div>\n",
              "<style scoped>\n",
              "    .dataframe tbody tr th:only-of-type {\n",
              "        vertical-align: middle;\n",
              "    }\n",
              "\n",
              "    .dataframe tbody tr th {\n",
              "        vertical-align: top;\n",
              "    }\n",
              "\n",
              "    .dataframe thead th {\n",
              "        text-align: right;\n",
              "    }\n",
              "</style>\n",
              "<table border=\"1\" class=\"dataframe\">\n",
              "  <thead>\n",
              "    <tr style=\"text-align: right;\">\n",
              "      <th></th>\n",
              "      <th>1</th>\n",
              "      <th>English</th>\n",
              "      <th>french</th>\n",
              "      <th>qw</th>\n",
              "      <th>ed</th>\n",
              "      <th>rf</th>\n",
              "    </tr>\n",
              "  </thead>\n",
              "  <tbody>\n",
              "    <tr>\n",
              "      <th>0</th>\n",
              "      <td>alessandro_volta</td>\n",
              "      <td>was volta an italian physicist?</td>\n",
              "      <td>yes</td>\n",
              "      <td>easy</td>\n",
              "      <td>easy</td>\n",
              "      <td>data/set4/a10</td>\n",
              "    </tr>\n",
              "    <tr>\n",
              "      <th>1</th>\n",
              "      <td>alessandro_volta</td>\n",
              "      <td>is volta buried in the city of pittsburgh?</td>\n",
              "      <td>no</td>\n",
              "      <td>easy</td>\n",
              "      <td>easy</td>\n",
              "      <td>data/set4/a10</td>\n",
              "    </tr>\n",
              "    <tr>\n",
              "      <th>2</th>\n",
              "      <td>alessandro_volta</td>\n",
              "      <td>did volta have a passion for the study of elec...</td>\n",
              "      <td>yes</td>\n",
              "      <td>easy</td>\n",
              "      <td>medium</td>\n",
              "      <td>data/set4/a10</td>\n",
              "    </tr>\n",
              "    <tr>\n",
              "      <th>3</th>\n",
              "      <td>alessandro_volta</td>\n",
              "      <td>what is the battery made by volta credited to be?</td>\n",
              "      <td>the first cell</td>\n",
              "      <td>medium</td>\n",
              "      <td>medium</td>\n",
              "      <td>data/set4/a10</td>\n",
              "    </tr>\n",
              "  </tbody>\n",
              "</table>\n",
              "</div>"
            ],
            "text/plain": [
              "                  1  ...             rf\n",
              "0  alessandro_volta  ...  data/set4/a10\n",
              "1  alessandro_volta  ...  data/set4/a10\n",
              "2  alessandro_volta  ...  data/set4/a10\n",
              "3  alessandro_volta  ...  data/set4/a10\n",
              "\n",
              "[4 rows x 6 columns]"
            ]
          },
          "metadata": {
            "tags": []
          },
          "execution_count": 8
        }
      ]
    },
    {
      "cell_type": "code",
      "metadata": {
        "id": "w98pHMKvmFGP",
        "colab_type": "code",
        "colab": {}
      },
      "source": [
        "# Remove the full stops from the dataframe frenchs\n",
        "bad_chars = [';', ':', '!', \"*\",'.',')','(','?']\n",
        "preprocessed_frenchs = []\n",
        "\n",
        "for french in data['french'].values:\n",
        "  for i in bad_chars : \n",
        "    french = french.replace(i, '')\n",
        "  preprocessed_frenchs.append(french)\n",
        "\n",
        "data['french'] = preprocessed_frenchs\n",
        "data['french'] = 'start_ ' + data['french'] + ' _end'"
      ],
      "execution_count": 0,
      "outputs": []
    },
    {
      "cell_type": "code",
      "metadata": {
        "id": "-wRHxbSH5Q77",
        "colab_type": "code",
        "colab": {}
      },
      "source": [
        "# trim the string the dataframe  \n",
        "data = data.applymap(lambda x: x.strip() if isinstance(x, str) else x)"
      ],
      "execution_count": 0,
      "outputs": []
    },
    {
      "cell_type": "code",
      "metadata": {
        "id": "7qYQ4x4p3xYj",
        "colab_type": "code",
        "outputId": "36962db7-71ec-4cd8-b69c-005cce31c771",
        "colab": {
          "base_uri": "https://localhost:8080/",
          "height": 108
        }
      },
      "source": [
        "data.head(2)"
      ],
      "execution_count": 11,
      "outputs": [
        {
          "output_type": "execute_result",
          "data": {
            "text/html": [
              "<div>\n",
              "<style scoped>\n",
              "    .dataframe tbody tr th:only-of-type {\n",
              "        vertical-align: middle;\n",
              "    }\n",
              "\n",
              "    .dataframe tbody tr th {\n",
              "        vertical-align: top;\n",
              "    }\n",
              "\n",
              "    .dataframe thead th {\n",
              "        text-align: right;\n",
              "    }\n",
              "</style>\n",
              "<table border=\"1\" class=\"dataframe\">\n",
              "  <thead>\n",
              "    <tr style=\"text-align: right;\">\n",
              "      <th></th>\n",
              "      <th>1</th>\n",
              "      <th>English</th>\n",
              "      <th>french</th>\n",
              "      <th>qw</th>\n",
              "      <th>ed</th>\n",
              "      <th>rf</th>\n",
              "    </tr>\n",
              "  </thead>\n",
              "  <tbody>\n",
              "    <tr>\n",
              "      <th>0</th>\n",
              "      <td>alessandro_volta</td>\n",
              "      <td>was volta an italian physicist?</td>\n",
              "      <td>start_ yes _end</td>\n",
              "      <td>easy</td>\n",
              "      <td>easy</td>\n",
              "      <td>data/set4/a10</td>\n",
              "    </tr>\n",
              "    <tr>\n",
              "      <th>1</th>\n",
              "      <td>alessandro_volta</td>\n",
              "      <td>is volta buried in the city of pittsburgh?</td>\n",
              "      <td>start_ no _end</td>\n",
              "      <td>easy</td>\n",
              "      <td>easy</td>\n",
              "      <td>data/set4/a10</td>\n",
              "    </tr>\n",
              "  </tbody>\n",
              "</table>\n",
              "</div>"
            ],
            "text/plain": [
              "                  1  ...             rf\n",
              "0  alessandro_volta  ...  data/set4/a10\n",
              "1  alessandro_volta  ...  data/set4/a10\n",
              "\n",
              "[2 rows x 6 columns]"
            ]
          },
          "metadata": {
            "tags": []
          },
          "execution_count": 11
        }
      ]
    },
    {
      "cell_type": "code",
      "metadata": {
        "colab_type": "code",
        "id": "aVDO3G8X2DjP",
        "colab": {}
      },
      "source": [
        "frenchs_list = list(data['french'].values)\n",
        "frenchs_dict = {i:frenchs_list.count(i) for i in frenchs_list}"
      ],
      "execution_count": 0,
      "outputs": []
    },
    {
      "cell_type": "code",
      "metadata": {
        "colab_type": "code",
        "id": "yNfvv1i12DjY",
        "colab": {}
      },
      "source": [
        "from collections import OrderedDict\n",
        "frenchs_dict_sorted = OrderedDict(sorted(frenchs_dict.items(), key=lambda x: x[1]))"
      ],
      "execution_count": 0,
      "outputs": []
    },
    {
      "cell_type": "code",
      "metadata": {
        "id": "d32EpOzEmE7t",
        "colab_type": "code",
        "colab": {}
      },
      "source": [
        "frenchs = []\n",
        "keys = []\n",
        "for item in frenchs_dict_sorted.items():\n",
        "  frenchs.append(item[0])\n",
        "  keys.append(item[1])"
      ],
      "execution_count": 0,
      "outputs": []
    },
    {
      "cell_type": "code",
      "metadata": {
        "id": "2oVVC9oqja57",
        "colab_type": "code",
        "colab": {}
      },
      "source": [
        "frenchs.reverse()\n",
        "keys.reverse()"
      ],
      "execution_count": 0,
      "outputs": []
    },
    {
      "cell_type": "code",
      "metadata": {
        "id": "S_Ad6vx_8LhB",
        "colab_type": "code",
        "colab": {}
      },
      "source": [
        "#top 10 frenchs\n",
        "top_5_frenchs = frenchs[:5]\n",
        "top_5_keys = keys[:5]"
      ],
      "execution_count": 0,
      "outputs": []
    },
    {
      "cell_type": "code",
      "metadata": {
        "id": "kmMETsW6-q8U",
        "colab_type": "code",
        "colab": {}
      },
      "source": [
        "temp_french_list = []\n",
        "i = 0\n",
        "for key in top_5_keys:\n",
        "  for _ in range(0,key):\n",
        "    temp_french_list.append(top_5_frenchs[i])\n",
        "  i += 1"
      ],
      "execution_count": 0,
      "outputs": []
    },
    {
      "cell_type": "markdown",
      "metadata": {
        "id": "sxzR9Cj8FhBF",
        "colab_type": "text"
      },
      "source": [
        "<b>\n",
        "Article title can be used while giving the sentence for tokenizing later \n",
        "English do we need to preprocess the data\n",
        "french mai kitne repeated h\n",
        "</b>\n"
      ]
    },
    {
      "cell_type": "code",
      "metadata": {
        "id": "iGGxT8LNFgjE",
        "colab_type": "code",
        "outputId": "48f520a3-9a43-43b3-d68e-6fdec36f312b",
        "colab": {
          "base_uri": "https://localhost:8080/",
          "height": 266
        }
      },
      "source": [
        "plt.hist(temp_french_list, 10,\n",
        "         histtype='bar',\n",
        "         facecolor='b',\n",
        "         alpha=0.5)\n",
        "plt.show()"
      ],
      "execution_count": 18,
      "outputs": [
        {
          "output_type": "display_data",
          "data": {
            "image/png": "[encoded data removed]",
            "text/plain": [
              "<Figure size 432x288 with 1 Axes>"
            ]
          },
          "metadata": {
            "tags": []
          }
        }
      ]
    },
    {
      "cell_type": "markdown",
      "metadata": {
        "id": "X3t4K_gaAT8t",
        "colab_type": "text"
      },
      "source": [
        "From the above graph we can observe that \n",
        "<b>yes</b> and <b>no</b> replies are the most common frenchs in the mails "
      ]
    },
    {
      "cell_type": "code",
      "metadata": {
        "id": "Sg-JhYeCYAhe",
        "colab_type": "code",
        "outputId": "569be7f9-dcad-4b46-c2cd-7c4392078ce5",
        "colab": {
          "base_uri": "https://localhost:8080/",
          "height": 565
        }
      },
      "source": [
        "import matplotlib\n",
        "matplotlib.rc('figure', figsize=[50,5])\n",
        "#Getting the length of each french\n",
        "data[\"french Length\"]= data[\"french\"].str.len()\n",
        "len_frenchs = data[\"french Length\"].values\n",
        "\n",
        "#converting datatype to string\n",
        "len_str_arr = []\n",
        "for num in len_frenchs:\n",
        "  len_str_arr.append(str(num)) \n",
        "\n",
        "no_reply_counter = 0\n",
        "for num in len_frenchs:\n",
        "  if num == 0:\n",
        "    no_reply_counter += 1\n",
        "\n",
        "temp_arr = []\n",
        "for indx in len_frenchs:\n",
        "  if indx == 0:\n",
        "    continue\n",
        "  else:\n",
        "    temp_arr.append(indx)\n",
        "    \n",
        "print(\"number of email don' have any reply\", end = ' : ')\n",
        "print(no_reply_counter)\n",
        "print('*' * 50)\n",
        "\n",
        "print('Max length', end = ' : ')\n",
        "print(max(list(len_frenchs)))\n",
        "print('*' * 50)\n",
        "\n",
        "print('Min Length', end = ' : ')\n",
        "print(min(list(temp_arr)))\n",
        "print('*' * 50)\n",
        "\n",
        "print(\"Average Length\", end = ' : ')\n",
        "print((sum(list(len_frenchs)))/(len(list(len_frenchs))))\n",
        "print('*' * 50)\n",
        "\n",
        "print(\"No of unique replies\", end = ' : ')\n",
        "print(len(list(set(len_frenchs))))\n",
        "print('*' * 50)\n",
        "\n",
        "\n",
        "print('-' * 50)\n",
        "print(\"Distribution of the words\")\n",
        "print('-' * 50)\n",
        "\n",
        "plt.hist(len_str_arr, 200,\n",
        "         histtype='bar',\n",
        "         facecolor='r',\n",
        "         alpha=0.5)\n",
        "plt.show()"
      ],
      "execution_count": 19,
      "outputs": [
        {
          "output_type": "stream",
          "text": [
            "number of email don' have any reply : 0\n",
            "**************************************************\n",
            "Max length : 932\n",
            "**************************************************\n",
            "Min Length : 12\n",
            "**************************************************\n",
            "Average Length : 36.72163181350703\n",
            "**************************************************\n",
            "No of unique replies : 168\n",
            "**************************************************\n",
            "--------------------------------------------------\n",
            "Distribution of the words\n",
            "--------------------------------------------------\n"
          ],
          "name": "stdout"
        },
        {
          "output_type": "display_data",
          "data": {
            "image/png": "[encoded data removed]",
            "text/plain": [
              "<Figure size 3600x360 with 1 Axes>"
            ]
          },
          "metadata": {
            "tags": []
          }
        }
      ]
    },
    {
      "cell_type": "code",
      "metadata": {
        "id": "I9k0S5bCuStM",
        "colab_type": "code",
        "colab": {}
      },
      "source": [
        "# data['french'] = 'start_ ' + data['french'] + ' _end'"
      ],
      "execution_count": 0,
      "outputs": []
    },
    {
      "cell_type": "markdown",
      "metadata": {
        "id": "oZLHjHWArFA6",
        "colab_type": "text"
      },
      "source": [
        "From above graphs and data we observed that <b>maximun replies have less words. </b><br><br>\n",
        "and <b>average length</b> if reply is nearly <b>25</b> words<br><br>\n",
        "We have <b>169</b> unique replies\n"
      ]
    },
    {
      "cell_type": "markdown",
      "metadata": {
        "id": "QujyL73prseT",
        "colab_type": "text"
      },
      "source": [
        "<h2> Check for emails </h2>"
      ]
    },
    {
      "cell_type": "code",
      "metadata": {
        "id": "rtqw89lviMMr",
        "colab_type": "code",
        "colab": {}
      },
      "source": [
        "all_Englishs = data['English'].values"
      ],
      "execution_count": 0,
      "outputs": []
    },
    {
      "cell_type": "code",
      "metadata": {
        "id": "O6l_1hStAynl",
        "colab_type": "code",
        "colab": {}
      },
      "source": [
        "#Preprocessing Englishs \n",
        "#Remove the full stops from the dataframe frenchs\n",
        "\n",
        "bad_chars = [';', ':', '!', \"*\",'.',')','(','?']\n",
        "\n",
        "preprocessed_English = []\n",
        "for English in all_Englishs:\n",
        "  for i in bad_chars : \n",
        "    English = English.replace(i, '')\n",
        "  preprocessed_English.append(English)\n",
        "\n"
      ],
      "execution_count": 0,
      "outputs": []
    },
    {
      "cell_type": "markdown",
      "metadata": {
        "id": "17OJ8r9UbMbe",
        "colab_type": "text"
      },
      "source": [
        "<h3> Words stemming </h3>"
      ]
    },
    {
      "cell_type": "code",
      "metadata": {
        "id": "wTp7oYSKYVH2",
        "colab_type": "code",
        "colab": {}
      },
      "source": [
        "#Performing stammering here\n",
        "# We are having less data\n",
        "from nltk.stem import PorterStemmer\n",
        "porter = PorterStemmer()\n",
        "stemmed_sent = []\n",
        "for sent in preprocessed_English:\n",
        "  word_arr = []\n",
        "  for word in sent.split():\n",
        "    word_arr.append(porter.stem(word))\n",
        "  temp_str = \"\"\n",
        "  for words in word_arr:\n",
        "    temp_str += words + \" \"\n",
        "  stemmed_sent.append(temp_str)"
      ],
      "execution_count": 0,
      "outputs": []
    },
    {
      "cell_type": "code",
      "metadata": {
        "id": "zrlzs4y1Ay5g",
        "colab_type": "code",
        "colab": {}
      },
      "source": [
        "data['English'] = stemmed_sent"
      ],
      "execution_count": 0,
      "outputs": []
    },
    {
      "cell_type": "code",
      "metadata": {
        "id": "ir4gNpv7bmW3",
        "colab_type": "code",
        "colab": {}
      },
      "source": [
        "#trimming the string the dataframe  \n",
        "#because after removal of the special character trimming might have lost\n",
        "data = data.applymap(lambda x: x.strip() if isinstance(x, str) else x)\n"
      ],
      "execution_count": 0,
      "outputs": []
    },
    {
      "cell_type": "code",
      "metadata": {
        "id": "bHv6ShjNiMSf",
        "colab_type": "code",
        "outputId": "851fc31b-286f-4798-d032-85ecfd6aef95",
        "colab": {
          "base_uri": "https://localhost:8080/",
          "height": 565
        }
      },
      "source": [
        "import matplotlib\n",
        "matplotlib.rc('figure', figsize=[50,5])\n",
        "#Getting the length of each french\n",
        "data[\"English_length\"]= data[\"English\"].str.len()\n",
        "len_Englishs = data[\"English_length\"].values\n",
        "\n",
        "#converting datatype to string\n",
        "len_str_arr = []\n",
        "for num in len_Englishs:\n",
        "  len_str_arr.append(str(num)) \n",
        "\n",
        "no_reply_counter = 0\n",
        "for num in len_Englishs:\n",
        "  if num == 0:\n",
        "    no_reply_counter += 1\n",
        "\n",
        "temp_arr = []\n",
        "for indx in len_Englishs:\n",
        "  if indx == 0:\n",
        "    continue\n",
        "  else:\n",
        "    temp_arr.append(indx)\n",
        "    \n",
        "print(\"number of email don' have any reply\", end = ' : ')\n",
        "print(no_reply_counter)\n",
        "print('*' * 50)\n",
        "\n",
        "print('Max length', end = ' : ')\n",
        "print(max(list(len_Englishs)))\n",
        "print('*' * 50)\n",
        "\n",
        "print('Min Length', end = ' : ')\n",
        "print(min(list(temp_arr)))\n",
        "print('*' * 50)\n",
        "\n",
        "print(\"Average Length\", end = ' : ')\n",
        "print((sum(list(len_Englishs)))/(len(list(len_Englishs))))\n",
        "print('*' * 50)\n",
        "\n",
        "print(\"No of unique replies\", end = ' : ')\n",
        "print(len(list(set(len_Englishs))))\n",
        "print('*' * 50)\n",
        "\n",
        "\n",
        "print('-' * 50)\n",
        "print(\"Distribution of the words\")\n",
        "print('-' * 50)\n",
        "\n",
        "plt.hist(len_str_arr, 200,\n",
        "         histtype='bar',\n",
        "         facecolor='r',\n",
        "         alpha=0.5)\n",
        "plt.show()"
      ],
      "execution_count": 26,
      "outputs": [
        {
          "output_type": "stream",
          "text": [
            "number of email don' have any reply : 0\n",
            "**************************************************\n",
            "Max length : 236\n",
            "**************************************************\n",
            "Min Length : 4\n",
            "**************************************************\n",
            "Average Length : 46.40281110730202\n",
            "**************************************************\n",
            "No of unique replies : 144\n",
            "**************************************************\n",
            "--------------------------------------------------\n",
            "Distribution of the words\n",
            "--------------------------------------------------\n"
          ],
          "name": "stdout"
        },
        {
          "output_type": "display_data",
          "data": {
            "image/png": "[encoded data removed]",
            "text/plain": [
              "<Figure size 3600x360 with 1 Axes>"
            ]
          },
          "metadata": {
            "tags": []
          }
        }
      ]
    },
    {
      "cell_type": "markdown",
      "metadata": {
        "id": "PC-6hJeos4lk",
        "colab_type": "text"
      },
      "source": [
        "From the above graph we can observe that we have minimum of <b>4</b> character in the email<br><br>\n",
        "maximum length of the Englishs is <b>270</b><br><br>\n",
        "and we have unique distribution of <b>156</b> Englishs."
      ]
    },
    {
      "cell_type": "markdown",
      "metadata": {
        "id": "AX-JCQQyCL0Q",
        "colab_type": "text"
      },
      "source": [
        "Top Unique distribution of Englishs in dataset"
      ]
    },
    {
      "cell_type": "code",
      "metadata": {
        "colab_type": "code",
        "id": "5SSTC69ECtAC",
        "colab": {}
      },
      "source": [
        "English_list = list(data['English'].values)\n",
        "Englishs_dict = {i:English_list.count(i) for i in English_list}"
      ],
      "execution_count": 0,
      "outputs": []
    },
    {
      "cell_type": "code",
      "metadata": {
        "colab_type": "code",
        "id": "MQMpPIG6CtAD",
        "colab": {}
      },
      "source": [
        "from collections import OrderedDict\n",
        "Englishs_dict_sorted = OrderedDict(sorted(Englishs_dict.items(), key=lambda x: x[1]))"
      ],
      "execution_count": 0,
      "outputs": []
    },
    {
      "cell_type": "code",
      "metadata": {
        "id": "QAdwbRCA4FuG",
        "colab_type": "code",
        "colab": {
          "base_uri": "https://localhost:8080/",
          "height": 1000
        },
        "outputId": "ac82b0f5-b0da-455d-b1c6-0140a8483e14"
      },
      "source": [
        "Englishs_dict_sorted"
      ],
      "execution_count": 29,
      "outputs": [
        {
          "output_type": "execute_result",
          "data": {
            "text/plain": [
              "OrderedDict([('wa volta an italian physicist', 1),\n",
              "             ('is volta buri in the citi of pittsburgh', 1),\n",
              "             ('did volta have a passion for the studi of electr', 1),\n",
              "             ('what is the batteri made by volta credit to be', 1),\n",
              "             ('where did volta enter retir', 1),\n",
              "             ('is it a disadvantag for someth to be unsaf to handl', 1),\n",
              "             (\"wa lombardi under napoleon' rule in 1800\", 1),\n",
              "             ('wa the italian 10000 lira banknot creat befor the euro', 1),\n",
              "             ('for how mani year did alessandro volta live', 1),\n",
              "             ('did alessandro volta live to be 80 year old', 1),\n",
              "             ('what wa alessandro volta` profess', 1),\n",
              "             ('how old wa alessandro volta when he die', 1),\n",
              "             ('how mani year ago wa it when volta marri the daughter of count ludovico peregrini , teresa , with whom he rais three son',\n",
              "              1),\n",
              "             ('is the electrolyt sulphur acid', 1),\n",
              "             ('is volta buri in the citi of como', 1),\n",
              "             ('wa hi 1800 paper written in french', 1),\n",
              "             ('befor 1796, wa lombardi rule by austria', 1),\n",
              "             ('did he receiv the society` 1794 copley medal', 1),\n",
              "             ('did he experi with individu cell', 1),\n",
              "             ('when did lombardi come under napoleon` rule', 1),\n",
              "             ('where did he publish hi invent of the voltaic pile batteri', 1),\n",
              "             ('did he becom professor of experiment physic at the univers of pavia',\n",
              "              1),\n",
              "             ('is it true that hi passion been alway the studi of electr', 1),\n",
              "             ('hi passion been alway the studi of what', 1),\n",
              "             ('is it true that volta marri the daughter of count ludovico peregrini',\n",
              "              1),\n",
              "             ('is it true that he publish hi invent of the voltaic pile batteri',\n",
              "              1),\n",
              "             ('wa amedeo avogadro italian', 1),\n",
              "             ('did amedeo avogadro graduat', 1),\n",
              "             ('did avogadro live in england', 1),\n",
              "             ('where wa avogadro a professor of physic', 1),\n",
              "             ('how mani children did avogadro have', 1),\n",
              "             ('what is avogadro most note for', 1),\n",
              "             (\"what is avogadro' number\", 1),\n",
              "             ('what subject did avogadro studi first', 1),\n",
              "             ('what wa amedeo avogadro` birthplac', 1),\n",
              "             ('what wa amedeo avogadro` profess', 1),\n",
              "             ('how mani year ago wa it when he becam a professor of physic at the univers of turin',\n",
              "              1),\n",
              "             ('what is amedeo avogadro` first name', 1),\n",
              "             ('what is amedeo avogadro` last name', 1),\n",
              "             ('wa amedeo avogadro born in north america', 1),\n",
              "             ('in fact, wa avogadro `s famou 1811 paper written in french', 1),\n",
              "             ('is avogadro `s number commonli use to comput the result of chemic reaction',\n",
              "              1),\n",
              "             ('hence, can rel molecular mass be calcul from the mass of ga sampl',\n",
              "              1),\n",
              "             ('did he publish hi work', 1),\n",
              "             ('did avogadro submit hi poem', 1),\n",
              "             ('is it true that loschmidt calcul first the valu of avogadro number',\n",
              "              1),\n",
              "             ('loschmidt calcul first the valu of what', 1),\n",
              "             ('henc , can rel molecular mass be calcul from the mass of ga sampl',\n",
              "              1),\n",
              "             ('can the titl of thi famou 1811 paper be roughli translat into english as \"essay on determin the rel mass of the elementari molecul of bodies\"',\n",
              "              1),\n",
              "             ('what is amedeo avogadro', 1),\n",
              "             ('where is amedeo avogadro from', 1),\n",
              "             ('when did ander celciu publish hi observ on the aurora boreali',\n",
              "              1),\n",
              "             ('what is the boil point of water depend on', 1),\n",
              "             ('whad did celsiu report in hi paper \"observ of two persist degre on a thermometer\"',\n",
              "              1),\n",
              "             ('how old wa celsiu when he die', 1),\n",
              "             ('what is temperatur would water have to be to be halfway between it standard boil and freez point',\n",
              "              1),\n",
              "             ('what wa ander celsius` profess', 1),\n",
              "             ('how old wa ander celsiu when he die', 1),\n",
              "             ('what is ander celsius` last name', 1),\n",
              "             ('wa ander celsiu novemb 27 , 1701 april 25 , 1744 a swedish astronom',\n",
              "              1),\n",
              "             ('wa ander celsiu the first to perform and publish care experi aim at the definit of an intern temperatur scale on scientif ground',\n",
              "              1),\n",
              "             ('wa he professor at uppsala univers', 1),\n",
              "             ('is it true that he publish a collect of 316 observ', 1),\n",
              "             ('he publish a collect of what', 1),\n",
              "             ('can syllabl begin with a vowel', 1),\n",
              "             ('are calligraph held in great esteem', 1),\n",
              "             ('have mani european languag borrow numer word from it', 1),\n",
              "             ('are the most activ in damascu and cairo', 1),\n",
              "             ('do arab consid literari arab', 1),\n",
              "             ('the sociolinguist situat of arab provid a prime exampl of what',\n",
              "              1),\n",
              "             ('are pronoun in literari arab mark for person , number and gender',\n",
              "              1),\n",
              "             ('howev , are non-human plural noun grammat consid to be feminin singular',\n",
              "              1),\n",
              "             ('is a bee an insect', 1),\n",
              "             ('are bee relat to ant', 1),\n",
              "             ('have manag popul of european honey bee experienc substanti declin',\n",
              "              1),\n",
              "             ('where do bee live', 1),\n",
              "             ('when do bumblebe coloni reach peak popul', 1),\n",
              "             ('what do peopl commonli call cleptoparasit bee', 1),\n",
              "             ('how did vespoid wasp evolv', 1),\n",
              "             ('what do human use bee for', 1),\n",
              "             ('whi do honey bee queen continu to lay egg dure the forag season',\n",
              "              1),\n",
              "             ('doe beij mean \"northern capital\"', 1),\n",
              "             ('are the cave of dragon bone hill near the villag of zhoukoudian in fangshan district',\n",
              "              1),\n",
              "             ('are hutong disappear', 1),\n",
              "             ('when did beij host the olymp game', 1),\n",
              "             ('when wa the an shi rebellion launch', 1),\n",
              "             ('in 1949, where did communist forc enter without a fight', 1),\n",
              "             ('when did yuan shikai die', 1),\n",
              "             ('where doe air pollut in beij come from', 1),\n",
              "             ('as of august 1st, 2006, how mani train stop daili at the beij railway station or the beij west railway station',\n",
              "              1),\n",
              "             ('what is the name of a univers or similar institut for impart higher educ in beij',\n",
              "              1),\n",
              "             ('are famou middl school in beij', 1),\n",
              "             ('wa blais pascal a mathematician of the first order', 1),\n",
              "             ('ha the name pascal been given to the si unit of pressur', 1),\n",
              "             ('what is the best physician', 1),\n",
              "             ('who wa the eldest sibl', 1),\n",
              "             (\"asid from the provinci letters' religi influence, were they popular as a literari work\",\n",
              "              1),\n",
              "             ('of whose continu poor health wa the caus never precis determin',\n",
              "              1),\n",
              "             ('is the violin cello a bow string instrument', 1),\n",
              "             ('is the purfl just for decor', 1),\n",
              "             ('are the z-hole use as access point to the interior of the cello',\n",
              "              1),\n",
              "             ('what doe violincello mean', 1),\n",
              "             ('what are the two materi that bow are made of tradit', 1),\n",
              "             ('is there cello in perform by rihanna', 1),\n",
              "             ('are cello construct with glue', 1),\n",
              "             ('is the cello a string instrument', 1),\n",
              "             ('what is cello an abbrevi of', 1),\n",
              "             ('what is a person who play the cello call', 1),\n",
              "             ('whi is there purl on a cello', 1),\n",
              "             ('what cello manufactur should i buy from if i want to play outsid',\n",
              "              1),\n",
              "             ('wa charles-augustin de coulomb a member of the nation institut',\n",
              "              1),\n",
              "             ('did charles-augustin de coulomb find ani relationship between electr charg and magnet pole',\n",
              "              1),\n",
              "             (\"wa charles-augustin de coulomb' father' famili in montpelli\",\n",
              "              1),\n",
              "             ('what contribut did charles-augustin de coulomb make to the field of geotechn engin',\n",
              "              1),\n",
              "             ('if charles-augustin de coulomb wa aliv today, how old would he have been',\n",
              "              1),\n",
              "             ('for how mani year did charles-augustin de coulomb live', 1),\n",
              "             ('did charles-augustin de coulomb live to be 80 year old', 1),\n",
              "             ('how old wa charles-augustin de coulomb when he die', 1),\n",
              "             ('how mani year ago did he resign hi appoint as intend de eaux et fontain',\n",
              "              1),\n",
              "             ('how mani year ago did charles-augustin de coulomb die', 1),\n",
              "             ('wa the si unit of charg , the coulomb , name after him', 1),\n",
              "             ('wa coulomb born in angoulãªme, franc , to a well to do famili',\n",
              "              1),\n",
              "             ('wa hi father , henri coulomb , inspector of the royal field in montpelli',\n",
              "              1),\n",
              "             ('is coulomb distinguish in the histori of mechan and of electr and magnet',\n",
              "              1),\n",
              "             ('wa charl augustin de coulomb born june 14 , 1736 , angoulãªm , franc - die august 23 , 1806 , pari , franc a french physicist',\n",
              "              1),\n",
              "             ('doe coulomb leav a legaci', 1),\n",
              "             ('when wa charles-augustin de coulomb born', 1),\n",
              "             ('did he publish an import investig of the law of friction', 1),\n",
              "             ('wa coulomb born in angoulãªme, france, to a well to do famili',\n",
              "              1),\n",
              "             ('wa hi father inspector of the royal field', 1),\n",
              "             ('he discov an invers relationship of what', 1),\n",
              "             ('is it true that coulomb leav a legaci as a hero', 1),\n",
              "             ('where is charles-augustin de coulomb from', 1),\n",
              "             ('wa old chines wholli uninflect', 1),\n",
              "             ('are the modern chines dialect more like a famili', 1),\n",
              "             ('is it true that one-fifth of world popul speak some form of chines',\n",
              "              1),\n",
              "             ('one-fifth of world popul speak some form of what', 1),\n",
              "             ('is mandarin spoken chines distinguish by it high level', 1),\n",
              "             ('copenhagen is the capit of what countri', 1),\n",
              "             ('what transnat bridg wa complet in 2000', 1),\n",
              "             ('what happen to copenhagen between 1251 and 1255', 1),\n",
              "             ('is copenhagen complet surround with water', 1),\n",
              "             ('whi did german troop occupi copenhagen', 1),\n",
              "             ('have cymbal been use histor to suggest bacchan', 1),\n",
              "             ('can the origin of cymbal be trace to prehistor time', 1),\n",
              "             ('are cymbal use in moden orchestra', 1),\n",
              "             ('can the origin of cymbal be trace back to prehistor time', 1),\n",
              "             ('did the modern hi-hat evolv from clash cymbal', 1),\n",
              "             ('is the word cymbal deriv from a german word', 1),\n",
              "             ('what is the center of a cymbal call', 1),\n",
              "             ('what part of the cymbal get the best \"crash\"', 1),\n",
              "             ('what two instrument form the modern drum kit', 1),\n",
              "             ('what greek mythic creatur were depict hold cymbal', 1),\n",
              "             ('is dhaka the capit of bangladesh', 1),\n",
              "             ('is dhaka locat on the eastern bank of the buriganga river', 1),\n",
              "             ('is univers of dhaka the largest public univers in dhaka', 1),\n",
              "             ('how much area doe dhaka cover', 1),\n",
              "             ('how mani peopl did the 1970 bhola cyclon kill', 1),\n",
              "             ('when is the end of the independ war of bangladesh', 1),\n",
              "             ('did the mughal arriv in dhaka', 1),\n",
              "             ('is univers of dhaka older than the dhaka colleg', 1),\n",
              "             ('what is given for the number of nativ speaker', 1),\n",
              "             ('is english an inton languag', 1),\n",
              "             ('is english a de jure offici languag of israel', 1),\n",
              "             ('is the stress syllabl call the nuclear syllabl', 1),\n",
              "             ('doe english grammar have minim inflect', 1),\n",
              "             ('did old english develop into middl english', 1),\n",
              "             ('are books, magazines, and newspap written in english avail', 1),\n",
              "             ('is the syntax of german differ with differ rule', 1),\n",
              "             ('is it true that semant caus a number of fals friend', 1),\n",
              "             ('here , are all syllabl unstress , except the syllables/word best and done , which are stress',\n",
              "              1),\n",
              "             ('are mani word describ the navi , type of ship , and other object or activ on the water of dutch origin',\n",
              "              1),\n",
              "             ('are local variat in the formal written version of the languag quit limit , be restrict larg to the spell differ between british and american english',\n",
              "              1),\n",
              "             ('what doe the air stream across thi hole creat', 1),\n",
              "             ('are fox wari of human', 1),\n",
              "             ('are fennec fox endang', 1),\n",
              "             ('doe the diet of fox includ reptil', 1),\n",
              "             ('what are femal fox call', 1),\n",
              "             ('do fox damag fruit on farm', 1),\n",
              "             ('how mani year ago did african peopl spread across 31 francophon african countri can speak french either as a first or second languag',\n",
              "              1),\n",
              "             ('in old french, wa the plural for anim anim', 1),\n",
              "             ('is catalan the onli offici languag of andorra', 1),\n",
              "             ('in belgium, however, is quatre-vingt univers use', 1),\n",
              "             ('is french taught in mani school as a primari languag along with arab',\n",
              "              1),\n",
              "             ('what is wide use by the lebanese, especi for administr purpos',\n",
              "              1),\n",
              "             ('is french descend of the latin languag', 1),\n",
              "             ('are there also a varieti of region languag in addit', 1),\n",
              "             ('is it true that franc sign the european charter for region languag',\n",
              "              1),\n",
              "             ('are the prefix en- and em- alway nasal', 1),\n",
              "             ('how mani year ago wa the luther bibl by martin luther print',\n",
              "              1),\n",
              "             ('is german an inflect languag', 1),\n",
              "             ('in switzerland, is ã\\x9f use at all', 1),\n",
              "             ('are there two common word order', 1),\n",
              "             ('are feminin declin in the singular', 1),\n",
              "             ('is 9 % of the internet popul german', 1),\n",
              "             ('is german written use the latin alphabet', 1),\n",
              "             ('wa the luther bibl by martin luther print', 1),\n",
              "             ('doe a tz indic that the preced vowel is short', 1),\n",
              "             ('are there 622,650 speaker of german in canada', 1),\n",
              "             ('are there also larg popul of german ancestri in mexico', 1),\n",
              "             ('would bundeslã¤nd not accept north rhine westphalia and bavaria',\n",
              "              1),\n",
              "             ('have adverb of time to appear in the third place in the sentenc , just after the predic',\n",
              "              1),\n",
              "             ('do both sex of giraff have horn', 1),\n",
              "             ('do giraff give birth stand up', 1),\n",
              "             ('are giraff hunt for their hide', 1),\n",
              "             ('do male giraff weigh more than femal giraff', 1),\n",
              "             ('do male giraff have larger horn than femal giraff', 1),\n",
              "             ('are male femal gener taller than femal giraff', 1),\n",
              "             ('wa henri becquerel one of the discover of radioact', 1),\n",
              "             ('is the si unit for radioact name after him', 1),\n",
              "             ('wa henri becquerel a french physicist', 1),\n",
              "             ('in what year did henri becquerel win the nobel prize in physic',\n",
              "              1),\n",
              "             (\"wa henri becquerel first in hi famili to occupi the physic chair at the museum nation d'histoir naturel\",\n",
              "              1),\n",
              "             ('wa henri becquerel the sole winner of the 1903 nobel prize in physic',\n",
              "              1),\n",
              "             ('if henri becquerel wa aliv today, how old would he have been',\n",
              "              1),\n",
              "             ('for how mani year did henri becquerel live', 1),\n",
              "             ('did henri becquerel live to be 80 year old', 1),\n",
              "             ('what wa henri becquerel` profess', 1),\n",
              "             ('how old wa henri becquerel when he die', 1),\n",
              "             ('how mani year ago wa it when he becam the third in hi famili to occupi the physic chair at the musum nation d`histoir naturel',\n",
              "              1),\n",
              "             ('in 1908, the year of hi death, wa becquerel elect perman secretari of the acadã©mi de scienc',\n",
              "              1),\n",
              "             ('when wa henri becquerel born', 1),\n",
              "             ('did he becom chief engin in the depart of bridg and highway',\n",
              "              1),\n",
              "             ('did he share the nobel prize in physic', 1),\n",
              "             ('is it true that becquerel wrap a fluoresc substanc in photograph plate',\n",
              "              1),\n",
              "             ('becquerel wrap a fluoresc substanc in what', 1),\n",
              "             ('is there a becquerel crater on the moon for radioact', 1),\n",
              "             ('must â\\x80¦ one conclud from these experi that the phosphoresc substanc in question emit ray which pass through the opaqu paper and reduc silver salt',\n",
              "              1),\n",
              "             ('what is henri becquerel', 1),\n",
              "             ('where is henri becquerel from', 1),\n",
              "             ('how mani law of motion did netwon have', 1),\n",
              "             ('jame watt wa born where', 1),\n",
              "             (\"how mani of jame watt' children did not live to adulthood\", 1),\n",
              "             (\"jame watt rank first among how mani peopl in charl murray' survey of historiometri\",\n",
              "              1),\n",
              "             ('in what year did jame travel to lodon to studi instrument-mak',\n",
              "              1),\n",
              "             (\"for how mani year of jame watt' life wa hi mother aliv\", 1),\n",
              "             ('what is jame watt most famou for', 1),\n",
              "             ('do most japanes peopl employ polit', 1),\n",
              "             ('is it true that japanes borrow a consider number of word', 1),\n",
              "             ('are the sever dialect of kagoshima famou to speaker', 1),\n",
              "             ('is lima the capit of peru', 1),\n",
              "             ('is the museum of gold in lima', 1),\n",
              "             ('doe lima have volleybal venu', 1),\n",
              "             ('when wa lima found', 1),\n",
              "             ('where is the park of the reserv locat', 1),\n",
              "             ('what is a colectivo', 1),\n",
              "             ('is the nation univers of san marco in lima', 1),\n",
              "             ('ha the san lorenzo megaport project been complet', 1),\n",
              "             ('how mani year ago wa the lima stock exchang the most profit in the world',\n",
              "              1),\n",
              "             ('is rainfal veri low', 1),\n",
              "             ('is lima the capit and largest citi of peru', 1),\n",
              "             ('is the gdp per capita in lima $ 7,600 / ref', 1),\n",
              "             ('the spanish crown name pizarro governor of what', 1),\n",
              "             ('is it true that the idea of the enlighten shape the develop of the citi',\n",
              "              1),\n",
              "             ('the idea of the enlighten shape the develop of what', 1),\n",
              "             ('is london the capit of the unit kingdom', 1),\n",
              "             (\"doe london' popul draw from a wide rang of religion\", 1),\n",
              "             ('did caunt take control of the english throne in 101', 1),\n",
              "             ('how did civil war affect england dure the middl age', 1),\n",
              "             ('are the string of a classic lyre made of gut', 1),\n",
              "             ('doe a classic lyre have a sound-chest', 1),\n",
              "             ('is lyre play in mordern greec', 1),\n",
              "             ('which part of the string doe the left hand touch', 1),\n",
              "             ('in which place is lyre still play', 1),\n",
              "             ('doe a classic lyre have a fingerboard', 1),\n",
              "             ('is a guitar play with a plectrum like a lyre', 1),\n",
              "             ('wa michael faraday an english chemist', 1),\n",
              "             ('wa faraday a devout christian', 1),\n",
              "             ('wa faraday consid a gentleman', 1),\n",
              "             ('what did joseph henri like discov', 1),\n",
              "             ('who wa made to travel outsid the coach', 1),\n",
              "             ('did faraday construct the ancestor of modern power gener', 1),\n",
              "             ('did faraday lectur on educ in 1854', 1),\n",
              "             ('did faraday receiv an extens formal educ', 1),\n",
              "             ('did faraday discov the chemic substanc benzen', 1),\n",
              "             ('wa faraday born in england', 1),\n",
              "             ('who wa the sponsor and mentor of faraday', 1),\n",
              "             ('doe the product of chemic weapon rais an ethic issu', 1),\n",
              "             ('what wa the faraday effect first call', 1),\n",
              "             ('can you meet someon through attend a church', 1),\n",
              "             ('what wa michael faraday` birthplac', 1),\n",
              "             ('what wa michael faraday` profess', 1),\n",
              "             ('how mani year ago did faraday report on the first synthesi of compound make from carbon and chlorin , c 2 h 6 and c 2 h 4',\n",
              "              1),\n",
              "             ('how mani year ago wa it when he discov the phenomenon that he name diamagnet , and what is now call the faraday effect',\n",
              "              1),\n",
              "             ('how mani year ago wa it when faraday wrote a letter to the time on the subject of the foul condit of the river thame , which result in an oft-reprint cartoon in punch',\n",
              "              1),\n",
              "             ('how mani year ago wa it when he discov that the optic properti of gold colloid differ from those of the correspond bulk metal',\n",
              "              1),\n",
              "             ('wa educ anoth area of servic for faraday', 1),\n",
              "             ('wa faraday `s earliest chemic work as an assist to davi', 1),\n",
              "             ('who die at hi hous at hampton court on august 25, 1867', 1),\n",
              "             ('when wa michael faraday born', 1),\n",
              "             ('where did he serv two term', 1),\n",
              "             ('who wa born in newington butts, near present-day south london, england',\n",
              "              1),\n",
              "             ('is it true that institut form the foundat of electr motor technolog',\n",
              "              1),\n",
              "             ('institut form the foundat of what', 1),\n",
              "             ('wa hi father member of the sandemanian sect', 1),\n",
              "             ('wa faraday christian of the small sandemanian denomin', 1),\n",
              "             ('is nassau sound a bodi of water in main', 1),\n",
              "             ('wa nassau place in oper by robert fulton', 1),\n",
              "             ('who wa fort nassau built by', 1),\n",
              "             ('what is nassau coliseum', 1),\n",
              "             ('what wa the dead or aliv 4 fight arena model after', 1),\n",
              "             ('is nassau rang the highest mountain rang in the world', 1),\n",
              "             ('is nassau counti name after a german town', 1),\n",
              "             ('doe the unit state have a base near glasgow', 1),\n",
              "             ('did tesla studi electr engin', 1),\n",
              "             ('wa tesla born in the unit state', 1),\n",
              "             ('wa tesla hire by edison', 1),\n",
              "             ('when did tesla demonstr wireless commun radio', 1),\n",
              "             ('what is the si unit measur magnet flux densiti or magnet induct',\n",
              "              1),\n",
              "             ('wa tesla regard as a mad scientist', 1),\n",
              "             ('what type of current did tesla invent', 1),\n",
              "             ('is ottawa the capit of canada', 1),\n",
              "             ('doe ottawa sit on the ottowa river', 1),\n",
              "             ('do small tremor occur in ottawa', 1),\n",
              "             (\"what is ottawa' popul\", 1),\n",
              "             (\"what are ottawa' primari industri\", 1),\n",
              "             (\"what is ottawa' junior ice hockey team\", 1),\n",
              "             (\"what is ottawa' major leagu hockey team\", 1),\n",
              "             (\"what are carleton university' athlet team call\", 1),\n",
              "             ('is ottawa colder than moscow in januari', 1),\n",
              "             ('is ottawa on a river', 1),\n",
              "             ('doe it snow in ottawa', 1),\n",
              "             ('wa there a cholera outbreak in 1832', 1),\n",
              "             ('who is the mayor of ottawa', 1),\n",
              "             ('how mani township are in ottawa', 1),\n",
              "             (\"what wa ottawa' name in 1850\", 1),\n",
              "             ('base on the average, in what year will the next small tremor occur in ottawa',\n",
              "              1),\n",
              "             ('are there also discuss of have oc transpo light rail and sto transitway network link on the gatineau side of the ottawa river',\n",
              "              1),\n",
              "             ('doe the giant otter live in south america', 1),\n",
              "             ('do otter have claw', 1),\n",
              "             ('do otter eat fish', 1),\n",
              "             ('do otter enjoy play', 1),\n",
              "             ('do sea otter have a layer of fat like whale', 1),\n",
              "             ('is the otter in the same famili as the badger', 1),\n",
              "             ('are there ani citi name santiago in the unit state', 1),\n",
              "             ('wa santiago the name of an indie/punk band', 1),\n",
              "             ('is santiago a name in spanish', 1),\n",
              "             ('what is the order of santiago', 1),\n",
              "             ('is santiago the nation capit of a countri', 1),\n",
              "             ('is santiago spanish for st jame from santo , saint + iago , jame',\n",
              "              1),\n",
              "             ('is santiago spanish for st jame', 1),\n",
              "             ('what is santiago', 1),\n",
              "             ('ha swahili no diphthong', 1),\n",
              "             ('is a third prefix the object prefix', 1),\n",
              "             ('is / ref swahili unusu among sub-saharan languag', 1),\n",
              "             ('are vowel never reduc , regardless of stress', 1),\n",
              "             ('doe the australian black swan have white feather on it wing',\n",
              "              1),\n",
              "             ('do swan belong to the famili anatida', 1),\n",
              "             ('can black swan swim with onli one leg', 1),\n",
              "             ('what are young swan known as', 1),\n",
              "             ('what is the irish legend of the children of lir about', 1),\n",
              "             ('what is the sanskrit word for swan', 1),\n",
              "             ('which album wa the song \"the bonni swans\" from', 1),\n",
              "             ('which ballet by pyotr tchaikovski is partial base on an ancient german legend about a princess who wa turn into a swan',\n",
              "              1),\n",
              "             ('would a tiger be like to feedon smaller animals, such as mice',\n",
              "              1),\n",
              "             ('did the predecessor to trumpet have valv', 1),\n",
              "             ('are trumpet construct of brass', 1),\n",
              "             ('is the bass trumpet the smallest trumpet', 1),\n",
              "             ('what music style is the trumpet use in', 1),\n",
              "             ('what is the most common type of trumpet', 1),\n",
              "             ('how doe a trumpet produc sound', 1),\n",
              "             ('how do trumpet compens for wolf tone', 1),\n",
              "             ('did mile davi play the trumpet', 1),\n",
              "             ('doe a trumpet have a mellow tone than a cornet', 1),\n",
              "             ('is the name of the upper shell of a turtl call the plastron',\n",
              "              1),\n",
              "             ('how mani group are turtl broken down into', 1),\n",
              "             ('are testudin the crown group of the superord chelonia', 1),\n",
              "             ('do turtl breath air', 1),\n",
              "             ('are harvest wild turtl legal anywher', 1),\n",
              "             ('approxim how mani speci of testudin are aliv today', 1),\n",
              "             ('where is harvest wild turtl legal', 1),\n",
              "             ('is there a way to approxim the age of a turtl', 1),\n",
              "             ('can turtl spend all their time underwat', 1),\n",
              "             ('are violinist and fiddler the same thing', 1),\n",
              "             ('are violin a singl size', 1),\n",
              "             ('are viola and cello in the same famili of instrument as violin',\n",
              "              1),\n",
              "             ('whate is the usual pitch rang of a violin', 1),\n",
              "             ('are xylophon bar made of rosewood', 1),\n",
              "             ('is the xylophon a precursor to the vibraphon', 1),\n",
              "             ('were ancient mallet made of copper', 1),\n",
              "             ('where did the xylophon origin', 1),\n",
              "             ('what is the earliest histor refer in europ', 1),\n",
              "             ('how are western-styl xylophon characteris', 1),\n",
              "             ('can a xylophon be 3 octav', 1),\n",
              "             ('can a short bar follow a long bar', 1),\n",
              "             ('did vibraphon exist in 1930', 1),\n",
              "             ('who made volta a count', 1),\n",
              "             ('a year befor improv and popular the electrophorus, what did volta becom',\n",
              "              1),\n",
              "             ('what happen in 1810', 1),\n",
              "             (\"wasn't alessandro volta born in como\", 1),\n",
              "             ('wa alessandro volta born in como', 1),\n",
              "             ('who becam a professor of physic at the royal school in como',\n",
              "              1),\n",
              "             ('when wa volta made a count by napoleon', 1),\n",
              "             ('is volta\\x01 legaci celebr by a templ on the shore of lake como in the center of the town',\n",
              "              1),\n",
              "             ('is the batteri made by volta credit as the first electrochem cell',\n",
              "              1),\n",
              "             ('wa volta made a count by napoleon in 1810', 1),\n",
              "             ('in what year did he becom a professor of physic at the royal school in como',\n",
              "              1),\n",
              "             ('wa amedeo avogadro wa born in turin', 1),\n",
              "             ('is avogadro hail as a founder of the atomic-molecular theori',\n",
              "              1),\n",
              "             (\"did johann josef loschmidt first calcul the valu of avogadro' number\",\n",
              "              1),\n",
              "             ('in 1820, avogadro becam a professor of physic where', 1),\n",
              "             ('avogadro did not actual use what word', 1),\n",
              "             (\"what would a german call avogadro' number\", 1),\n",
              "             ('is amedeo avogadro italian', 1),\n",
              "             ('did he becom a professor befor the revolutionari movement against the king of sardinia',\n",
              "              1),\n",
              "             ('do ant belong to the hymenoptera order', 1),\n",
              "             ('are ant use in cuisin', 1),\n",
              "             (\"doe an ant' head contain sensori organ\", 1),\n",
              "             ('in ant colonies, what are the fertil femal ant call', 1),\n",
              "             ('do the ant eat plants, meats, or both', 1),\n",
              "             ('what organ give a bull ant it good sight', 1),\n",
              "             ('are ant found in antartica', 1),\n",
              "             ('do male ant take flight befor femal', 1),\n",
              "             ('do worker ant have wing', 1),\n",
              "             ('what are the three segment of an ant', 1),\n",
              "             ('what are the ant coloni that lack queen call', 1),\n",
              "             ('where are bullet ant locat', 1),\n",
              "             ('do ant belong to the same order as bee', 1),\n",
              "             ('what is the most common color of ant', 1),\n",
              "             ('do all ant build nest', 1),\n",
              "             ('ultraviolet vision wa first discov in ant by sir who in 1881',\n",
              "              1),\n",
              "             ('do ant thrive in most ecosystem', 1),\n",
              "             ('are sever speci of ant abl to use the earth\\x01 magnet field',\n",
              "              1),\n",
              "             ('are termit actual more close relat to cockroach as well as mantid',\n",
              "              1),\n",
              "             ('do some caterpillar produc vibrat as well as sound', 1),\n",
              "             ('did ant evolv from wasp-lik ancestor in the mid-cretac period between 110 and 130 million year ago and diversifi after the rise of flower plant',\n",
              "              1),\n",
              "             ('is the ant a marsupi', 1),\n",
              "             ('are they easili identifi by their elbow antenna and a distinct node-lik structur that form a slender waist',\n",
              "              1),\n",
              "             ('is antwerp a citi', 1),\n",
              "             ('is antwerp a municip', 1),\n",
              "             ('is antwerp in belgium', 1),\n",
              "             ('what is antwerp', 1),\n",
              "             ('what is the popul of the citi of antwerp', 1),\n",
              "             ('where is the citi of antwerp', 1),\n",
              "             ('whi is antwerp import to fashion', 1),\n",
              "             ('antwerp is to the east of what river', 1),\n",
              "             ('how mani municip doe antwerp have', 1),\n",
              "             ('is arab a central semit languag', 1),\n",
              "             ('wa arab a major vehicl of cultur in europ', 1),\n",
              "             ('is arab classifi alongsid semit languag', 1),\n",
              "             ('how mani peopl speak the arab languag', 1),\n",
              "             ('when wa arab calligraphi invent', 1),\n",
              "             ('where is arab spoken', 1),\n",
              "             ('whi is arab relat to islam', 1),\n",
              "             ('whi doe arab heavili influenc european languag', 1),\n",
              "             ('is arab the largest member of the semit languag famili', 1),\n",
              "             ('doe modern standard arab continu to evolv like other languag',\n",
              "              1),\n",
              "             ('is hassaniya arab spoken in mauritania', 1),\n",
              "             ('what is the onli varieti of modern arab that ha acquir offici languag statu',\n",
              "              1),\n",
              "             ('egyptian arab is spoken by how mani in egypt', 1),\n",
              "             ('the most activ academi of arab languag are found where', 1),\n",
              "             ('is berlin the headquart of springer', 1),\n",
              "             ('doe the gendarmenmarkt border the french cathedr', 1),\n",
              "             ('is the nauen plain north of berlin', 1),\n",
              "             ('where is the bust of queen nefert', 1),\n",
              "             ('where doe the german presid live', 1),\n",
              "             ('when did berlin give up it statu as a free hanseat citi', 1),\n",
              "             ('which is the busiest airport in berlin', 1),\n",
              "             ('how mani occup zone wa germani divid into after the war', 1),\n",
              "             ('where wa popkomm held befor move to berlin', 1),\n",
              "             ('did pascal write about cycloid befor 1658', 1),\n",
              "             ('crowd of believ came to see and kiss the thorn all of cathol where acclaim a miracl',\n",
              "              1),\n",
              "             (\"wasn't blais pascal a work of desargu on conic section\", 1),\n",
              "             ('who die the next morn', 1),\n",
              "             ('wa he a child prodigi who wa educ by hi father, a civil servant',\n",
              "              1),\n",
              "             (\"wa pascal' earliest work in the natur and appli scienc where he made import contribut to the construct of mechan calculators, the studi of fluids, and clarifi the concept of pressur and vacuum by gener the work of evangelista torricelli\",\n",
              "              1),\n",
              "             ('did pascal also write in defens of the scientif method', 1),\n",
              "             ('do butterfli make sound', 1),\n",
              "             ('do butterfli have two eye', 1),\n",
              "             ('doe a black moth mean that someon ha die', 1),\n",
              "             ('what is the outer layer of the cuticl made of', 1),\n",
              "             ('where wa there a vast swarm of butterfli', 1),\n",
              "             ('what butterfli is migratori', 1),\n",
              "             ('do butterfli carri more pollen than hymenoptera', 1),\n",
              "             ('what allow the butterfli to evad predat', 1),\n",
              "             ('what happen if a wing is remov', 1),\n",
              "             ('what is charles-augustin de coulomb best known for', 1),\n",
              "             (\"when did charles-augustin de coulomb join hi father' famili in montpeilli\",\n",
              "              1),\n",
              "             (\"what is coulomb' law\", 1),\n",
              "             ('what happen in 1785', 1),\n",
              "             ('what happen in 1757 to 1759', 1),\n",
              "             ('regard thi topic, what did the revolut do', 1),\n",
              "             ('who determin to pursu mathemat', 1),\n",
              "             ('when did coulomb return to pari', 1),\n",
              "             ('doe coulomb leav a legaci as a pioneer in the field of geotechn engin for hi contribut to retain wall design',\n",
              "              1),\n",
              "             ('did the famili move to pari as well as there coulomb studi at the prestigi collg de quatre-n',\n",
              "              1),\n",
              "             ('wa coulomb born in angoulme\\x01 france\\x01 to a well-to-do famili',\n",
              "              1),\n",
              "             (\"is he best known for develop coulomb' law, the definit of the electrostat forc of attract and repuls\",\n",
              "              1),\n",
              "             ('the si unit of charge, the coulomb, wa name after him', 1),\n",
              "             ('did coulomb die in angoulãªme, france, to a well-to-do famili',\n",
              "              1),\n",
              "             ('are all spoken varieti of chines tonal and analyt', 1),\n",
              "             ('is fifti percent or more of korean vocabulari of chines origin',\n",
              "              1),\n",
              "             ('doe \"ketchup\" come from the minnan pronunci of &#39853&#27713 koe-tsiap',\n",
              "              1),\n",
              "             ('what is the most common roman standard for standard mandarin today',\n",
              "              1),\n",
              "             ('how is south china linguist differ from north china', 1),\n",
              "             ('is diglossia a common featur in mainland china and taiwan', 1),\n",
              "             ('do linguist often view chines as a languag famili', 1),\n",
              "             ('what is the total number of chines word', 1),\n",
              "             ('what languag wa use in the zhou and southern dynasti', 1),\n",
              "             ('is one of the part of a cymbal call a disc', 1),\n",
              "             ('are ride cymbal veri common', 1),\n",
              "             ('doe fender make cymbal', 1),\n",
              "             ('what part of the cymbal is the bell', 1),\n",
              "             (\"what' the timber of ancient cimbal like disfluent\", 1),\n",
              "             ('what doe it sound like to play cymbal with a cello bow', 1),\n",
              "             ('what are cymbal made of', 1),\n",
              "             ('how mani cymbal typic go in a drum kit', 1),\n",
              "             ('what kind of music group use cymbal', 1),\n",
              "             ('is the dragonfli associ with late summer as well as earli autumn',\n",
              "              1),\n",
              "             ('doe exposur to air caus the larva to begin breath', 1),\n",
              "             ('is it character by larg multifacet eyes, two pair of strong transpar wings, and an elong bodi',\n",
              "              1),\n",
              "             ('is the drum a member of the percuss group', 1),\n",
              "             ('doe each type of drum head serv it own music purpos', 1),\n",
              "             ('is the aburukuwa a type of drum', 1),\n",
              "             ('whare is the name for drum that have a set of wire held across some of all of the drum head',\n",
              "              1),\n",
              "             ('had the drum been use in sri lanka sinc befor christ', 1),\n",
              "             ('are drum often use in music therapi', 1),\n",
              "             ('do drum consist of at least eight membran', 1),\n",
              "             ('what ha the most effect on how a drum sound', 1),\n",
              "             ('who construct a kit use diaton and chromat tune drum', 1),\n",
              "             ('ha the design of drum chang recent', 1),\n",
              "             ('can some cylindr shell drum have no drum head', 1),\n",
              "             ('doe everi drumhead make the same sound', 1),\n",
              "             (\"aren't drum often use in music therapi\", 1),\n",
              "             (\"aren't drum usual play by the hand\", 1),\n",
              "             ('are drum usual play by the hand', 1),\n",
              "             ('do mani such drum have six to ten tension rod', 1),\n",
              "             (\"do drum consist of at least one membrane, call a drumhead or drum skin, that is stretch over a shell and struck, either directli with part of a player' body, or with some sort of implement such as a drumstick, to produc sound\",\n",
              "              1),\n",
              "             (\"have other techniqu been use to caus drum to make sound, such as the ``thumb roll''\",\n",
              "              1),\n",
              "             ('ha the flute been date to prehistor time', 1),\n",
              "             ('wa the pan flute use in greec', 1),\n",
              "             ('can a flute be play with sever differ air sourc', 1),\n",
              "             ('when did concert flute begin appear in concert ensembl', 1),\n",
              "             ('how mani main varieti of indian flute are current use', 1),\n",
              "             ('what materi is a chi flute fashion from', 1),\n",
              "             (\"ha the dragon histor serv as china' nation emblem\", 1),\n",
              "             ('do panda hibern', 1),\n",
              "             ('do giant panda attack human', 1),\n",
              "             ('how mani differ name did chines write give to the panda', 1),\n",
              "             ('what is panda diplomaci', 1),\n",
              "             ('is the giant panda a mammal', 1),\n",
              "             ('is the giant panda a terrestri anim', 1),\n",
              "             ('is the giant panda an endang speci', 1),\n",
              "             (\"when wa the giant panda' genom sequenc\", 1),\n",
              "             ('how mani subspeci of the giant panda are there', 1),\n",
              "             ('is the giant panda a carnivor', 1),\n",
              "             ('is a guitar an instrument', 1),\n",
              "             ('can guitar be divid into two broad categori', 1),\n",
              "             ('do pick come in mani shape and size', 1),\n",
              "             ('how mani string doe a guitar typic have', 1),\n",
              "             ('what is locat at the end of the guitar neck furthest from the bodi',\n",
              "              1),\n",
              "             ('what are most electr guitar bodi made of', 1),\n",
              "             ('whi do some peopl believ that left-hand peopl should learn to play guitar as right-hand peopl do',\n",
              "              1),\n",
              "             ('how old is the oldest known represent of a guitar-lik intrument be play',\n",
              "              1),\n",
              "             ('did becquerel studi scienc at the école de pont et chaussé', 1),\n",
              "             ('wa becquerel a french physicist', 1),\n",
              "             ('whom did he share the nobel prize with', 1),\n",
              "             ('when did isaac newton discov the gener binomi theorem', 1),\n",
              "             ('wa sir isaac newton an english physicist and mathematician', 1),\n",
              "             ('did he build the first practic reflect telescop', 1),\n",
              "             (\"wa isaac newton educ at the king' schol, grantham\", 1),\n",
              "             ('when wa the principia publish', 1),\n",
              "             ('where wa isaac newton buri', 1),\n",
              "             ('what food gave isaac newton clue to hi theori of graviti', 1),\n",
              "             ('who wa a farmer and later a land surveyor for the govern', 1),\n",
              "             ('regard thi topic, what did david alfaro siqueiro do', 1),\n",
              "             ('who use harden brushes, sticks,', 1),\n",
              "             ('when were hi paper donat by lee krasner', 1),\n",
              "             ('did free jazz featur a pollock paint as it cover artwork', 1),\n",
              "             ('wa paul jackson pollock an influenti american painter as well as a major figur in the abstract expressionist movement',\n",
              "              1),\n",
              "             ('give an exampl of the origin of the term action paint', 1),\n",
              "             ('dure hi lifetime, did pollock enjoy consider fame and notorieti',\n",
              "              1),\n",
              "             ('wa he regard as a mostli reclus artist', 1),\n",
              "             ('where doe the name of the citi jakarta come from', 1),\n",
              "             ('is the the biggest univers in jakarta the univers of indonesia',\n",
              "              1),\n",
              "             ('is jakarta a citi', 1),\n",
              "             ('is the most import river the ciliwung river', 1),\n",
              "             ('do mikrolet travel on the main road', 1),\n",
              "             ('did the economi improv in jakarta in 2007', 1),\n",
              "             ('in ad 39, king purnawarman establish sunda pura as a new capit citi for the kingdom, locat at the northern coast of where',\n",
              "              1),\n",
              "             (\"in 1602, the british east india company' first voyage, command by sir who, arriv in aceh and sail on to banten where they were allow to build a trade post\",\n",
              "              1),\n",
              "             ('who began control of migrat to the citi in order to stem the overcrowd and poverti',\n",
              "              1),\n",
              "             (\"did jayawikarta' soldier attack the dutch fortress\", 1),\n",
              "             ('did suharto resign as presid', 1),\n",
              "             ('wa the jakarta area part of the fourth centuri indian kingdom of tarumanagara',\n",
              "              1),\n",
              "             ('do other landmark includ the istiql mosqu as well as jakarta cathedr',\n",
              "              1),\n",
              "             ('give an exampl of the mani sukarno era monument in the citi',\n",
              "              1),\n",
              "             (\"is jakarta the country' economic, cultur and polit center\", 1),\n",
              "             (\"what wa jame watt' father' job\", 1),\n",
              "             ('what did he invent', 1),\n",
              "             ('what happen in the earli 20th centuri', 1),\n",
              "             ('do koala have a slow metabol', 1),\n",
              "             ('did eucalypt forest grow in the place of rainforest', 1),\n",
              "             ('doe the koala fill the same ecolog role as the sloth of south america',\n",
              "              1),\n",
              "             ('is the long term viabil of the koala therefor threaten by genet weak',\n",
              "              1),\n",
              "             ('is the koala found in coastal region of eastern and southern australia, from near adelaid to the southern part of cape york peninsula',\n",
              "              1),\n",
              "             ('do popul also extend for consider distanc inland in region with enough moistur to support suitabl woodland',\n",
              "              1),\n",
              "             ('were the koala of south australia larg extermin dure the earli part of the 20th century, but the state ha sinc been repopul with victorian stock',\n",
              "              1),\n",
              "             ('is korean the offici languag of korea', 1),\n",
              "             ('is the word \"korean\" deriv from goryeo', 1),\n",
              "             ('are all dialect of korean similar to each other', 1),\n",
              "             ('older english sourc use the name \"korean\" to refer to what', 1),\n",
              "             ('what is the offici languag of north korea', 1),\n",
              "             ('whi may english translat of korean adject misleadingli suggest that they are verb',\n",
              "              1),\n",
              "             ('how mani korean speaker are there', 1),\n",
              "             ('how mani part of speech doe the korean languag contain', 1),\n",
              "             ('how mani verb paradigm are there in korean', 1),\n",
              "             ('what is the sino-korean system of number base on', 1),\n",
              "             ('what is anoth term for korean adject', 1),\n",
              "             ('is modern korean written in column or row', 1),\n",
              "             ('what percentag of the korean languag doe jeong jae-do estim to be sino-korean',\n",
              "              1),\n",
              "             ('do chines and japanes have space between word', 1),\n",
              "             ('from which languag is korean descend', 1),\n",
              "             ('are there seven verb paradigm or speech level in korean', 1),\n",
              "             ('is modern korean written with space between word', 1),\n",
              "             ('are the korean name for the languag base on the name for korea use in north as well as south korea',\n",
              "              1),\n",
              "             ('is it not also one of the two offici languag of the yanbian korean autonom prefectur in china',\n",
              "              1),\n",
              "             ('is the dialect spoken in jeju locat in fact classifi as a differ languag by all korean linguist',\n",
              "              1),\n",
              "             ('is it also one of the two offici languag in the yanbian korean autonom prefectur in china',\n",
              "              1),\n",
              "             ('is kuala lumpur the capitol of malaysia disfluent', 1),\n",
              "             ('is kuala lumpur in the selangor state', 1),\n",
              "             (\"what' the popul of kuala lumpur\", 1),\n",
              "             ('what languag do they speak in kuala lumpur', 1),\n",
              "             ('what doe the name \"kuala lumpur\" mean', 1),\n",
              "             ('what airport doe kuala lumpur have', 1),\n",
              "             ('how long wa kuala lumpur occupi by the japanes', 1),\n",
              "             ('how mani season doe kuala lumpur experi', 1),\n",
              "             ('when were the coloni build in kuala lumpur construct', 1),\n",
              "             ('is it a host citi for the formula one world championship', 1),\n",
              "             ('is the central market locat in the proxim of the pertama complex',\n",
              "              1),\n",
              "             ('is it home to the parliament of malaysia', 1),\n",
              "             ('when did kuala lumpur becom a feder territori of malaysia', 1),\n",
              "             (\"what is the city' popul\", 1),\n",
              "             ('what is the offici religion in the countri', 1),\n",
              "             ('is there a more industri region in malaysia', 1),\n",
              "             ('after the 2008 elections, what parti had the most parliament seat',\n",
              "              1),\n",
              "             ('what is the name of the event that draw the world top rider to malaysia',\n",
              "              1),\n",
              "             (\"wasn't leonardo da vinci valu as an engin\", 1),\n",
              "             (\"wasn't leonardo da vinci born on april 15\", 1),\n",
              "             (\"who left verroccio' studio\", 1),\n",
              "             ('when did baldassar castiglione, author of il cortegiano \" the courtier \" , write',\n",
              "              1),\n",
              "             ('when did he flee to venic', 1),\n",
              "             ('wa leonardo a contemporari of botticelli\\x01 domenico ghirlandaio as well as perugino',\n",
              "              1),\n",
              "             ('is the larger work now almost univers attribut to leonardo', 1),\n",
              "             ('ha leonardo often been describ as the archetyp of the renaiss man, a man whose unquench curios wa equal onli by hi power of invent',\n",
              "              1),\n",
              "             ('is he wide consid to be one of the greatest painter of all time and perhap the most divers talent person ever to have live',\n",
              "              1),\n",
              "             (\"accord to art historian helen gardner, were the scope and depth of hi interest without preced and ``hi mind and person seem to us superhuman, the man himself mysteri and remote''\",\n",
              "              1),\n",
              "             ('are lobster invertebr', 1),\n",
              "             ('are lobster kosher', 1),\n",
              "             ('do lobster have blue blood', 1),\n",
              "             ('how mani leg do lobster have', 1),\n",
              "             ('what is the mean level of mercuri in american lobster', 1),\n",
              "             ('were the recit of the ancient greek accompani by lyre play', 1),\n",
              "             ('doe a classic lyre have a hollow bodi', 1),\n",
              "             ('is the lyre a string music instrument', 1),\n",
              "             ('which constel is said to resembl a lyre shape', 1),\n",
              "             ('how mani rais arm are extend from the sound-chest of a classic lyre',\n",
              "              1),\n",
              "             ('what were the string of a classic lyre made of', 1),\n",
              "             ('is the foot pedal framework for a piano call a lyre', 1),\n",
              "             (\"where wa the deepest note of the classic lyre in relat to the player' bodi\",\n",
              "              1),\n",
              "             ('doe a standard piano have fewer string than a harp', 1),\n",
              "             ('is malay the offici languag of iraq', 1),\n",
              "             ('could malay have origin from sumatra island', 1),\n",
              "             ('are there mani word in malay that use natur gender', 1),\n",
              "             ('is malay in the austronesian famili of languag', 1),\n",
              "             ('is there one negat word in malay', 1),\n",
              "             ('how mani part of speech are there in malay', 1),\n",
              "             ('what is the nation languag in malaysia', 1),\n",
              "             ('do linguist consid malay to be a singl languag', 1),\n",
              "             ('can speaker of modern malay understand old malay', 1),\n",
              "             ('what languag besid malay is in the austronesia languag famili',\n",
              "              1),\n",
              "             (\"wasn't malay languag found in sumatra\", 1),\n",
              "             (\"wasn't malay languag written use pallava\", 1),\n",
              "             ('wa malay languag written use pallava', 1),\n",
              "             ('had the languag alreadi been use as the lingua franca throughout the archipelago sinc the 15th centuri',\n",
              "              1),\n",
              "             ('do anoth distinguish featur of malay includ indonesian malay',\n",
              "              1),\n",
              "             ('is malay spoken as local dialect of ethnic malay', 1),\n",
              "             ('give an exampl of the tributari state of the majapahit kingdom in eastern java',\n",
              "              1),\n",
              "             ('is malay the one of the most wide spoken languag in the world',\n",
              "              1),\n",
              "             ('wa it deriv from latin', 1),\n",
              "             ('where is melbourn situat', 1),\n",
              "             ('is faraday best known for hi work with kinemat', 1),\n",
              "             ('wa he activ in the area now call environment scienc', 1),\n",
              "             ('did he discov benzen', 1),\n",
              "             ('who wa hi mentor', 1),\n",
              "             (\"who wa faraday' wife\", 1),\n",
              "             ('did he advis the british govern on the product of chemic weapon for use in the crimean war',\n",
              "              1),\n",
              "             ('did faraday have strong maritim interest', 1),\n",
              "             ('doe the charg resid on the interior of a charg conductor', 1),\n",
              "             (\"wasn't michelangelo abstemi\", 1),\n",
              "             (\"wasn't michelangelo a homosexu\", 1),\n",
              "             ('when did filippo strozzi sell it to franci i', 1),\n",
              "             ('when wa hi hous demolish', 1),\n",
              "             ('wa michelangelo\\x01 mother francesca di neri del miniato di siena',\n",
              "              1),\n",
              "             ('give an exampl of the most renown work of the renaiss', 1),\n",
              "             (\"wa michelangelo' output in everi field dure hi long life prodigi\",\n",
              "              1),\n",
              "             (\"is montreal' economi the third largest of all citi in canada\",\n",
              "              1),\n",
              "             ('is the most popular sport in montreal ice hockey', 1),\n",
              "             ('how mani intern airport doe montreal have', 1),\n",
              "             ('who is the mayor of montreal', 1),\n",
              "             ('is nairobi the capit of kenya', 1),\n",
              "             ('wa nairobi found in 1899', 1),\n",
              "             ('is the current estim popul of nairobi about 6 milion', 1),\n",
              "             ('what is the current estim popul of nairobi', 1),\n",
              "             ('in what year wa nairobi found', 1),\n",
              "             ('which embassi in nairobi wa bomb in august 1998', 1),\n",
              "             ('how mani civilian die in the 1998 us embassi bomb', 1),\n",
              "             ('how mani trade can the nse make per day', 1),\n",
              "             ('about how mani peopl are estim to live in nairobi', 1),\n",
              "             ('the district is border to the southwest by uhuru park and where',\n",
              "              1),\n",
              "             ('when did the cathol univers of eastern africa which obtain it letter of interim author',\n",
              "              1),\n",
              "             ('is central park adjac to uhuru park', 1),\n",
              "             ('give an exampl of the highest growth rate of ani citi in africa',\n",
              "              1),\n",
              "             ('give an exampl of the most promin citi in africa polit and financi',\n",
              "              1),\n",
              "             ('is nairobi not the capit as well as largest citi of kenya', 1),\n",
              "             ('doe the citi and it surround area also form the nairobi provinc',\n",
              "              1),\n",
              "             (\"doe the name ``nairobi'' come from the maasai phrase enkar nyirobi, which translat to ``the place of cool waters''\",\n",
              "              1),\n",
              "             ('is there a monument to tesla at niagara falls, new york', 1),\n",
              "             ('wa tesla an american citizen', 1),\n",
              "             ('wa tesla on the cover of time magazin', 1),\n",
              "             ('when did tesla receiv hi last patent', 1),\n",
              "             ('what languag did tesla speak', 1),\n",
              "             ('did tesla win the nobel prize', 1),\n",
              "             ('wa tesla rich at the time of hi death', 1),\n",
              "             ('what music group wa name after tesla', 1),\n",
              "             ('consequently, what is not consid a \"seriou painter\" by some contemporari artists, who often regard hi work as bourgeoi and kitsch',\n",
              "              1),\n",
              "             ('who spent the next 10 year paint for look magazin', 1),\n",
              "             ('when wa hi last paint for the post publish', 1),\n",
              "             (\"when did rockwel marri hi first wife, iren o'connor,\", 1),\n",
              "             ('did norman rockwel spend the winter month as artist-in-resid at oti colleg of art as well as design',\n",
              "              1),\n",
              "             ('did norman rockwel publish a total of 321 origin cover for the saturday even post over 47 year',\n",
              "              1),\n",
              "             ('wa rockwel also commiss to illustr over 40 book includ tom sawyer as well as huckleberri finn',\n",
              "              1),\n",
              "             ('do hi work enjoy a broad popular appeal in the unit states, where rockwel is most famou for the cover illustr of everyday life scenario he creat for the saturday even post magazin over more than four decad',\n",
              "              1),\n",
              "             (\"are among the best-known of rockwell' work the willi gilli series, rosi the rivet although hi rosi wa reproduc less than other of the day, say grace 1951, and the four freedom seri\",\n",
              "              1),\n",
              "             ('is he also note for hi work for the boy scout of america bsa',\n",
              "              1),\n",
              "             ('is the octopu a cephalopod', 1),\n",
              "             ('doe the octopu have two eye', 1),\n",
              "             ('doe the octopu have a hard beak', 1),\n",
              "             ('around how mani recogn octopu speci are there', 1),\n",
              "             ('are octopu highli intellig', 1),\n",
              "             ('do male use a special arm call a hectocotylu to insert spermatophor',\n",
              "              1),\n",
              "             ('do the octopus in the less familiar cirrina subord have two fin and an intern shell',\n",
              "              1),\n",
              "             ('do octopus have two eye and four pair of arm', 1),\n",
              "             ('is octopu a common food in mediterranean cuisin as well as portugues cuisin',\n",
              "              1),\n",
              "             ('is the collect form octopu usual reserv for anim consum for food',\n",
              "              1),\n",
              "             ('ha an octopu a hard beak, with it mouth at the center point of the arm',\n",
              "              1),\n",
              "             ('what happen in 1968 through 1971', 1),\n",
              "             ('what happen in 1838', 1),\n",
              "             ('who wa not long in find anoth lover, jacquelin roqu', 1),\n",
              "             ('when did picasso make hi first trip to pari', 1),\n",
              "             ('give an exampl of the most comprehens record extant of ani major artist begin',\n",
              "              1),\n",
              "             ('is in the 1996 movi surviv picasso picasso play by actor anthoni hopkin',\n",
              "              1),\n",
              "             ('is the us copyright repres for the picasso administr the artist right societi',\n",
              "              1),\n",
              "             ('is he one of the most recogn figur in 20th-centuri art', 1),\n",
              "             ('is he best known for co-found the cubist movement and for the wide varieti of style embodi in hi work',\n",
              "              1),\n",
              "             (\"are among hi most famou work the proto-cubist le demoisel d'avignon 1907 and guernica 1937, hi portray of the german bomb of guernica dure the spanish civil war\",\n",
              "              1),\n",
              "             ('how mani black key do modern piano have', 1),\n",
              "             ('about how tall is a typic studio piano', 1),\n",
              "             (\"what are a piano' key gener made of\", 1),\n",
              "             ('whi are upright piano more compact', 1),\n",
              "             ('what happen in the januari 15, 1882', 1),\n",
              "             ('what happen in 1887', 1),\n",
              "             ('is one of the best known impressionist work renoir\\x01 1876 danc at le moulin de la galett',\n",
              "              1),\n",
              "             ('wa pierre-august renoir born in limoges\\x01 haute-vienne\\x01 france\\x01 the child of a work class famili',\n",
              "              1),\n",
              "             ('have two of renoir\\x01 paint sold for more than us0 million',\n",
              "              1),\n",
              "             (\"as a celebr of beauty, and especi feminin sensuality, ha it been said that ``renoir is the final repres of a tradit which run directli from ruben to watteau''\",\n",
              "              1),\n",
              "             ('did pierre-august renoir die in limoges, haute-vienne, france, the child of a work class famili',\n",
              "              1),\n",
              "             ('as a boy, did he work in a porcelain factori where hi draw talent led to him be chosen to paint design on fine china',\n",
              "              1),\n",
              "             (\"wasn't portugues languag spread by arriv roman soldier\", 1),\n",
              "             ('where french ha a similar phenomenon, with alveolar affric instead of postalveolar',\n",
              "              1),\n",
              "             ('give an exampl of the offici languag of the special administr region of macau and east timor,',\n",
              "              1),\n",
              "             ('is portugues an offici languag of sever intern organ', 1),\n",
              "             ('is it deriv from the latin spoken by the roman pre-roman peopl of the iberian peninsula name the gallaeci, the lusitanians, the celtici and the conii around 2000 year ago',\n",
              "              1),\n",
              "             ('wa it use as the exclus lingua franca on the island of sri lanka for almost 350 year',\n",
              "              1),\n",
              "             ('when did the crime level becom higher', 1),\n",
              "             ('who laid down the peter and paul fortress', 1),\n",
              "             ('when wa the 7th symphoni premier', 1),\n",
              "             ('ha equestrian been a long tradition, popular among the tsar and aristocraci',\n",
              "              1),\n",
              "             ('give an exampl of the largest stadium anywher in the world, and the home to fc zenit st petersburg in 1950-1993 and 1995',\n",
              "              1),\n",
              "             ('give an exampl of the best known symphoni orchestra in the world under the leadership of conductor yevgeni mravinski and yuri temirkanov',\n",
              "              1),\n",
              "             ('give an exampl of the longest, most destructive, and most lethal sieg of major citi in modern histori',\n",
              "              1),\n",
              "             (\"were the city' other name petrograd , 1914 -- 1924 and leningrad , 1924 -- 1991\",\n",
              "              1),\n",
              "             ('is it often call just petersburg -rrb- and is inform known as piter -rrb-',\n",
              "              1),\n",
              "             ('found by tsar peter i of russia on 27 may 1703, wa it the capit of the russian empir for more than two hundr year 1713 -- 1728, 1732 -- 1918',\n",
              "              1),\n",
              "             ('wa mission bay campu open in 2003', 1),\n",
              "             ('wa the univers of san fransisco found in 1855', 1),\n",
              "             ('is golden gate park the largest citi park', 1),\n",
              "             (\"what is northern california' most wide circul newspap\", 1),\n",
              "             ('is crissi field an airfield', 1),\n",
              "             ('like mani larger where cities, san francisco is a minority-major city, as non-hispan white compris less than half of the popul',\n",
              "              1),\n",
              "             ('who laid out a street plan for the expand settlement', 1),\n",
              "             ('when wa a 43-acr mission bay campu open', 1),\n",
              "             ('when did it sign on the air', 1),\n",
              "             ('give an exampl of the largest two-year commun colleg in the countri',\n",
              "              1),\n",
              "             ('give an exampl of the ten beta world citi', 1),\n",
              "             ('the onli consolid city-counti in california, doe it encompass a land area of on the northern end of the san francisco peninsula, make it the second most dens popul citi in the unit state',\n",
              "              1),\n",
              "             ('is san francisco also the financial, cultural, and transport center of the larger san francisco bay area, a region of 74 million peopl',\n",
              "              1),\n",
              "             ('in what year did the spanish establish a fort at the golden gate and a mission name for franci of assisi on the site',\n",
              "              1),\n",
              "             ('doe swahili have dipthong', 1),\n",
              "             ('how mani letter are in the basic latin alphabet', 1),\n",
              "             ('what are the differ between english and swedish pronoun', 1),\n",
              "             ('how doe swedish languag counterbal the absenc of case', 1),\n",
              "             ('wa taipei found in the 18th centuri', 1),\n",
              "             ('is the nation palac museum in taipei', 1),\n",
              "             ('what is taipei 101', 1),\n",
              "             ('is the trumpet the music instrument with the highest regist in the brass famili',\n",
              "              1),\n",
              "             ('is a trumpet play by blow air through close lip', 1),\n",
              "             ('is the most common type of trumpet the b trumpet', 1),\n",
              "             ('what are the smallest trumpet refer to as', 1),\n",
              "             ('what make a trumpet fulli chromat', 1),\n",
              "             ('were trumpet player heavili guard', 1),\n",
              "             ('are pocket trumpet compact b trumpet', 1),\n",
              "             ('wa dizzi gillespi a famou trumpet in 1998', 1),\n",
              "             ('what trumpet wa the first to be allow in the christian church',\n",
              "              1),\n",
              "             ('what wa maynard ferguson note for be abl to play accur', 1),\n",
              "             ('what wa built to play in both b and a key', 1),\n",
              "             ('what happen in 1894', 1),\n",
              "             ('what happen in nineteen fifti seven', 1),\n",
              "             (\"is the breez eazy' ' method sometim use to teach younger student\",\n",
              "              1),\n",
              "             ('do mani player use a smaller mouthpiec on the piccolo trumpet',\n",
              "              1),\n",
              "             ('is the trumpet construct of brass tube bent twice into an oblong shape',\n",
              "              1),\n",
              "             ('give an exampl of the most influenti musician of the 20th centuri',\n",
              "              1),\n",
              "             ('were slide trumpet the first trumpet allow in the christian church',\n",
              "              1),\n",
              "             (\"are they construct of brass tube bent twice into an oblong shape, and are play by blow air through close lips, produc a ``buzzing'' sound which start a stand wave vibrat in the air column insid the trumpet\",\n",
              "              1),\n",
              "             ('are there sever type of trumpet', 1),\n",
              "             ('what are the most signific foreign contributor to turkish vocabulari',\n",
              "              1),\n",
              "             ('whi doe lewi use \"absolut case\" instead of \"nominative\"', 1),\n",
              "             ('how mani peopl speak turkish worldwid', 1),\n",
              "             ('in turkish, which syllabl usual ha the stress', 1),\n",
              "             ('is the spell of turkish phonet', 1),\n",
              "             ('what percentag of the word in turkish vocabulari have turkish origin',\n",
              "              1),\n",
              "             ('after what event wa the turkish languag associ establish', 1),\n",
              "             ('what except to the rule of vowel harmoni do compound word have',\n",
              "              1),\n",
              "             ('what are the pattern of vowel harmoni', 1),\n",
              "             ('what are the way to join group of noun', 1),\n",
              "             ('doe vietnames have a compar larg number of vowel', 1),\n",
              "             ('is vietnam independ from franc', 1),\n",
              "             ('wa vietnames formal written use the chines write system', 1),\n",
              "             ('doe vietnames have a larg number of vowel', 1),\n",
              "             ('what are the three dialect region of vietnames', 1),\n",
              "             ('when wa the reunif of vietnam', 1),\n",
              "             ('how mani tone do northern varieti have', 1),\n",
              "             ('doe vietnames borrow from latin and greek', 1),\n",
              "             ('did vietnames come to predomin polit in 2nd centuri bc', 1),\n",
              "             ('do more northern speaker speak the southern region dialect than southern speaker speak the northern dialect',\n",
              "              1),\n",
              "             ('what happen in 1860', 1),\n",
              "             ('who frequent the circl of the british-australian artist john peter russel',\n",
              "              1),\n",
              "             ('were the letter first annot in 1913 by theo\\x01 widow johanna van gogh-bong',\n",
              "              1),\n",
              "             ('wa kee seven year older than van gogh as well as had an eight-year-old son',\n",
              "              1),\n",
              "             ('did he suffer from anxieti and increasingli frequent bout of mental ill throughout hi life, and die larg unknown, at the age of 37, from a self-inflict gunshot wound',\n",
              "              1),\n",
              "             ('appreci dure hi lifetime, did hi fame grow in the year after hi death',\n",
              "              1),\n",
              "             (\"is today, he wide regard as one of history' greatest painter and an import contributor to the foundat of modern art\",\n",
              "              1),\n",
              "             ('doe a violin have four string', 1),\n",
              "             ('is the violin a percuss instrument', 1),\n",
              "             ('what happen in 1980', 1),\n",
              "             ('who featur violinist boyd tinsley', 1),\n",
              "             ('regard thi topic, what did antonio stradivari do', 1),\n",
              "             ('when did charl ix order amati to construct 24 violin for him',\n",
              "              1),\n",
              "             ('is a string first tune to a standard pitch', 1),\n",
              "             ('is each node at an integ divis of the string', 1),\n",
              "             ('is the tune g-d-a-e use for most violin music', 1),\n",
              "             ('is it the smallest and highest-pitch member of the violin famili of string instruments, which also includ the viola and cello',\n",
              "              1),\n",
              "             ('is a violin sometim inform call a fiddle, regardless of the type of music play on it',\n",
              "              1),\n",
              "             (\"doe the word ``violin'' come from the middl latin word vitula, mean ``string instrument''\",\n",
              "              1),\n",
              "             ('how do the java and bali use xylophon', 1),\n",
              "             ('do the differ speci of zebra interbre', 1),\n",
              "             ('do zebra sleep stand up', 1),\n",
              "             ('have plain zebra been cross with mountain zebra', 1),\n",
              "             ('how mani speci of zebra are there', 1),\n",
              "             (\"what area do the grevy' zebra inhabit\", 1),\n",
              "             ('when did lincoln begin hi polit career', 1),\n",
              "             ('when did the gettysburg address argu that america wa born', 1),\n",
              "             ('wa abraham lincoln the first presid of the unit state', 1),\n",
              "             ('did lincoln start hi polit career in 1832', 1),\n",
              "             ('did lincoln ever repres alton & sangamon railroad', 1),\n",
              "             ('when did lincoln first serv as presid', 1),\n",
              "             ('who assassin lincoln', 1),\n",
              "             ('did lincoln win the elect of 1860', 1),\n",
              "             ('do scholar rank lincoln among the top three presid', 1),\n",
              "             ('did lincoln have 18 month of school', 1),\n",
              "             ('wa lincoln chosen as a presidenti candid in 1860', 1),\n",
              "             ('how old wa lincoln in 1816', 1),\n",
              "             ('when wa the first photgraph of lincoln taken', 1),\n",
              "             (\"how long wa lincoln' legal career\", 1),\n",
              "             (\"what trail did lincoln use a farmers' almanac in\", 1),\n",
              "             ('did abraham lincoln live in the frontier', 1),\n",
              "             (\"did lincoln' wife' famili support slaveri\", 1),\n",
              "             ('who is most note for hi contribut to the theori of molar and molecular weight',\n",
              "              1),\n",
              "             ('when did he publish anoth memoria', 1),\n",
              "             ('when did he becom a professor', 1),\n",
              "             ('is it true that he becam a professor in 1820', 1),\n",
              "             ('wa lorenzo romano amedeo carlo avogadro an italian savant', 1),\n",
              "             ('wa amedeo avogadro born in turin august 9th 1776 to a nobl ancient famili of piedmont, itali',\n",
              "              1),\n",
              "             ('is he most note for hi contribut to the theori of molar and molecular weight',\n",
              "              1),\n",
              "             (\"is avogadro 's number commonli use to comput the result of chemic reaction\",\n",
              "              1),\n",
              "             ('did the scientif commun not reserv great attent to hi theori',\n",
              "              1),\n",
              "             ('can the titl of thi famou 1811 paper be roughli translat into english',\n",
              "              1),\n",
              "             ('who determin the depend of the boil of water with atmospher pressur',\n",
              "              1),\n",
              "             ('what is name after him', 1),\n",
              "             ('when did he publish a collect', 1),\n",
              "             ('is it true that he publish a collect in 1738', 1),\n",
              "             ('is it true that thermomet had 100 for the freez point', 1),\n",
              "             ('wa ander celsiu novemb 27, 1701 april 25, 1744 a swedish astronom',\n",
              "              1),\n",
              "             ('who wa the first to perform and publish care experi aim at the definit of an intern temperatur scale on scientif ground',\n",
              "              1),\n",
              "             ('the celsiu crater on the moon is what', 1),\n",
              "             ('had hi thermomet 100 for the freez point of water and 0 for the boil point',\n",
              "              1),\n",
              "             ('did he not determin the depend of the boil of water with atmospher pressur -lrb- in excel agreement with modern data -rrb-',\n",
              "              1),\n",
              "             ('what happen from 1730 to 1744', 1),\n",
              "             ('what happen in 1745', 1),\n",
              "             ('are beetl insect', 1),\n",
              "             ('can beetl be found in polar region', 1),\n",
              "             ('do beetl antenna function primarili as organ of smell', 1),\n",
              "             ('what are the three section of a beetl', 1),\n",
              "             ('which defens mechan use colour or shape to deceiv potenti enemi',\n",
              "              1),\n",
              "             ('which type of beetl is a pest of potato plant', 1),\n",
              "             ('are certain speci of beetl consid pest', 1),\n",
              "             (\"is a beetle' gener anatomi uniform\", 1),\n",
              "             ('are beetl endopterygot', 1),\n",
              "             ('when are sperm cell transfer to the femal', 1),\n",
              "             ('what is the studi of beetl call', 1),\n",
              "             ('is it possibl that there are more than 350,000 speci of beetl',\n",
              "              1),\n",
              "             ('do carrion beetl eat dung', 1),\n",
              "             ('what are prey of variou anim includ bird and mammal', 1),\n",
              "             ('what wa given by aristotl for the harden shield like forew', 1),\n",
              "             ('who or what vari greatli in form within the coleoptera', 1),\n",
              "             ('are mani beetl territori', 1),\n",
              "             ('are beetl endopterygot with complet metamorphosi', 1),\n",
              "             ('oxygen is what', 1),\n",
              "             ('is there a thrive industri in the collect of beetl specimen for amateur and profession collector',\n",
              "              1),\n",
              "             ('have coleopterist form organis to facilit the studi of beetl',\n",
              "              1),\n",
              "             ('is the studi of beetl call coleopterolog , and it practition are coleopterist',\n",
              "              1),\n",
              "             ('may a singl femal lay from sever dozen to sever thousand egg dure her lifetim',\n",
              "              1),\n",
              "             ('can beetl be found in almost all habitat', 1),\n",
              "             ('what happen on plant and fungi', 1),\n",
              "             ('wa calvin coolidg born in plymouth, windsor county, vermont',\n",
              "              1),\n",
              "             ('did coolidg graduat from black river academi', 1),\n",
              "             ('when did he drop john from hi name', 1),\n",
              "             ('of what state wa coolidg governor', 1),\n",
              "             ('who appoint harlan fisk stone to the suprem court', 1),\n",
              "             ('wa calvin coolidg republican', 1),\n",
              "             ('wa calvin coolidg a governor of massachusett', 1),\n",
              "             ('is calvin jr older than john coolidg', 1),\n",
              "             ('did coolidg get in amherst colleg', 1),\n",
              "             (\"what caus calvin jr' death\", 1),\n",
              "             ('wa john calvin coolidg jr wa born in la vega', 1),\n",
              "             ('did coolidg meet and marri grace anna goodhu', 1),\n",
              "             ('what year did coolidg open hi own law offic', 1),\n",
              "             ('what fratern wa coolidg a member of', 1),\n",
              "             ('in 1905 coolidg met and marri whom', 1),\n",
              "             ('have there been other us presid that have visit cuba', 1),\n",
              "             (\"what year were coolidge' two son born in\", 1),\n",
              "             ('in addit to port royal, where els did samuel de champlain establish a settlement',\n",
              "              1),\n",
              "             ('where is the most dens popul part of canada', 1),\n",
              "             ('what have been inhabit for millennia by aborigin peopl', 1),\n",
              "             ('european book and map began refer to thi region as canada in what year',\n",
              "              1),\n",
              "             (\"what wa canada' most import industri until the 1800\", 1),\n",
              "             ('is it true that it anger mani resid of the thirteen coloni', 1),\n",
              "             ('how do cuba and declin particip relat', 1),\n",
              "             ('is it true that provinc have a larg degre of autonomi', 1),\n",
              "             ('what did canada adopt in 1965', 1),\n",
              "             ('what arriv in britain', 1),\n",
              "             (\"are canada 's two offici languag english and french\", 1),\n",
              "             (\"are canada 's offici nation sport ice hockey winter and lacross summer\",\n",
              "              1),\n",
              "             ('is canada a geograph vast and ethnic divers countri', 1),\n",
              "             ('did mainland nova scotia not come under british rule with the treati of utrecht',\n",
              "              1),\n",
              "             (\"did cartier not use the word ` canada ' to refer to not onli that villag , but the entir area subject to donnacona , chief at stadacona\",\n",
              "              1),\n",
              "             ('did continent european immigr not settl the prairi', 1),\n",
              "             (\"is it the world 's second largest countri by total area\", 1),\n",
              "             ('what happen in 1867', 1),\n",
              "             ('is a drake a male', 1),\n",
              "             ('do all duck \"quack\"', 1),\n",
              "             ('what is the name of a special speci of duck adapt to catch larg fish',\n",
              "              1),\n",
              "             ('what anim attract the most humor and silli', 1),\n",
              "             ('who is daffi duck', 1),\n",
              "             ('what make it more difficult for a dive duck to fli', 1),\n",
              "             ('what are the reason for hunt wild duck', 1),\n",
              "             ('is foie gra often made from duck', 1),\n",
              "             ('what unrel water bird are duck sometim confus with', 1),\n",
              "             ('are dive duck heavier tha dabbl duck', 1),\n",
              "             ('are adult duck fast flier', 1),\n",
              "             ('are duck an accept presenc in some popul area', 1),\n",
              "             ('what type of unrel water bird with similar form are duck sometim confus with',\n",
              "              1),\n",
              "             ('what express is part of a conceptu framework for test comput system',\n",
              "              1),\n",
              "             ('is egypt border by the gaza strip', 1),\n",
              "             ('is egypt the most popul countri in africa', 1),\n",
              "             ('doe egypt have polit influenc in the middl east', 1),\n",
              "             ('when wa the six day war', 1),\n",
              "             ('are there a larg number of jew live in egypt today', 1),\n",
              "             ('is egypt in asia', 1),\n",
              "             ('are eleph the largest land anim aliv today', 1),\n",
              "             ('can an eleph kill a rhinocero', 1),\n",
              "             ('are eleph good swimmer', 1),\n",
              "             ('are eleph popul in west africa gener small and fragment', 1),\n",
              "             (\"is an elephant' skin tough\", 1),\n",
              "             ('when do african eleph lie down', 1),\n",
              "             (\"how long is the elephant' gestat period\", 1),\n",
              "             ('how mani speci of african eleph have been propos', 1),\n",
              "             (\"what are the elephant' ear import for\", 1),\n",
              "             ('are eleph mammal', 1),\n",
              "             ('have eleph been use as work anim', 1),\n",
              "             ...])"
            ]
          },
          "metadata": {
            "tags": []
          },
          "execution_count": 29
        }
      ]
    },
    {
      "cell_type": "code",
      "metadata": {
        "colab_type": "code",
        "id": "zfBW6l0kCtAF",
        "colab": {}
      },
      "source": [
        "Englishs = []\n",
        "keys = []\n",
        "for item in Englishs_dict_sorted.items():\n",
        "  Englishs.append(item[0])\n",
        "  keys.append(item[1])"
      ],
      "execution_count": 0,
      "outputs": []
    },
    {
      "cell_type": "code",
      "metadata": {
        "colab_type": "code",
        "id": "Ly-dFxnXCtAH",
        "colab": {}
      },
      "source": [
        "Englishs.reverse()\n",
        "keys.reverse()"
      ],
      "execution_count": 0,
      "outputs": []
    },
    {
      "cell_type": "code",
      "metadata": {
        "colab_type": "code",
        "id": "kEZ2na2FCtAL",
        "colab": {}
      },
      "source": [
        "#top 10 frenchs\n",
        "top_5_Englishs = Englishs[:5]\n",
        "top_5_keys = keys[:5]"
      ],
      "execution_count": 0,
      "outputs": []
    },
    {
      "cell_type": "code",
      "metadata": {
        "colab_type": "code",
        "id": "XJtdgsG4CtAO",
        "colab": {}
      },
      "source": [
        "temp_Englishs_list = []\n",
        "i = 0\n",
        "for key in top_5_keys:\n",
        "  for _ in range(0,key):\n",
        "    temp_Englishs_list.append(top_5_Englishs[i])\n",
        "  i += 1"
      ],
      "execution_count": 0,
      "outputs": []
    },
    {
      "cell_type": "code",
      "metadata": {
        "colab_type": "code",
        "outputId": "deb26068-c17c-40ed-e136-59965a8c4c0f",
        "id": "E2sCoPEpCtAQ",
        "colab": {
          "base_uri": "https://localhost:8080/",
          "height": 265
        }
      },
      "source": [
        "import matplotlib\n",
        "matplotlib.rc('figure', figsize=[20,4])\n",
        "plt.hist(temp_Englishs_list, 50,\n",
        "         histtype='bar',\n",
        "         facecolor='g',\n",
        "         alpha=0.5)\n",
        "plt.show()"
      ],
      "execution_count": 34,
      "outputs": [
        {
          "output_type": "display_data",
          "data": {
            "image/png": "[encoded data removed]",
            "text/plain": [
              "<Figure size 1440x288 with 1 Axes>"
            ]
          },
          "metadata": {
            "tags": []
          }
        }
      ]
    },
    {
      "cell_type": "markdown",
      "metadata": {
        "id": "3ilQK6LLEAB-",
        "colab_type": "text"
      },
      "source": [
        "Here we can see the top 5 repeated Englishs,<br>\n",
        "&nbsp;&nbsp;&nbsp;&nbsp;&nbsp;&nbsp;&nbsp;&nbsp; It's not looking usefull for any interpretation"
      ]
    },
    {
      "cell_type": "code",
      "metadata": {
        "id": "zIpAzHbDDfoD",
        "colab_type": "code",
        "outputId": "7a9d8992-da9d-4a70-f133-1b81f618b294",
        "colab": {
          "base_uri": "https://localhost:8080/",
          "height": 294
        }
      },
      "source": [
        "print(data.head(5))\n",
        "print(data.tail(5))"
      ],
      "execution_count": 35,
      "outputs": [
        {
          "output_type": "stream",
          "text": [
            "                  1  ... English_length\n",
            "0  alessandro_volta  ...             29\n",
            "1  alessandro_volta  ...             39\n",
            "2  alessandro_volta  ...             48\n",
            "3  alessandro_volta  ...             46\n",
            "4  alessandro_volta  ...             49\n",
            "\n",
            "[5 rows x 8 columns]\n",
            "                   1  ... English_length\n",
            "2912  woodrow_wilson  ...             60\n",
            "2913  woodrow_wilson  ...            196\n",
            "2914  woodrow_wilson  ...             95\n",
            "2915  woodrow_wilson  ...            105\n",
            "2916  woodrow_wilson  ...             19\n",
            "\n",
            "[5 rows x 8 columns]\n"
          ],
          "name": "stdout"
        }
      ]
    },
    {
      "cell_type": "markdown",
      "metadata": {
        "id": "djx94dfPFEJ3",
        "colab_type": "text"
      },
      "source": [
        "Here we can <b>combine the Article Title with the English</b> which can help in getting better suggestions."
      ]
    },
    {
      "cell_type": "markdown",
      "metadata": {
        "id": "BL3OxMkpGfs7",
        "colab_type": "text"
      },
      "source": [
        "<b>Modelling Approaches:<br><i>\n",
        "# here before modeling we can stammer the sentences : Playing ko play\n",
        "* Seq2seq model\n",
        "* Bi-Directional LSTM\n",
        "* Attention Layer\n",
        "* Beam Search</b></i>"
      ]
    },
    {
      "cell_type": "markdown",
      "metadata": {
        "id": "jGNqb5y9gO3U",
        "colab_type": "text"
      },
      "source": [
        "# Modeling"
      ]
    },
    {
      "cell_type": "code",
      "metadata": {
        "id": "hDi0U_l1XtIk",
        "colab_type": "code",
        "colab": {}
      },
      "source": [
        "# Vocabulary of English\n",
        "all_email_words=[]\n",
        "for quest in data.English:\n",
        "    for word in quest.split():\n",
        "        if word not in all_email_words:\n",
        "            all_email_words.append(word)\n",
        "\n",
        "# Vocabulary of Replies \n",
        "all_reply_words=[]\n",
        "for mar in data.french:\n",
        "    for word in mar.split():\n",
        "        if word not in all_reply_words:\n",
        "            all_reply_words.append(word)"
      ],
      "execution_count": 0,
      "outputs": []
    },
    {
      "cell_type": "code",
      "metadata": {
        "id": "5rCX0FObZ4JN",
        "colab_type": "code",
        "colab": {}
      },
      "source": [
        "all_email_words = list(set(all_email_words))"
      ],
      "execution_count": 0,
      "outputs": []
    },
    {
      "cell_type": "code",
      "metadata": {
        "id": "qIa4hS2ua-3n",
        "colab_type": "code",
        "colab": {}
      },
      "source": [
        "all_reply_words = list(set(all_reply_words))"
      ],
      "execution_count": 0,
      "outputs": []
    },
    {
      "cell_type": "code",
      "metadata": {
        "id": "eX0dl2XPNpd2",
        "colab_type": "code",
        "outputId": "b4056832-c608-4964-8a5f-ba41e4530778",
        "colab": {
          "base_uri": "https://localhost:8080/",
          "height": 35
        }
      },
      "source": [
        "import numpy as np\n",
        "lenght_list=[]\n",
        "for l in data.English.values:\n",
        "    lenght_list.append(len(l.split(' ')))\n",
        "max_length_src = max(lenght_list)\n",
        "max_length_src"
      ],
      "execution_count": 39,
      "outputs": [
        {
          "output_type": "execute_result",
          "data": {
            "text/plain": [
              "44"
            ]
          },
          "metadata": {
            "tags": []
          },
          "execution_count": 39
        }
      ]
    },
    {
      "cell_type": "code",
      "metadata": {
        "id": "gsOifdDLninm",
        "colab_type": "code",
        "outputId": "6a74ad48-96f3-454b-cf6f-45cdb6414407",
        "colab": {
          "base_uri": "https://localhost:8080/",
          "height": 35
        }
      },
      "source": [
        "lenght_list=[]\n",
        "for l in data.french:\n",
        "    lenght_list.append(len(l.split(' ')))\n",
        "max_length_tar = np.max(lenght_list)\n",
        "max_length_tar"
      ],
      "execution_count": 40,
      "outputs": [
        {
          "output_type": "execute_result",
          "data": {
            "text/plain": [
              "158"
            ]
          },
          "metadata": {
            "tags": []
          },
          "execution_count": 40
        }
      ]
    },
    {
      "cell_type": "code",
      "metadata": {
        "id": "cO6NAiNCNpb0",
        "colab_type": "code",
        "outputId": "65a87375-ba56-421c-b79a-8203c8a3f8cd",
        "colab": {
          "base_uri": "https://localhost:8080/",
          "height": 35
        }
      },
      "source": [
        "\n",
        "#All input words\n",
        "input_words = sorted(list(all_email_words))\n",
        "target_words = sorted(list(all_reply_words))\n",
        "\n",
        "# get the length of the vocabalary // Kitne words // this will help while performing embedding layer\n",
        "num_encoder_tokens = len(all_email_words) + 1\n",
        "num_decoder_tokens = len(all_reply_words) + 1\n",
        "\n",
        "num_encoder_tokens, num_decoder_tokens"
      ],
      "execution_count": 41,
      "outputs": [
        {
          "output_type": "execute_result",
          "data": {
            "text/plain": [
              "(3672, 3776)"
            ]
          },
          "metadata": {
            "tags": []
          },
          "execution_count": 41
        }
      ]
    },
    {
      "cell_type": "code",
      "metadata": {
        "id": "ffcT8tnQc-iP",
        "colab_type": "code",
        "colab": {}
      },
      "source": [
        "# from word to token we can get\n",
        "input_token_index = dict([(word, i+1) for i, word in enumerate(input_words)])\n",
        "target_token_index = dict([(word, i+1) for i, word in enumerate(target_words)])"
      ],
      "execution_count": 0,
      "outputs": []
    },
    {
      "cell_type": "code",
      "metadata": {
        "id": "96-7OL3dAoTJ",
        "colab_type": "code",
        "colab": {}
      },
      "source": [
        "# from token to word we can get\n",
        "reverse_input_char_index = dict((i, word) for word, i in input_token_index.items())\n",
        "reverse_target_char_index = dict((i, word) for word, i in target_token_index.items())"
      ],
      "execution_count": 0,
      "outputs": []
    },
    {
      "cell_type": "code",
      "metadata": {
        "id": "o9hXENXBhBTe",
        "colab_type": "code",
        "outputId": "d79760ab-4d41-4a13-8dcc-734d7f6348ea",
        "colab": {
          "base_uri": "https://localhost:8080/",
          "height": 108
        }
      },
      "source": [
        "from sklearn.utils import shuffle\n",
        "data = shuffle(data)\n",
        "data.head(2)"
      ],
      "execution_count": 44,
      "outputs": [
        {
          "output_type": "execute_result",
          "data": {
            "text/html": [
              "<div>\n",
              "<style scoped>\n",
              "    .dataframe tbody tr th:only-of-type {\n",
              "        vertical-align: middle;\n",
              "    }\n",
              "\n",
              "    .dataframe tbody tr th {\n",
              "        vertical-align: top;\n",
              "    }\n",
              "\n",
              "    .dataframe thead th {\n",
              "        text-align: right;\n",
              "    }\n",
              "</style>\n",
              "<table border=\"1\" class=\"dataframe\">\n",
              "  <thead>\n",
              "    <tr style=\"text-align: right;\">\n",
              "      <th></th>\n",
              "      <th>1</th>\n",
              "      <th>English</th>\n",
              "      <th>french</th>\n",
              "      <th>qw</th>\n",
              "      <th>ed</th>\n",
              "      <th>rf</th>\n",
              "      <th>french Length</th>\n",
              "      <th>English_length</th>\n",
              "    </tr>\n",
              "  </thead>\n",
              "  <tbody>\n",
              "    <tr>\n",
              "      <th>2599</th>\n",
              "      <td>qatar</td>\n",
              "      <td>when did qatar becom an independ state</td>\n",
              "      <td>start_ september 3, 1971 _end</td>\n",
              "      <td>medium</td>\n",
              "      <td>medium</td>\n",
              "      <td>data/set2/a3</td>\n",
              "      <td>29</td>\n",
              "      <td>38</td>\n",
              "    </tr>\n",
              "    <tr>\n",
              "      <th>15</th>\n",
              "      <td>alessandro_volta</td>\n",
              "      <td>is the electrolyt sulphur acid</td>\n",
              "      <td>start_ yes _end</td>\n",
              "      <td>nan</td>\n",
              "      <td>easy</td>\n",
              "      <td>data/set4/a10</td>\n",
              "      <td>15</td>\n",
              "      <td>30</td>\n",
              "    </tr>\n",
              "  </tbody>\n",
              "</table>\n",
              "</div>"
            ],
            "text/plain": [
              "                     1  ... English_length\n",
              "2599             qatar  ...             38\n",
              "15    alessandro_volta  ...             30\n",
              "\n",
              "[2 rows x 8 columns]"
            ]
          },
          "metadata": {
            "tags": []
          },
          "execution_count": 44
        }
      ]
    },
    {
      "cell_type": "code",
      "metadata": {
        "id": "h5Wuj1cAhBXx",
        "colab_type": "code",
        "outputId": "b5649fc0-d328-4e4f-a40e-1ca758964705",
        "colab": {
          "base_uri": "https://localhost:8080/",
          "height": 35
        }
      },
      "source": [
        "# Train - Test Split\n",
        "from sklearn.model_selection import train_test_split\n",
        "X, y = data.English, data.french\n",
        "X_train, X_test, y_train, y_test = train_test_split(X, y, test_size = 0.1)\n",
        "X_train.shape, X_test.shape"
      ],
      "execution_count": 45,
      "outputs": [
        {
          "output_type": "execute_result",
          "data": {
            "text/plain": [
              "((2625,), (292,))"
            ]
          },
          "metadata": {
            "tags": []
          },
          "execution_count": 45
        }
      ]
    },
    {
      "cell_type": "code",
      "metadata": {
        "id": "8jNrN6Lqh5uB",
        "colab_type": "code",
        "colab": {}
      },
      "source": [
        "Englishs = X.values\n",
        "frenchs =  y.values\n",
        "\n",
        "all_txt_data = English + frenchs"
      ],
      "execution_count": 0,
      "outputs": []
    },
    {
      "cell_type": "code",
      "metadata": {
        "id": "_B1_IpftAcgn",
        "colab_type": "code",
        "colab": {}
      },
      "source": [
        "# #this is the final data after removing the top 20percentile and data after last 80 percentile\n",
        "# #reference https://keras.io/preprocessing/text/\n",
        "# #https://stackoverflow.com/Englishs/51956000/what-does-keras-tokenizer-method-exactly-do\n",
        "# from keras.preprocessing.text import Tokenizer\n",
        "# tokenizer = Tokenizer()\n",
        "# tokenizer.fit_on_texts(all_txt_data)\n",
        "\n",
        "# tokenized_train_x = tokenizer.texts_to_sequences(X_train)\n",
        "# tokenized_test_x = tokenizer.texts_to_sequences(X_test)"
      ],
      "execution_count": 0,
      "outputs": []
    },
    {
      "cell_type": "code",
      "metadata": {
        "id": "_gXIOC4pAD3U",
        "colab_type": "code",
        "colab": {}
      },
      "source": [
        "\n",
        "# tokenized_train_y = tokenizer.texts_to_sequences(y_train)\n",
        "# tokenized_test_y = tokenizer.texts_to_sequences(y_test)"
      ],
      "execution_count": 0,
      "outputs": []
    },
    {
      "cell_type": "code",
      "metadata": {
        "id": "BIJaRvYMB1mu",
        "colab_type": "code",
        "colab": {}
      },
      "source": [
        "# #Padding for all data \n",
        "\n",
        "# #taking 1500 as the maximum number of essay contains nearty 1500 words\n",
        "# from keras.preprocessing.sequence import pad_sequences\n",
        "# padded_train_x = pad_sequences(tokenized_train_x,maxlen=1500,padding='post', truncating='post')\n",
        "# padded_test_x = pad_sequences(tokenized_test_x,maxlen=1500,padding='post', truncating='post')\n",
        "\n",
        "# padded_train_y = pad_sequences(tokenized_train_y,maxlen=1500,padding='post', truncating='post')\n",
        "# padded_test_y = pad_sequences(tokenized_test_y,maxlen=1500,padding='post', truncating='post')\n",
        "\n",
        "\n"
      ],
      "execution_count": 0,
      "outputs": []
    },
    {
      "cell_type": "code",
      "metadata": {
        "id": "yBY2ykCS43VK",
        "colab_type": "code",
        "colab": {}
      },
      "source": [
        "all_words = list(set(all_email_words + all_reply_words))"
      ],
      "execution_count": 0,
      "outputs": []
    },
    {
      "cell_type": "code",
      "metadata": {
        "id": "S9eI61yzA4xF",
        "colab_type": "code",
        "colab": {}
      },
      "source": [
        "vocab_len = len(all_words)\n",
        "latent_dim = 300"
      ],
      "execution_count": 0,
      "outputs": []
    },
    {
      "cell_type": "code",
      "metadata": {
        "id": "PS73zr_1_Phf",
        "colab_type": "code",
        "colab": {}
      },
      "source": [
        "# import pickle\n",
        "# glove_pickel = open(\"drive/My Drive/DonarChoose/glove_vectors\",\"rb\")\n",
        "# glove_ = pickle.load(glove_pickel)"
      ],
      "execution_count": 0,
      "outputs": []
    },
    {
      "cell_type": "code",
      "metadata": {
        "id": "VCP8iwnkCoKG",
        "colab_type": "code",
        "colab": {}
      },
      "source": [
        "# vector = glove_.get(word)"
      ],
      "execution_count": 0,
      "outputs": []
    },
    {
      "cell_type": "code",
      "metadata": {
        "id": "sYEugvIM_QOX",
        "colab_type": "code",
        "colab": {}
      },
      "source": [
        "# embedded_matrix = np.zeros((vocab_len, latent_dim))\n",
        "# for word, i in tokenizer.word_index.items():\n",
        "#     vector = glove_.get(word)\n",
        "#     if vector is not None:\n",
        "#       embedded_matrix[i] = vector\n",
        "# print(embedded_matrix.shape)"
      ],
      "execution_count": 0,
      "outputs": []
    },
    {
      "cell_type": "code",
      "metadata": {
        "id": "zZHokgbm_QLz",
        "colab_type": "code",
        "outputId": "dbd846b9-d58e-4f30-83a5-5a050f09442d",
        "colab": {
          "base_uri": "https://localhost:8080/",
          "height": 35
        }
      },
      "source": [
        "#https://stackoverflow.com/Englishs/56097089/how-to-fix-name-embedding-is-not-defined-in-keras\n",
        "from keras.layers import Dense, Dropout, BatchNormalization, Input, Flatten, concatenate,Embedding\n",
        "# embedded_layer = Embedding(vocab_len,latent_dim,weights=[embedded_matrix],input_length=1500,trainable=False) # we are using the embedded matrix to get the weights which we initialize randomly in embedded layer"
      ],
      "execution_count": 54,
      "outputs": [
        {
          "output_type": "stream",
          "text": [
            "Using TensorFlow backend.\n"
          ],
          "name": "stderr"
        }
      ]
    },
    {
      "cell_type": "code",
      "metadata": {
        "id": "QWCmkE25lFYV",
        "colab_type": "code",
        "colab": {}
      },
      "source": [
        "def generate_batch(X, y, batch_size=1000):\n",
        "    while True:\n",
        "      # in every batch we are sending (batch_size) of sentences\n",
        "        for j in range(0, len(X), batch_size):\n",
        "            encoder_input_data = np.zeros((batch_size, max_length_src),\n",
        "                    dtype='float32')\n",
        "            decoder_input_data = np.zeros((batch_size, max_length_tar),\n",
        "                    dtype='float32')\n",
        "            decoder_target_data = np.zeros((batch_size, max_length_tar,\n",
        "                    num_decoder_tokens), dtype='float32')\n",
        "\n",
        "            # for all the sentences in the batch\n",
        "            for (i, (input_text, target_text)) in enumerate(zip(X[j:j\n",
        "                    + batch_size], y[j:j + batch_size])):\n",
        "\n",
        "                # for words in each sentence //English\n",
        "                for (t, word) in enumerate(input_text.split()):  # English wale text ko tokenize kiya gaya\n",
        "                    encoder_input_data[i,t] = input_token_index[word]  # encoder input seq\n",
        "\n",
        "                # for each word in   Sentence\n",
        "                for (t, word) in enumerate(target_text.split()):  # t is the length of the sentence\n",
        "                    if t < len(target_text.split()):\n",
        "                        decoder_input_data[i,t] = target_token_index[word]  # decoder input seq\n",
        "                    if t > 0:\n",
        "                        #one-hot encoding \n",
        "                        #and making it to the output shape from decoder\n",
        "                        decoder_target_data[i, t - 1,\n",
        "                                target_token_index[word]] = 1.\n",
        "                                                       \n",
        "            return ([encoder_input_data, decoder_input_data],\n",
        "                   decoder_target_data)  # this will help multiple return// like closure in swift\n"
      ],
      "execution_count": 0,
      "outputs": []
    },
    {
      "cell_type": "code",
      "metadata": {
        "id": "3leM5qZ59xDI",
        "colab_type": "code",
        "colab": {
          "base_uri": "https://localhost:8080/",
          "height": 35
        },
        "outputId": "e2674b4e-5732-4463-b7b8-976f52676629"
      },
      "source": [
        "generate_batch"
      ],
      "execution_count": 56,
      "outputs": [
        {
          "output_type": "execute_result",
          "data": {
            "text/plain": [
              "<function __main__.generate_batch>"
            ]
          },
          "metadata": {
            "tags": []
          },
          "execution_count": 56
        }
      ]
    },
    {
      "cell_type": "code",
      "metadata": {
        "id": "agN3uPx8hJT7",
        "colab_type": "code",
        "outputId": "8928ad16-efd7-455f-8ec1-bf29e525b831",
        "colab": {
          "base_uri": "https://localhost:8080/",
          "height": 173
        }
      },
      "source": [
        "from keras.layers import Dense, Dropout, Embedding, LSTM, Bidirectional,CuDNNLSTM,Concatenate\n",
        "from keras.layers import Input, LSTM, Embedding, Dense\n",
        "from keras.models import Model\n",
        "\n",
        "# Encoder\n",
        "latent_dim = 64 # how much dimension of output we want form the embedding layer\n",
        "encoder_inputs = Input(shape=(None,)) # mentioning the input shape row and collumns are still null\n",
        "\n",
        "# **num_encoder_tokens** vocabulary size we are having\n",
        "\n",
        "enc_emb =  Embedding(num_encoder_tokens, latent_dim, mask_zero = True)(encoder_inputs) #Embedding layer # this layer will make it 3D\n",
        "# enc_emb = embedded_layer(encoder_inputs)\n",
        "#training the LSTM on encoder\n",
        "encoder_lstm = Bidirectional(LSTM(128, return_sequences=True, return_state=True))\n",
        "encoder_output, forward_h, forward_c, backward_h, backward_c = encoder_lstm(enc_emb)\n",
        "state_h = Concatenate()([forward_h, backward_h])\n",
        "state_c = Concatenate()([forward_c, backward_c])\n",
        "\n",
        "\n",
        "encoder_states = [state_h, state_c] #output and the cell state"
      ],
      "execution_count": 57,
      "outputs": [
        {
          "output_type": "stream",
          "text": [
            "WARNING:tensorflow:From /usr/local/lib/python3.6/dist-packages/keras/backend/tensorflow_backend.py:66: The name tf.get_default_graph is deprecated. Please use tf.compat.v1.get_default_graph instead.\n",
            "\n",
            "WARNING:tensorflow:From /usr/local/lib/python3.6/dist-packages/keras/backend/tensorflow_backend.py:541: The name tf.placeholder is deprecated. Please use tf.compat.v1.placeholder instead.\n",
            "\n",
            "WARNING:tensorflow:From /usr/local/lib/python3.6/dist-packages/keras/backend/tensorflow_backend.py:4432: The name tf.random_uniform is deprecated. Please use tf.random.uniform instead.\n",
            "\n",
            "WARNING:tensorflow:From /usr/local/lib/python3.6/dist-packages/keras/backend/tensorflow_backend.py:3239: where (from tensorflow.python.ops.array_ops) is deprecated and will be removed in a future version.\n",
            "Instructions for updating:\n",
            "Use tf.where in 2.0, which has the same broadcast rule as np.where\n"
          ],
          "name": "stdout"
        }
      ]
    },
    {
      "cell_type": "code",
      "metadata": {
        "id": "72FkFUHOh-Kf",
        "colab_type": "code",
        "colab": {}
      },
      "source": [
        "\n",
        "#  Set up the decoder, using `encoder_states` as initial state.\n",
        "decoder_inputs = Input(shape=(None,)) #Reply's input\n",
        "dec_emb_layer = Embedding(num_decoder_tokens, latent_dim, mask_zero = True) \n",
        "dec_emb = dec_emb_layer(decoder_inputs) # Reply sikhaye hum Embedding layer ko\n",
        "\n",
        "\n",
        "# We set up our decoder to return full output sequences,\n",
        "# and to return internal states as well. We don't use the\n",
        "# return states in the training model, but we will use them in inference.\n",
        "\n",
        "\n",
        "decoder_lstm = LSTM(256, return_sequences=True, return_state=True)\n",
        "decoder_output, decoder_h, decoder_c = decoder_lstm(dec_emb,initial_state=encoder_states)\n",
        "\n",
        "\n",
        "decoder_states = [decoder_h, decoder_c]\n",
        "\n",
        "decoder_dense = Dense(num_decoder_tokens, activation='softmax')\n",
        "decoder_outputs = decoder_dense(decoder_output)\n",
        "\n",
        "# Define the model that will turn\n",
        "# `encoder_input_data` & `decoder_input_data` into `decoder_target_data`\n",
        "model = Model([encoder_inputs, decoder_inputs], decoder_outputs)"
      ],
      "execution_count": 0,
      "outputs": []
    },
    {
      "cell_type": "code",
      "metadata": {
        "id": "rx8E8M6Jx_gN",
        "colab_type": "code",
        "outputId": "ccf7dced-3083-43ce-c1e5-7cabe4b18c65",
        "colab": {
          "base_uri": "https://localhost:8080/",
          "height": 225
        }
      },
      "source": [
        "model.save_weights('nmt_weights.h5')"
      ],
      "execution_count": 59,
      "outputs": [
        {
          "output_type": "stream",
          "text": [
            "WARNING:tensorflow:From /usr/local/lib/python3.6/dist-packages/keras/backend/tensorflow_backend.py:190: The name tf.get_default_session is deprecated. Please use tf.compat.v1.get_default_session instead.\n",
            "\n",
            "WARNING:tensorflow:From /usr/local/lib/python3.6/dist-packages/keras/backend/tensorflow_backend.py:197: The name tf.ConfigProto is deprecated. Please use tf.compat.v1.ConfigProto instead.\n",
            "\n",
            "WARNING:tensorflow:From /usr/local/lib/python3.6/dist-packages/keras/backend/tensorflow_backend.py:203: The name tf.Session is deprecated. Please use tf.compat.v1.Session instead.\n",
            "\n",
            "WARNING:tensorflow:From /usr/local/lib/python3.6/dist-packages/keras/backend/tensorflow_backend.py:207: The name tf.global_variables is deprecated. Please use tf.compat.v1.global_variables instead.\n",
            "\n",
            "WARNING:tensorflow:From /usr/local/lib/python3.6/dist-packages/keras/backend/tensorflow_backend.py:216: The name tf.is_variable_initialized is deprecated. Please use tf.compat.v1.is_variable_initialized instead.\n",
            "\n",
            "WARNING:tensorflow:From /usr/local/lib/python3.6/dist-packages/keras/backend/tensorflow_backend.py:223: The name tf.variables_initializer is deprecated. Please use tf.compat.v1.variables_initializer instead.\n",
            "\n"
          ],
          "name": "stdout"
        }
      ]
    },
    {
      "cell_type": "code",
      "metadata": {
        "id": "8rip_ucPyEKQ",
        "colab_type": "code",
        "colab": {}
      },
      "source": [
        "model.load_weights('nmt_weights.h5')"
      ],
      "execution_count": 0,
      "outputs": []
    },
    {
      "cell_type": "code",
      "metadata": {
        "id": "5hqEzomJym4S",
        "colab_type": "code",
        "colab": {}
      },
      "source": [
        "model.save('my_model.h5')"
      ],
      "execution_count": 0,
      "outputs": []
    },
    {
      "cell_type": "markdown",
      "metadata": {
        "id": "rl46yXkzQ_ez",
        "colab_type": "text"
      },
      "source": [
        "<h3> Adding Attention layer </h3>"
      ]
    },
    {
      "cell_type": "code",
      "metadata": {
        "id": "pFZLqHnLw9Sc",
        "colab_type": "code",
        "colab": {}
      },
      "source": [
        "# from keras.models import load_model\n",
        "# custom_objects = {\n",
        "#     'AttentionLayer':AttentionLayer\n",
        "# }\n",
        "# model = load_model('my_model.h5',custom_objects = custom_objects)"
      ],
      "execution_count": 0,
      "outputs": []
    },
    {
      "cell_type": "code",
      "metadata": {
        "id": "Wmr_DUpzaIOb",
        "colab_type": "code",
        "outputId": "199be429-6596-409c-ff4d-4a7dfa7473b5",
        "colab": {
          "base_uri": "https://localhost:8080/",
          "height": 35
        }
      },
      "source": [
        "encoder_output.shape"
      ],
      "execution_count": 63,
      "outputs": [
        {
          "output_type": "execute_result",
          "data": {
            "text/plain": [
              "TensorShape([Dimension(None), Dimension(None), Dimension(256)])"
            ]
          },
          "metadata": {
            "tags": []
          },
          "execution_count": 63
        }
      ]
    },
    {
      "cell_type": "code",
      "metadata": {
        "id": "QcQ_LzJDajkn",
        "colab_type": "code",
        "outputId": "6ccc1679-488b-4bf8-b06d-ee4a8241dbff",
        "colab": {
          "base_uri": "https://localhost:8080/",
          "height": 35
        }
      },
      "source": [
        "decoder_output.shape"
      ],
      "execution_count": 64,
      "outputs": [
        {
          "output_type": "execute_result",
          "data": {
            "text/plain": [
              "TensorShape([Dimension(None), Dimension(None), Dimension(256)])"
            ]
          },
          "metadata": {
            "tags": []
          },
          "execution_count": 64
        }
      ]
    },
    {
      "cell_type": "code",
      "metadata": {
        "id": "Yf_PYG_th-T9",
        "colab_type": "code",
        "outputId": "601f41c7-abd0-4a75-d8cd-8ac6cf1958f5",
        "colab": {
          "base_uri": "https://localhost:8080/",
          "height": 86
        }
      },
      "source": [
        "model.compile(optimizer='adam', loss='categorical_crossentropy', metrics=['acc'])"
      ],
      "execution_count": 65,
      "outputs": [
        {
          "output_type": "stream",
          "text": [
            "WARNING:tensorflow:From /usr/local/lib/python3.6/dist-packages/keras/optimizers.py:793: The name tf.train.Optimizer is deprecated. Please use tf.compat.v1.train.Optimizer instead.\n",
            "\n",
            "WARNING:tensorflow:From /usr/local/lib/python3.6/dist-packages/keras/backend/tensorflow_backend.py:3576: The name tf.log is deprecated. Please use tf.math.log instead.\n",
            "\n"
          ],
          "name": "stdout"
        }
      ]
    },
    {
      "cell_type": "code",
      "metadata": {
        "id": "G4WsxOpo79bC",
        "colab_type": "code",
        "outputId": "f9690a4b-1ea7-4613-931d-fa26830d4d0e",
        "colab": {
          "base_uri": "https://localhost:8080/",
          "height": 553
        }
      },
      "source": [
        "print(model.summary())"
      ],
      "execution_count": 66,
      "outputs": [
        {
          "output_type": "stream",
          "text": [
            "Model: \"model_1\"\n",
            "__________________________________________________________________________________________________\n",
            "Layer (type)                    Output Shape         Param #     Connected to                     \n",
            "==================================================================================================\n",
            "input_1 (InputLayer)            (None, None)         0                                            \n",
            "__________________________________________________________________________________________________\n",
            "embedding_1 (Embedding)         (None, None, 64)     235008      input_1[0][0]                    \n",
            "__________________________________________________________________________________________________\n",
            "input_2 (InputLayer)            (None, None)         0                                            \n",
            "__________________________________________________________________________________________________\n",
            "bidirectional_1 (Bidirectional) [(None, None, 256),  197632      embedding_1[0][0]                \n",
            "__________________________________________________________________________________________________\n",
            "embedding_2 (Embedding)         (None, None, 64)     241664      input_2[0][0]                    \n",
            "__________________________________________________________________________________________________\n",
            "concatenate_1 (Concatenate)     (None, 256)          0           bidirectional_1[0][1]            \n",
            "                                                                 bidirectional_1[0][3]            \n",
            "__________________________________________________________________________________________________\n",
            "concatenate_2 (Concatenate)     (None, 256)          0           bidirectional_1[0][2]            \n",
            "                                                                 bidirectional_1[0][4]            \n",
            "__________________________________________________________________________________________________\n",
            "lstm_2 (LSTM)                   [(None, None, 256),  328704      embedding_2[0][0]                \n",
            "                                                                 concatenate_1[0][0]              \n",
            "                                                                 concatenate_2[0][0]              \n",
            "__________________________________________________________________________________________________\n",
            "dense_1 (Dense)                 (None, None, 3776)   970432      lstm_2[0][0]                     \n",
            "==================================================================================================\n",
            "Total params: 1,973,440\n",
            "Trainable params: 1,973,440\n",
            "Non-trainable params: 0\n",
            "__________________________________________________________________________________________________\n",
            "None\n"
          ],
          "name": "stdout"
        }
      ]
    },
    {
      "cell_type": "code",
      "metadata": {
        "id": "dVXgCsmaCuBN",
        "colab_type": "code",
        "outputId": "66c885ec-7a75-438b-fa73-77647177266d",
        "colab": {
          "base_uri": "https://localhost:8080/",
          "height": 564
        }
      },
      "source": [
        "from keras.utils import plot_model\n",
        "plot_model(model, to_file='multilayer_perceptron_graph.png')"
      ],
      "execution_count": 67,
      "outputs": [
        {
          "output_type": "execute_result",
          "data": {
            "image/png": "[encoded data removed]",
            "text/plain": [
              "<IPython.core.display.Image object>"
            ]
          },
          "metadata": {
            "tags": []
          },
          "execution_count": 67
        }
      ]
    },
    {
      "cell_type": "code",
      "metadata": {
        "id": "CcOVjE3-EDHe",
        "colab_type": "code",
        "colab": {}
      },
      "source": [
        "temp = generate_batch(X_train, y_train, batch_size = len(X_train.values))\n",
        "a  = temp[0]\n",
        "b  = temp[1]\n",
        "# c,d = generate_batch(X_test, y_test, batch_size = len(X_test.values))"
      ],
      "execution_count": 0,
      "outputs": []
    },
    {
      "cell_type": "code",
      "metadata": {
        "id": "PwDyBi_tlfbK",
        "colab_type": "code",
        "colab": {}
      },
      "source": [
        "# import numpy as np\n",
        "# model.fit_generator(generator = generate_batch(X_train, y_train, batch_size = 100),\n",
        "#                     steps_per_epoch = len(X_train),\n",
        "#                     epochs=10,\n",
        "#                     validation_data = generate_batch(X_test, y_test, batch_size = 100),\n",
        "#                     validation_steps = len(X_test)\n",
        "#                     )\n"
      ],
      "execution_count": 0,
      "outputs": []
    },
    {
      "cell_type": "code",
      "metadata": {
        "id": "BmQECEaZG2Ct",
        "colab_type": "code",
        "outputId": "d4e003bc-7ae7-49c3-95bd-8e8824552f8d",
        "colab": {
          "base_uri": "https://localhost:8080/",
          "height": 35
        }
      },
      "source": [
        "b.shape"
      ],
      "execution_count": 69,
      "outputs": [
        {
          "output_type": "execute_result",
          "data": {
            "text/plain": [
              "(2625, 158, 3776)"
            ]
          },
          "metadata": {
            "tags": []
          },
          "execution_count": 69
        }
      ]
    },
    {
      "cell_type": "code",
      "metadata": {
        "id": "nKGhcA2EEdwK",
        "colab_type": "code",
        "outputId": "587828e4-ab4b-463b-d329-b6aa8d4b3387",
        "colab": {
          "base_uri": "https://localhost:8080/",
          "height": 1000
        }
      },
      "source": [
        "model.fit(a,b,batch_size=100,epochs=50,verbose=1)"
      ],
      "execution_count": 131,
      "outputs": [
        {
          "output_type": "stream",
          "text": [
            "Epoch 1/50\n",
            "2625/2625 [==============================] - 14s 5ms/step - loss: 1.6552 - acc: 0.5194\n",
            "Epoch 2/50\n",
            "2625/2625 [==============================] - 14s 5ms/step - loss: 1.6139 - acc: 0.5294\n",
            "Epoch 3/50\n",
            "2625/2625 [==============================] - 14s 5ms/step - loss: 1.5952 - acc: 0.5332\n",
            "Epoch 4/50\n",
            "2625/2625 [==============================] - 14s 5ms/step - loss: 1.5427 - acc: 0.5433\n",
            "Epoch 5/50\n",
            "2625/2625 [==============================] - 14s 5ms/step - loss: 1.4961 - acc: 0.5536\n",
            "Epoch 6/50\n",
            "2625/2625 [==============================] - 14s 5ms/step - loss: 1.4550 - acc: 0.5605\n",
            "Epoch 7/50\n",
            "2625/2625 [==============================] - 14s 5ms/step - loss: 1.4134 - acc: 0.5673\n",
            "Epoch 8/50\n",
            "2625/2625 [==============================] - 14s 5ms/step - loss: 1.3738 - acc: 0.5769\n",
            "Epoch 9/50\n",
            "2625/2625 [==============================] - 14s 5ms/step - loss: 1.3414 - acc: 0.5849\n",
            "Epoch 10/50\n",
            "2625/2625 [==============================] - 14s 5ms/step - loss: 1.3008 - acc: 0.5940\n",
            "Epoch 11/50\n",
            "2625/2625 [==============================] - 14s 5ms/step - loss: 1.2667 - acc: 0.5979\n",
            "Epoch 12/50\n",
            "2625/2625 [==============================] - 14s 5ms/step - loss: 1.2283 - acc: 0.6082\n",
            "Epoch 13/50\n",
            "2625/2625 [==============================] - 14s 5ms/step - loss: 1.2024 - acc: 0.6119\n",
            "Epoch 14/50\n",
            "2625/2625 [==============================] - 14s 5ms/step - loss: 1.1703 - acc: 0.6181\n",
            "Epoch 15/50\n",
            "2625/2625 [==============================] - 14s 5ms/step - loss: 1.1356 - acc: 0.6258\n",
            "Epoch 16/50\n",
            "2625/2625 [==============================] - 13s 5ms/step - loss: 1.1027 - acc: 0.6336\n",
            "Epoch 17/50\n",
            "2625/2625 [==============================] - 14s 5ms/step - loss: 1.0767 - acc: 0.6380\n",
            "Epoch 18/50\n",
            "2625/2625 [==============================] - 14s 5ms/step - loss: 1.0507 - acc: 0.6453\n",
            "Epoch 19/50\n",
            "2625/2625 [==============================] - 14s 5ms/step - loss: 1.0235 - acc: 0.6493\n",
            "Epoch 20/50\n",
            "2625/2625 [==============================] - 14s 5ms/step - loss: 0.9927 - acc: 0.6524\n",
            "Epoch 21/50\n",
            "2625/2625 [==============================] - 14s 5ms/step - loss: 0.9684 - acc: 0.6606\n",
            "Epoch 22/50\n",
            "2625/2625 [==============================] - 14s 5ms/step - loss: 0.9381 - acc: 0.6662\n",
            "Epoch 23/50\n",
            "2625/2625 [==============================] - 14s 5ms/step - loss: 0.9161 - acc: 0.6697\n",
            "Epoch 24/50\n",
            "2625/2625 [==============================] - 14s 5ms/step - loss: 0.8984 - acc: 0.6731\n",
            "Epoch 25/50\n",
            "2625/2625 [==============================] - 14s 5ms/step - loss: 0.8726 - acc: 0.6797\n",
            "Epoch 26/50\n",
            "2625/2625 [==============================] - 14s 5ms/step - loss: 0.8459 - acc: 0.6850\n",
            "Epoch 27/50\n",
            "2625/2625 [==============================] - 14s 5ms/step - loss: 0.8187 - acc: 0.6890\n",
            "Epoch 28/50\n",
            "2625/2625 [==============================] - 14s 5ms/step - loss: 0.7963 - acc: 0.6950\n",
            "Epoch 29/50\n",
            "2625/2625 [==============================] - 14s 5ms/step - loss: 0.7717 - acc: 0.6986\n",
            "Epoch 30/50\n",
            "2625/2625 [==============================] - 14s 5ms/step - loss: 0.7547 - acc: 0.7014\n",
            "Epoch 31/50\n",
            "2625/2625 [==============================] - 14s 5ms/step - loss: 0.7383 - acc: 0.7046\n",
            "Epoch 32/50\n",
            "2625/2625 [==============================] - 14s 5ms/step - loss: 0.7134 - acc: 0.7116\n",
            "Epoch 33/50\n",
            "2625/2625 [==============================] - 14s 5ms/step - loss: 0.6991 - acc: 0.7150\n",
            "Epoch 34/50\n",
            "2625/2625 [==============================] - 14s 5ms/step - loss: 0.6811 - acc: 0.7153\n",
            "Epoch 35/50\n",
            "2625/2625 [==============================] - 14s 5ms/step - loss: 0.6597 - acc: 0.7194\n",
            "Epoch 36/50\n",
            "2625/2625 [==============================] - 14s 5ms/step - loss: 0.6421 - acc: 0.7264\n",
            "Epoch 37/50\n",
            "2625/2625 [==============================] - 14s 5ms/step - loss: 0.6250 - acc: 0.7263\n",
            "Epoch 38/50\n",
            "2625/2625 [==============================] - 14s 5ms/step - loss: 0.6124 - acc: 0.7284\n",
            "Epoch 39/50\n",
            "2625/2625 [==============================] - 14s 5ms/step - loss: 0.5933 - acc: 0.7333\n",
            "Epoch 40/50\n",
            "2625/2625 [==============================] - 14s 5ms/step - loss: 0.5769 - acc: 0.7358\n",
            "Epoch 41/50\n",
            "2625/2625 [==============================] - 14s 5ms/step - loss: 0.5629 - acc: 0.7407\n",
            "Epoch 42/50\n",
            "2625/2625 [==============================] - 14s 5ms/step - loss: 0.5454 - acc: 0.7409\n",
            "Epoch 43/50\n",
            "2625/2625 [==============================] - 14s 5ms/step - loss: 0.5364 - acc: 0.7429\n",
            "Epoch 44/50\n",
            "2625/2625 [==============================] - 14s 5ms/step - loss: 0.5179 - acc: 0.7469\n",
            "Epoch 45/50\n",
            "2625/2625 [==============================] - 14s 5ms/step - loss: 0.5049 - acc: 0.7501\n",
            "Epoch 46/50\n",
            "2625/2625 [==============================] - 14s 5ms/step - loss: 0.4907 - acc: 0.7524\n",
            "Epoch 47/50\n",
            "2625/2625 [==============================] - 14s 5ms/step - loss: 0.4780 - acc: 0.7548\n",
            "Epoch 48/50\n",
            "2625/2625 [==============================] - 14s 5ms/step - loss: 0.4658 - acc: 0.7554\n",
            "Epoch 49/50\n",
            "2625/2625 [==============================] - 14s 5ms/step - loss: 0.4537 - acc: 0.7596\n",
            "Epoch 50/50\n",
            "2625/2625 [==============================] - 14s 5ms/step - loss: 0.4427 - acc: 0.7598\n"
          ],
          "name": "stdout"
        },
        {
          "output_type": "execute_result",
          "data": {
            "text/plain": [
              "<keras.callbacks.History at 0x7f89bc663b38>"
            ]
          },
          "metadata": {
            "tags": []
          },
          "execution_count": 131
        }
      ]
    },
    {
      "cell_type": "code",
      "metadata": {
        "id": "h5UsISMbd-v3",
        "colab_type": "code",
        "outputId": "640428b5-01b4-4717-aa30-10e6af382920",
        "colab": {
          "base_uri": "https://localhost:8080/",
          "height": 35
        }
      },
      "source": [
        " \n",
        "encoder_output"
      ],
      "execution_count": 132,
      "outputs": [
        {
          "output_type": "execute_result",
          "data": {
            "text/plain": [
              "<tf.Tensor 'bidirectional_1/concat:0' shape=(?, ?, 256) dtype=float32>"
            ]
          },
          "metadata": {
            "tags": []
          },
          "execution_count": 132
        }
      ]
    },
    {
      "cell_type": "markdown",
      "metadata": {
        "id": "_JZ_O1EzJQfx",
        "colab_type": "text"
      },
      "source": [
        "# Inference"
      ]
    },
    {
      "cell_type": "code",
      "metadata": {
        "id": "2ShFI9RQqsVk",
        "colab_type": "code",
        "colab": {}
      },
      "source": [
        "#Making new model so that we can predict the output\n",
        "# taking all input and output of the encoder from the previous model to here\n",
        "    #encoder_inputs: It's the tokenized and padded words from the English\n",
        "encoder_model = Model(encoder_inputs, encoder_states) # this is not used for the input in the LSTM"
      ],
      "execution_count": 0,
      "outputs": []
    },
    {
      "cell_type": "code",
      "metadata": {
        "id": "J6b2dtuMqiY3",
        "colab_type": "code",
        "outputId": "37572ff6-7737-4ea5-aa22-64aa95a2bd58",
        "colab": {
          "base_uri": "https://localhost:8080/",
          "height": 369
        }
      },
      "source": [
        "from keras.utils import plot_model\n",
        "plot_model(encoder_model, to_file='multilayer_perceptron_graph.png')"
      ],
      "execution_count": 134,
      "outputs": [
        {
          "output_type": "execute_result",
          "data": {
            "image/png": "[encoded data removed]",
            "text/plain": [
              "<IPython.core.display.Image object>"
            ]
          },
          "metadata": {
            "tags": []
          },
          "execution_count": 134
        }
      ]
    },
    {
      "cell_type": "code",
      "metadata": {
        "id": "7O1l0GRnqXuQ",
        "colab_type": "code",
        "outputId": "35501c76-9150-4e52-c3d9-aea89aa349b5",
        "colab": {
          "base_uri": "https://localhost:8080/",
          "height": 363
        }
      },
      "source": [
        "encoder_model.summary()\n"
      ],
      "execution_count": 135,
      "outputs": [
        {
          "output_type": "stream",
          "text": [
            "Model: \"model_6\"\n",
            "__________________________________________________________________________________________________\n",
            "Layer (type)                    Output Shape         Param #     Connected to                     \n",
            "==================================================================================================\n",
            "input_1 (InputLayer)            (None, None)         0                                            \n",
            "__________________________________________________________________________________________________\n",
            "embedding_1 (Embedding)         (None, None, 64)     235008      input_1[0][0]                    \n",
            "__________________________________________________________________________________________________\n",
            "bidirectional_1 (Bidirectional) [(None, None, 256),  197632      embedding_1[0][0]                \n",
            "__________________________________________________________________________________________________\n",
            "concatenate_1 (Concatenate)     (None, 256)          0           bidirectional_1[0][1]            \n",
            "                                                                 bidirectional_1[0][3]            \n",
            "__________________________________________________________________________________________________\n",
            "concatenate_2 (Concatenate)     (None, 256)          0           bidirectional_1[0][2]            \n",
            "                                                                 bidirectional_1[0][4]            \n",
            "==================================================================================================\n",
            "Total params: 432,640\n",
            "Trainable params: 432,640\n",
            "Non-trainable params: 0\n",
            "__________________________________________________________________________________________________\n"
          ],
          "name": "stdout"
        }
      ]
    },
    {
      "cell_type": "markdown",
      "metadata": {
        "id": "V-RL4UnnNrOD",
        "colab_type": "text"
      },
      "source": [
        "___"
      ]
    },
    {
      "cell_type": "code",
      "metadata": {
        "id": "lD9qWnX3sfKc",
        "colab_type": "code",
        "colab": {}
      },
      "source": [
        "#giving input to decoder\n",
        "decoder_state_input_h = Input(shape=(256,)) # this will be the input form the encoders # cz 256 is from the encoder after concatination \n",
        "decoder_state_input_c = Input(shape=(256,)) #cell state after the encoder\n",
        "\n",
        "decoder_states_inputs = [decoder_state_input_h, decoder_state_input_c]\n",
        "\n",
        "#Reply words tokenized\n",
        "dec_emb2= dec_emb_layer(decoder_inputs) #Get the embeddings of the decoder sequence\n",
        "\n",
        "#decoder ka output and cell state nikal liya \n",
        "    # decoder_lstm = LSTM(256, return_sequences=True, return_state=True)\n",
        "        # here dec_emb2 we passed the output from the embedding later which for trained on tokenized sentensed of Reply words\n",
        "decoder_outputs, state_h2, state_c2 = decoder_lstm(dec_emb2, initial_state=decoder_states_inputs)\n",
        "\n",
        "#added both states from the decoder \n",
        "decoder_states = [state_h2, state_c2]  \n",
        "\n",
        "# Passing the output from the decoder model to the dense layer\n",
        "decoder_output_dense = decoder_dense(decoder_outputs)\n",
        "\n",
        "# Final decoder model\n",
        "# decoder_inputs : Embedding layer ko Reply sentence tokenized\n",
        "# decoder_states_inputs : this is from the encoder\n",
        "# decoder_outputs2 : #ye decoder ka output he //predicted values from the decoder not the cellstate or output(h)\n",
        "# decoder_states2 : #ye output(h) & cell state h from decoder # not form LSTm this is coming after the dense layer\n",
        "\n",
        "\n",
        "decoder_model = Model(\n",
        "    [decoder_inputs] + decoder_states_inputs,\n",
        "    [decoder_output_dense] + decoder_states)"
      ],
      "execution_count": 0,
      "outputs": []
    },
    {
      "cell_type": "code",
      "metadata": {
        "id": "pBVnsk5sMxHC",
        "colab_type": "code",
        "colab": {
          "base_uri": "https://localhost:8080/",
          "height": 415
        },
        "outputId": "b19399ce-3331-4e7d-ddf4-4bbef3952dab"
      },
      "source": [
        "print(decoder_model.summary())"
      ],
      "execution_count": 137,
      "outputs": [
        {
          "output_type": "stream",
          "text": [
            "Model: \"model_7\"\n",
            "__________________________________________________________________________________________________\n",
            "Layer (type)                    Output Shape         Param #     Connected to                     \n",
            "==================================================================================================\n",
            "input_2 (InputLayer)            (None, None)         0                                            \n",
            "__________________________________________________________________________________________________\n",
            "embedding_2 (Embedding)         (None, None, 64)     241664      input_2[0][0]                    \n",
            "__________________________________________________________________________________________________\n",
            "input_7 (InputLayer)            (None, 256)          0                                            \n",
            "__________________________________________________________________________________________________\n",
            "input_8 (InputLayer)            (None, 256)          0                                            \n",
            "__________________________________________________________________________________________________\n",
            "lstm_2 (LSTM)                   [(None, None, 256),  328704      embedding_2[3][0]                \n",
            "                                                                 input_7[0][0]                    \n",
            "                                                                 input_8[0][0]                    \n",
            "__________________________________________________________________________________________________\n",
            "dense_1 (Dense)                 (None, None, 3776)   970432      lstm_2[3][0]                     \n",
            "==================================================================================================\n",
            "Total params: 1,540,800\n",
            "Trainable params: 1,540,800\n",
            "Non-trainable params: 0\n",
            "__________________________________________________________________________________________________\n",
            "None\n"
          ],
          "name": "stdout"
        }
      ]
    },
    {
      "cell_type": "code",
      "metadata": {
        "id": "Dh77NQFZqdes",
        "colab_type": "code",
        "outputId": "c7c1a13e-1965-4d96-d6fa-3ef77ed7baeb",
        "colab": {
          "base_uri": "https://localhost:8080/",
          "height": 369
        }
      },
      "source": [
        "from keras.utils import plot_model\n",
        "plot_model(decoder_model, to_file='multilayer_perceptron_graph.png')"
      ],
      "execution_count": 138,
      "outputs": [
        {
          "output_type": "execute_result",
          "data": {
            "image/png": "[encoded data removed]",
            "text/plain": [
              "<IPython.core.display.Image object>"
            ]
          },
          "metadata": {
            "tags": []
          },
          "execution_count": 138
        }
      ]
    },
    {
      "cell_type": "code",
      "metadata": {
        "id": "WBX4h23ODhui",
        "colab_type": "code",
        "colab": {}
      },
      "source": [
        "def decode_sequence(input_seq):\n",
        "    # Encode the input as state vectors.\n",
        "    states_value = encoder_model.predict(input_seq)\n",
        "    # Generate empty target sequence of length 1.\n",
        "    target_seq = np.zeros((1,1))\n",
        "    # Populate the first character of target sequence with the start character.\n",
        "    target_seq[0, 0] = target_token_index['start_']\n",
        "\n",
        "    # Sampling loop for a batch of sequences\n",
        "    # (to simplify, here we assume a batch of size 1).\n",
        "    stop_condition = False\n",
        "    decoded_sentence = ''\n",
        "    while not stop_condition:\n",
        "        output_tokens, h, c = decoder_model.predict([target_seq] + states_value)\n",
        "\n",
        "        # Sample a token\n",
        "        sampled_token_index = np.argmax(output_tokens[0, -1, :]) #need to check this logic \n",
        "        sampled_char = reverse_target_char_index[sampled_token_index]\n",
        "        decoded_sentence += ' '+sampled_char\n",
        "\n",
        "        # Exit condition: either hit max length\n",
        "        # or find stop character.\n",
        "        if (sampled_char == '_end' or\n",
        "           len(decoded_sentence) > 50):\n",
        "            stop_condition = True\n",
        "\n",
        "        # Update the target sequence (of length 1).\n",
        "        target_seq = np.zeros((1,1))\n",
        "        target_seq[0, 0] = sampled_token_index\n",
        "\n",
        "        # Update states\n",
        "        states_value = [h, c]\n",
        "\n",
        "    return decoded_sentence"
      ],
      "execution_count": 0,
      "outputs": []
    },
    {
      "cell_type": "code",
      "metadata": {
        "id": "hi7urs22o-Wz",
        "colab_type": "code",
        "colab": {}
      },
      "source": [
        "def generate_batch(X, y, batch_size):\n",
        "    while True:\n",
        "      # in every batch we are sending (batch_size) of sentences\n",
        "        for j in range(0, len(X), batch_size):\n",
        "            encoder_input_data = np.zeros((batch_size, max_length_src),\n",
        "                    dtype='float32')\n",
        "            decoder_input_data = np.zeros((batch_size, max_length_tar),\n",
        "                    dtype='float32')\n",
        "            decoder_target_data = np.zeros((batch_size, max_length_tar,\n",
        "                    num_decoder_tokens), dtype='float32')\n",
        "\n",
        "            # for all the sentences in the batch\n",
        "            for (i, (input_text, target_text)) in enumerate(zip(X[j:j\n",
        "                    + batch_size], y[j:j + batch_size])):\n",
        "\n",
        "                # for words in each sentence //English\n",
        "                for (t, word) in enumerate(input_text.split()):  # English wale text ko tokenize kiya gaya\n",
        "                    encoder_input_data[i,t] = input_token_index[word]  # encoder input seq\n",
        "\n",
        "                # for each word in   Sentence\n",
        "                for (t, word) in enumerate(target_text.split()):  # t is the length of the sentence\n",
        "                    if t < len(target_text.split()):\n",
        "                        decoder_input_data[i,t] = target_token_index[word]  # decoder input seq\n",
        "                    if t > 0:\n",
        "                        #one-hot encoding \n",
        "                        #and making it to the output shape from decoder\n",
        "                        decoder_target_data[i, t - 1,\n",
        "                                target_token_index[word]] = 1.\n",
        "                                                       \n",
        "            yield ([encoder_input_data, decoder_input_data],\n",
        "                   decoder_target_data)  # this will help multiple return// like closure in swift\n"
      ],
      "execution_count": 0,
      "outputs": []
    },
    {
      "cell_type": "code",
      "metadata": {
        "id": "LzmrXlw86BIn",
        "colab_type": "code",
        "colab": {}
      },
      "source": [
        "train_gen = generate_batch([X_train.values[29]], [y_train.values[29]], batch_size = 1)\n",
        "k=-1"
      ],
      "execution_count": 0,
      "outputs": []
    },
    {
      "cell_type": "code",
      "metadata": {
        "id": "4YDQelrrwbQu",
        "colab_type": "code",
        "colab": {}
      },
      "source": [
        "\n",
        "(input_seq, actual_output), end_temp = next(train_gen)"
      ],
      "execution_count": 0,
      "outputs": []
    },
    {
      "cell_type": "code",
      "metadata": {
        "id": "juDXuhan2H9r",
        "colab_type": "code",
        "colab": {
          "base_uri": "https://localhost:8080/",
          "height": 69
        },
        "outputId": "4b7a7708-0543-49a9-ebc0-1c52d25efd94"
      },
      "source": [
        "predicted_sentence = decode_sequence(input_seq)\n",
        "print('question/email: ',X_train.values[29])\n",
        "reply = y_train.values[29].replace('start_', '')\n",
        "reply = reply.replace('_end','.')\n",
        "print('original reply: ',reply)\n",
        "predicted_txt = predicted_sentence.replace('_end','.')\n",
        "print('predicted reply: ',predicted_txt)"
      ],
      "execution_count": 192,
      "outputs": [
        {
          "output_type": "stream",
          "text": [
            "question/email:  who ha it own polit legislatur and governor\n",
            "original reply:   each province .\n",
            "predicted reply:   each province .\n"
          ],
          "name": "stdout"
        }
      ]
    },
    {
      "cell_type": "code",
      "metadata": {
        "id": "O6beoJ3SCxlz",
        "colab_type": "code",
        "outputId": "27d05f19-270f-4cfc-a288-84a2d9ea42a8",
        "colab": {
          "base_uri": "https://localhost:8080/",
          "height": 86
        }
      },
      "source": [
        ""
      ],
      "execution_count": 167,
      "outputs": [
        {
          "output_type": "stream",
          "text": [
            "(1, 1, 3776)\n",
            "(1, 1, 3776)\n",
            "(1, 1, 3776)\n"
          ],
          "name": "stdout"
        },
        {
          "output_type": "execute_result",
          "data": {
            "text/plain": [
              "' each province _end'"
            ]
          },
          "metadata": {
            "tags": []
          },
          "execution_count": 167
        }
      ]
    },
    {
      "cell_type": "code",
      "metadata": {
        "id": "wvJNwE0N6_To",
        "colab_type": "code",
        "outputId": "e4adc26b-13d9-4088-a8d4-4377a7de4bbf",
        "colab": {
          "base_uri": "https://localhost:8080/",
          "height": 121
        }
      },
      "source": [
        "input_seq"
      ],
      "execution_count": 150,
      "outputs": [
        {
          "output_type": "execute_result",
          "data": {
            "text/plain": [
              "array([[3570., 3283., 2599., 2387., 1935., 2080.,    0.,    0.,    0.,\n",
              "           0.,    0.,    0.,    0.,    0.,    0.,    0.,    0.,    0.,\n",
              "           0.,    0.,    0.,    0.,    0.,    0.,    0.,    0.,    0.,\n",
              "           0.,    0.,    0.,    0.,    0.,    0.,    0.,    0.,    0.,\n",
              "           0.,    0.,    0.,    0.,    0.,    0.,    0.,    0.]],\n",
              "      dtype=float32)"
            ]
          },
          "metadata": {
            "tags": []
          },
          "execution_count": 150
        }
      ]
    },
    {
      "cell_type": "code",
      "metadata": {
        "id": "pti93YEymsPC",
        "colab_type": "code",
        "outputId": "466b4189-9bab-40ba-8d4c-331f332cf605",
        "colab": {
          "base_uri": "https://localhost:8080/",
          "height": 86
        }
      },
      "source": [
        "decode_sequence(input_seq)"
      ],
      "execution_count": 151,
      "outputs": [
        {
          "output_type": "stream",
          "text": [
            "(1, 1, 3776)\n",
            "(1, 1, 3776)\n",
            "(1, 1, 3776)\n"
          ],
          "name": "stdout"
        },
        {
          "output_type": "execute_result",
          "data": {
            "text/plain": [
              "' 16 million _end'"
            ]
          },
          "metadata": {
            "tags": []
          },
          "execution_count": 151
        }
      ]
    },
    {
      "cell_type": "code",
      "metadata": {
        "id": "YdAYuoeT6Jbf",
        "colab_type": "code",
        "outputId": "b266845e-d5da-4fe6-baf9-f156326f2e62",
        "colab": {
          "base_uri": "https://localhost:8080/",
          "height": 269
        }
      },
      "source": [
        "decoded_sentence = decode_sequence(input_seq)\n",
        "print('Input English sentence:', X_train[k:k+1].values[0])\n",
        "print('Actual Reply :', y_train[k:k+1].values[0][6:-4])\n",
        "print('Predicted Reply :', decoded_sentence[:-4])"
      ],
      "execution_count": 152,
      "outputs": [
        {
          "output_type": "stream",
          "text": [
            "(1, 1, 3776)\n",
            "(1, 1, 3776)\n",
            "(1, 1, 3776)\n"
          ],
          "name": "stdout"
        },
        {
          "output_type": "error",
          "ename": "IndexError",
          "evalue": "ignored",
          "traceback": [
            "\u001b[0;31m---------------------------------------------------------------------------\u001b[0m",
            "\u001b[0;31mIndexError\u001b[0m                                Traceback (most recent call last)",
            "\u001b[0;32m<ipython-input-152-649bd9c402d3>\u001b[0m in \u001b[0;36m<module>\u001b[0;34m()\u001b[0m\n\u001b[1;32m      1\u001b[0m \u001b[0mdecoded_sentence\u001b[0m \u001b[0;34m=\u001b[0m \u001b[0mdecode_sequence\u001b[0m\u001b[0;34m(\u001b[0m\u001b[0minput_seq\u001b[0m\u001b[0;34m)\u001b[0m\u001b[0;34m\u001b[0m\u001b[0;34m\u001b[0m\u001b[0m\n\u001b[0;32m----> 2\u001b[0;31m \u001b[0mprint\u001b[0m\u001b[0;34m(\u001b[0m\u001b[0;34m'Input English sentence:'\u001b[0m\u001b[0;34m,\u001b[0m \u001b[0mX_train\u001b[0m\u001b[0;34m[\u001b[0m\u001b[0mk\u001b[0m\u001b[0;34m:\u001b[0m\u001b[0mk\u001b[0m\u001b[0;34m+\u001b[0m\u001b[0;36m1\u001b[0m\u001b[0;34m]\u001b[0m\u001b[0;34m.\u001b[0m\u001b[0mvalues\u001b[0m\u001b[0;34m[\u001b[0m\u001b[0;36m0\u001b[0m\u001b[0;34m]\u001b[0m\u001b[0;34m)\u001b[0m\u001b[0;34m\u001b[0m\u001b[0;34m\u001b[0m\u001b[0m\n\u001b[0m\u001b[1;32m      3\u001b[0m \u001b[0mprint\u001b[0m\u001b[0;34m(\u001b[0m\u001b[0;34m'Actual Reply :'\u001b[0m\u001b[0;34m,\u001b[0m \u001b[0my_train\u001b[0m\u001b[0;34m[\u001b[0m\u001b[0mk\u001b[0m\u001b[0;34m:\u001b[0m\u001b[0mk\u001b[0m\u001b[0;34m+\u001b[0m\u001b[0;36m1\u001b[0m\u001b[0;34m]\u001b[0m\u001b[0;34m.\u001b[0m\u001b[0mvalues\u001b[0m\u001b[0;34m[\u001b[0m\u001b[0;36m0\u001b[0m\u001b[0;34m]\u001b[0m\u001b[0;34m[\u001b[0m\u001b[0;36m6\u001b[0m\u001b[0;34m:\u001b[0m\u001b[0;34m-\u001b[0m\u001b[0;36m4\u001b[0m\u001b[0;34m]\u001b[0m\u001b[0;34m)\u001b[0m\u001b[0;34m\u001b[0m\u001b[0;34m\u001b[0m\u001b[0m\n\u001b[1;32m      4\u001b[0m \u001b[0mprint\u001b[0m\u001b[0;34m(\u001b[0m\u001b[0;34m'Predicted Reply :'\u001b[0m\u001b[0;34m,\u001b[0m \u001b[0mdecoded_sentence\u001b[0m\u001b[0;34m[\u001b[0m\u001b[0;34m:\u001b[0m\u001b[0;34m-\u001b[0m\u001b[0;36m4\u001b[0m\u001b[0;34m]\u001b[0m\u001b[0;34m)\u001b[0m\u001b[0;34m\u001b[0m\u001b[0;34m\u001b[0m\u001b[0m\n",
            "\u001b[0;31mIndexError\u001b[0m: index 0 is out of bounds for axis 0 with size 0"
          ]
        }
      ]
    },
    {
      "cell_type": "code",
      "metadata": {
        "id": "ZzXmzNL7_1Ao",
        "colab_type": "code",
        "colab": {}
      },
      "source": [
        "k+=1\n",
        "decoded_sentence = decode_sequence(input_seq)\n",
        "print('Input English sentence:', X_train[k:k+1].values[0])\n",
        "print('Actual Reply:', y_train[k:k+1].values[0][6:-4])\n",
        "print('Predicted Reply:', decoded_sentence[:-4])"
      ],
      "execution_count": 0,
      "outputs": []
    },
    {
      "cell_type": "code",
      "metadata": {
        "id": "6EA1n3bse2LJ",
        "colab_type": "code",
        "colab": {}
      },
      "source": [
        ""
      ],
      "execution_count": 0,
      "outputs": []
    }
  ]
}