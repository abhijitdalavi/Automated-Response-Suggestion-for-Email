{
  "nbformat": 4,
  "nbformat_minor": 0,
  "metadata": {
    "colab": {
      "name": "Smart_Gmail_Reply.ipynb",
      "provenance": [],
      "collapsed_sections": [
        "IDH7zDPp8wgU"
      ],
      "machine_shape": "hm",
      "include_colab_link": true
    },
    "kernelspec": {
      "name": "python3",
      "display_name": "Python 3"
    },
    "accelerator": "GPU"
  },
  "cells": [
    {
      "cell_type": "markdown",
      "metadata": {
        "id": "view-in-github",
        "colab_type": "text"
      },
      "source": [
        "<a href=\"https://colab.research.google.com/github/yatindma/Automated-Response-Suggestion-for-Email/blob/master/Smart_Gmail_Reply.ipynb\" target=\"_parent\"><img src=\"https://colab.research.google.com/assets/colab-badge.svg\" alt=\"Open In Colab\"/></a>"
      ]
    },
    {
      "cell_type": "markdown",
      "metadata": {
        "id": "t0B6vYT4gFCH",
        "colab_type": "text"
      },
      "source": [
        "<h2> Overview </h2>\n",
        "\n",
        "Here we'll try to predict the Short email responses.<br>\n",
        "As most of the emails have shorter replies.<br>\n",
        "So that it can be easy to reply, without the hassle of typing.<br>\n",
        "It can help in saving the time of the person.<br>\n",
        "\n",
        "########################################################\n",
        "\n",
        "Will update later.\n",
        "########################################################\n",
        "\n",
        "\n",
        "[my kilnkn](www.com)\n",
        "\n",
        "\n"
      ]
    },
    {
      "cell_type": "code",
      "metadata": {
        "id": "C02AflfXgEUP",
        "colab_type": "code",
        "colab": {}
      },
      "source": [
        "import pandas as pd\n",
        "import numpy as np\n",
        "import matplotlib.pyplot as plt\n",
        "%matplotlib inline"
      ],
      "execution_count": 0,
      "outputs": []
    },
    {
      "cell_type": "markdown",
      "metadata": {
        "id": "6DWZSzjLHzu2",
        "colab_type": "text"
      },
      "source": [
        "<h4> Reading the data </h4>"
      ]
    },
    {
      "cell_type": "code",
      "metadata": {
        "id": "3Q_E3Tr9Elm-",
        "colab_type": "code",
        "colab": {}
      },
      "source": [
        "\n",
        "data = pd.read_csv('qa_dataset.csv', encoding = \"ISO-8859-1\", low_memory=False) "
      ],
      "execution_count": 0,
      "outputs": []
    },
    {
      "cell_type": "code",
      "metadata": {
        "id": "ZzfwTmtsE8_3",
        "colab_type": "code",
        "outputId": "722da21e-1d56-4539-e1e3-77a8b780cbdd",
        "colab": {
          "base_uri": "https://localhost:8080/",
          "height": 108
        }
      },
      "source": [
        "data.head(2)"
      ],
      "execution_count": 143,
      "outputs": [
        {
          "output_type": "execute_result",
          "data": {
            "text/html": [
              "<div>\n",
              "<style scoped>\n",
              "    .dataframe tbody tr th:only-of-type {\n",
              "        vertical-align: middle;\n",
              "    }\n",
              "\n",
              "    .dataframe tbody tr th {\n",
              "        vertical-align: top;\n",
              "    }\n",
              "\n",
              "    .dataframe thead th {\n",
              "        text-align: right;\n",
              "    }\n",
              "</style>\n",
              "<table border=\"1\" class=\"dataframe\">\n",
              "  <thead>\n",
              "    <tr style=\"text-align: right;\">\n",
              "      <th></th>\n",
              "      <th>ArticleTitle</th>\n",
              "      <th>Question</th>\n",
              "      <th>Answer</th>\n",
              "      <th>DifficultyFromQuestioner</th>\n",
              "      <th>DifficultyFromAnswerer</th>\n",
              "      <th>ArticleFile</th>\n",
              "    </tr>\n",
              "  </thead>\n",
              "  <tbody>\n",
              "    <tr>\n",
              "      <th>0</th>\n",
              "      <td>Alessandro_Volta</td>\n",
              "      <td>Was Volta an Italian physicist?</td>\n",
              "      <td>yes</td>\n",
              "      <td>easy</td>\n",
              "      <td>easy</td>\n",
              "      <td>data/set4/a10</td>\n",
              "    </tr>\n",
              "    <tr>\n",
              "      <th>1</th>\n",
              "      <td>Alessandro_Volta</td>\n",
              "      <td>Is Volta buried in the city of Pittsburgh?</td>\n",
              "      <td>no</td>\n",
              "      <td>easy</td>\n",
              "      <td>easy</td>\n",
              "      <td>data/set4/a10</td>\n",
              "    </tr>\n",
              "  </tbody>\n",
              "</table>\n",
              "</div>"
            ],
            "text/plain": [
              "       ArticleTitle  ...    ArticleFile\n",
              "0  Alessandro_Volta  ...  data/set4/a10\n",
              "1  Alessandro_Volta  ...  data/set4/a10\n",
              "\n",
              "[2 rows x 6 columns]"
            ]
          },
          "metadata": {
            "tags": []
          },
          "execution_count": 143
        }
      ]
    },
    {
      "cell_type": "code",
      "metadata": {
        "id": "mRSS0pTWtowr",
        "colab_type": "code",
        "colab": {}
      },
      "source": [
        "# data['Answer'] = 'start_ ' + data['Answer'] + ' _end'"
      ],
      "execution_count": 0,
      "outputs": []
    },
    {
      "cell_type": "code",
      "metadata": {
        "id": "0dK4ZhqSmqiY",
        "colab_type": "code",
        "outputId": "72950da3-afba-485b-abf4-e577ed2633bb",
        "colab": {
          "base_uri": "https://localhost:8080/",
          "height": 35
        }
      },
      "source": [
        "type(data)"
      ],
      "execution_count": 145,
      "outputs": [
        {
          "output_type": "execute_result",
          "data": {
            "text/plain": [
              "pandas.core.frame.DataFrame"
            ]
          },
          "metadata": {
            "tags": []
          },
          "execution_count": 145
        }
      ]
    },
    {
      "cell_type": "markdown",
      "metadata": {
        "id": "Ce8jKwYNmFtG",
        "colab_type": "text"
      },
      "source": [
        "<h4>convert data into lower case</h4>"
      ]
    },
    {
      "cell_type": "code",
      "metadata": {
        "id": "IsWUBd8RmE0a",
        "colab_type": "code",
        "outputId": "75dc6c67-bced-4f29-aab2-944085c9c666",
        "colab": {
          "base_uri": "https://localhost:8080/",
          "height": 168
        }
      },
      "source": [
        "\n",
        "\n",
        "data = data.apply(lambda x: x.astype(str).str.lower())\n",
        "data.head(4)"
      ],
      "execution_count": 146,
      "outputs": [
        {
          "output_type": "execute_result",
          "data": {
            "text/html": [
              "<div>\n",
              "<style scoped>\n",
              "    .dataframe tbody tr th:only-of-type {\n",
              "        vertical-align: middle;\n",
              "    }\n",
              "\n",
              "    .dataframe tbody tr th {\n",
              "        vertical-align: top;\n",
              "    }\n",
              "\n",
              "    .dataframe thead th {\n",
              "        text-align: right;\n",
              "    }\n",
              "</style>\n",
              "<table border=\"1\" class=\"dataframe\">\n",
              "  <thead>\n",
              "    <tr style=\"text-align: right;\">\n",
              "      <th></th>\n",
              "      <th>ArticleTitle</th>\n",
              "      <th>Question</th>\n",
              "      <th>Answer</th>\n",
              "      <th>DifficultyFromQuestioner</th>\n",
              "      <th>DifficultyFromAnswerer</th>\n",
              "      <th>ArticleFile</th>\n",
              "    </tr>\n",
              "  </thead>\n",
              "  <tbody>\n",
              "    <tr>\n",
              "      <th>0</th>\n",
              "      <td>alessandro_volta</td>\n",
              "      <td>was volta an italian physicist?</td>\n",
              "      <td>yes</td>\n",
              "      <td>easy</td>\n",
              "      <td>easy</td>\n",
              "      <td>data/set4/a10</td>\n",
              "    </tr>\n",
              "    <tr>\n",
              "      <th>1</th>\n",
              "      <td>alessandro_volta</td>\n",
              "      <td>is volta buried in the city of pittsburgh?</td>\n",
              "      <td>no</td>\n",
              "      <td>easy</td>\n",
              "      <td>easy</td>\n",
              "      <td>data/set4/a10</td>\n",
              "    </tr>\n",
              "    <tr>\n",
              "      <th>2</th>\n",
              "      <td>alessandro_volta</td>\n",
              "      <td>did volta have a passion for the study of elec...</td>\n",
              "      <td>yes</td>\n",
              "      <td>easy</td>\n",
              "      <td>medium</td>\n",
              "      <td>data/set4/a10</td>\n",
              "    </tr>\n",
              "    <tr>\n",
              "      <th>3</th>\n",
              "      <td>alessandro_volta</td>\n",
              "      <td>what is the battery made by volta credited to be?</td>\n",
              "      <td>the first cell</td>\n",
              "      <td>medium</td>\n",
              "      <td>medium</td>\n",
              "      <td>data/set4/a10</td>\n",
              "    </tr>\n",
              "  </tbody>\n",
              "</table>\n",
              "</div>"
            ],
            "text/plain": [
              "       ArticleTitle  ...    ArticleFile\n",
              "0  alessandro_volta  ...  data/set4/a10\n",
              "1  alessandro_volta  ...  data/set4/a10\n",
              "2  alessandro_volta  ...  data/set4/a10\n",
              "3  alessandro_volta  ...  data/set4/a10\n",
              "\n",
              "[4 rows x 6 columns]"
            ]
          },
          "metadata": {
            "tags": []
          },
          "execution_count": 146
        }
      ]
    },
    {
      "cell_type": "code",
      "metadata": {
        "id": "w98pHMKvmFGP",
        "colab_type": "code",
        "colab": {}
      },
      "source": [
        "#Remove the full stops from the dataframe answers\n",
        "\n",
        "bad_chars = [';', ':', '!', \"*\",'.',')','(','?']\n",
        "\n",
        "preprocessed_answers = []\n",
        "for answer in data['Answer'].values:\n",
        "  for i in bad_chars : \n",
        "    answer = answer.replace(i, '')\n",
        "  preprocessed_answers.append(answer)\n",
        "\n"
      ],
      "execution_count": 0,
      "outputs": []
    },
    {
      "cell_type": "code",
      "metadata": {
        "id": "UK_Le3kFmFA5",
        "colab_type": "code",
        "colab": {}
      },
      "source": [
        "data['Answer'] = preprocessed_answers"
      ],
      "execution_count": 0,
      "outputs": []
    },
    {
      "cell_type": "code",
      "metadata": {
        "id": "-wRHxbSH5Q77",
        "colab_type": "code",
        "colab": {}
      },
      "source": [
        "#trimming the string the dataframe  \n",
        "data = data.applymap(lambda x: x.strip() if isinstance(x, str) else x)\n"
      ],
      "execution_count": 0,
      "outputs": []
    },
    {
      "cell_type": "code",
      "metadata": {
        "colab_type": "code",
        "id": "aVDO3G8X2DjP",
        "colab": {}
      },
      "source": [
        "answers_list = list(data['Answer'].values)\n",
        "answers_dict = {i:answers_list.count(i) for i in answers_list}"
      ],
      "execution_count": 0,
      "outputs": []
    },
    {
      "cell_type": "code",
      "metadata": {
        "colab_type": "code",
        "id": "yNfvv1i12DjY",
        "colab": {}
      },
      "source": [
        "from collections import OrderedDict\n",
        "answers_dict_sorted = OrderedDict(sorted(answers_dict.items(), key=lambda x: x[1]))"
      ],
      "execution_count": 0,
      "outputs": []
    },
    {
      "cell_type": "code",
      "metadata": {
        "id": "d32EpOzEmE7t",
        "colab_type": "code",
        "colab": {}
      },
      "source": [
        "answers = []\n",
        "keys = []\n",
        "for item in answers_dict_sorted.items():\n",
        "  answers.append(item[0])\n",
        "  keys.append(item[1])"
      ],
      "execution_count": 0,
      "outputs": []
    },
    {
      "cell_type": "code",
      "metadata": {
        "id": "2oVVC9oqja57",
        "colab_type": "code",
        "colab": {}
      },
      "source": [
        "answers.reverse()\n",
        "keys.reverse()"
      ],
      "execution_count": 0,
      "outputs": []
    },
    {
      "cell_type": "code",
      "metadata": {
        "id": "S_Ad6vx_8LhB",
        "colab_type": "code",
        "colab": {}
      },
      "source": [
        "#top 10 answers\n",
        "top_5_answers = answers[:5]\n",
        "top_5_keys = keys[:5]"
      ],
      "execution_count": 0,
      "outputs": []
    },
    {
      "cell_type": "code",
      "metadata": {
        "id": "kmMETsW6-q8U",
        "colab_type": "code",
        "colab": {}
      },
      "source": [
        "temp_answer_list = []\n",
        "i = 0\n",
        "for key in top_5_keys:\n",
        "  for _ in range(0,key):\n",
        "    temp_answer_list.append(top_5_answers[i])\n",
        "  i += 1"
      ],
      "execution_count": 0,
      "outputs": []
    },
    {
      "cell_type": "markdown",
      "metadata": {
        "id": "sxzR9Cj8FhBF",
        "colab_type": "text"
      },
      "source": [
        "<b>\n",
        "Article title can be used while giving the sentence for tokenizing later \n",
        "Question do we need to preprocess the data\n",
        "Answer mai kitne repeated h\n",
        "</b>\n"
      ]
    },
    {
      "cell_type": "code",
      "metadata": {
        "id": "iGGxT8LNFgjE",
        "colab_type": "code",
        "outputId": "19cb548b-0e49-4f7e-c705-fa7dfb4d9786",
        "colab": {
          "base_uri": "https://localhost:8080/",
          "height": 265
        }
      },
      "source": [
        "plt.hist(temp_answer_list, 10,\n",
        "         histtype='bar',\n",
        "         facecolor='b',\n",
        "         alpha=0.5)\n",
        "plt.show()"
      ],
      "execution_count": 156,
      "outputs": [
        {
          "output_type": "display_data",
          "data": {
            "image/png": "[encoded data removed]",
            "text/plain": [
              "<Figure size 432x288 with 1 Axes>"
            ]
          },
          "metadata": {
            "tags": []
          }
        }
      ]
    },
    {
      "cell_type": "markdown",
      "metadata": {
        "id": "X3t4K_gaAT8t",
        "colab_type": "text"
      },
      "source": [
        "From the above graph we can observe that \n",
        "<b>yes</b> and <b>no</b> replies are the most common answers in the mails "
      ]
    },
    {
      "cell_type": "code",
      "metadata": {
        "id": "Sg-JhYeCYAhe",
        "colab_type": "code",
        "outputId": "347ef81e-03b5-40c5-a823-b14d37fee9a2",
        "colab": {
          "base_uri": "https://localhost:8080/",
          "height": 565
        }
      },
      "source": [
        "import matplotlib\n",
        "matplotlib.rc('figure', figsize=[50,5])\n",
        "#Getting the length of each Answer\n",
        "data[\"Answer Length\"]= data[\"Answer\"].str.len()\n",
        "len_answers = data[\"Answer Length\"].values\n",
        "\n",
        "#converting datatype to string\n",
        "len_str_arr = []\n",
        "for num in len_answers:\n",
        "  len_str_arr.append(str(num)) \n",
        "\n",
        "no_reply_counter = 0\n",
        "for num in len_answers:\n",
        "  if num == 0:\n",
        "    no_reply_counter += 1\n",
        "\n",
        "temp_arr = []\n",
        "for indx in len_answers:\n",
        "  if indx == 0:\n",
        "    continue\n",
        "  else:\n",
        "    temp_arr.append(indx)\n",
        "    \n",
        "print(\"number of email don' have any reply\", end = ' : ')\n",
        "print(no_reply_counter)\n",
        "print('*' * 50)\n",
        "\n",
        "print('Max length', end = ' : ')\n",
        "print(max(list(len_answers)))\n",
        "print('*' * 50)\n",
        "\n",
        "print('Min Length', end = ' : ')\n",
        "print(min(list(temp_arr)))\n",
        "print('*' * 50)\n",
        "\n",
        "print(\"Average Length\", end = ' : ')\n",
        "print((sum(list(len_answers)))/(len(list(len_answers))))\n",
        "print('*' * 50)\n",
        "\n",
        "print(\"No of unique replies\", end = ' : ')\n",
        "print(len(list(set(len_answers))))\n",
        "print('*' * 50)\n",
        "\n",
        "\n",
        "print('-' * 50)\n",
        "print(\"Distribution of the words\")\n",
        "print('-' * 50)\n",
        "\n",
        "plt.hist(len_str_arr, 200,\n",
        "         histtype='bar',\n",
        "         facecolor='r',\n",
        "         alpha=0.5)\n",
        "plt.show()"
      ],
      "execution_count": 157,
      "outputs": [
        {
          "output_type": "stream",
          "text": [
            "number of email don' have any reply : 1\n",
            "**************************************************\n",
            "Max length : 920\n",
            "**************************************************\n",
            "Min Length : 1\n",
            "**************************************************\n",
            "Average Length : 24.696948920123415\n",
            "**************************************************\n",
            "No of unique replies : 169\n",
            "**************************************************\n",
            "--------------------------------------------------\n",
            "Distribution of the words\n",
            "--------------------------------------------------\n"
          ],
          "name": "stdout"
        },
        {
          "output_type": "display_data",
          "data": {
            "image/png": "[encoded data removed]",
            "text/plain": [
              "<Figure size 3600x360 with 1 Axes>"
            ]
          },
          "metadata": {
            "tags": []
          }
        }
      ]
    },
    {
      "cell_type": "code",
      "metadata": {
        "id": "I9k0S5bCuStM",
        "colab_type": "code",
        "colab": {}
      },
      "source": [
        "data['Answer'] = 'start_ ' + data['Answer'] + ' _end'"
      ],
      "execution_count": 0,
      "outputs": []
    },
    {
      "cell_type": "markdown",
      "metadata": {
        "id": "oZLHjHWArFA6",
        "colab_type": "text"
      },
      "source": [
        "From above graphs and data we observed that <b>maximun replies have less words. </b><br><br>\n",
        "and <b>average length</b> if reply is nearly <b>25</b> words<br><br>\n",
        "We have <b>169</b> unique replies\n"
      ]
    },
    {
      "cell_type": "markdown",
      "metadata": {
        "id": "QujyL73prseT",
        "colab_type": "text"
      },
      "source": [
        "<h2> Check for emails </h2>"
      ]
    },
    {
      "cell_type": "code",
      "metadata": {
        "id": "rtqw89lviMMr",
        "colab_type": "code",
        "colab": {}
      },
      "source": [
        "all_questions = data['Question'].values"
      ],
      "execution_count": 0,
      "outputs": []
    },
    {
      "cell_type": "code",
      "metadata": {
        "id": "O6l_1hStAynl",
        "colab_type": "code",
        "colab": {}
      },
      "source": [
        "#Preprocessing Questions \n",
        "#Remove the full stops from the dataframe answers\n",
        "\n",
        "bad_chars = [';', ':', '!', \"*\",'.',')','(','?']\n",
        "\n",
        "preprocessed_question = []\n",
        "for question in all_questions:\n",
        "  for i in bad_chars : \n",
        "    question = question.replace(i, '')\n",
        "  preprocessed_question.append(question)\n",
        "\n"
      ],
      "execution_count": 0,
      "outputs": []
    },
    {
      "cell_type": "markdown",
      "metadata": {
        "id": "17OJ8r9UbMbe",
        "colab_type": "text"
      },
      "source": [
        "<h3> Words stemming </h3>"
      ]
    },
    {
      "cell_type": "code",
      "metadata": {
        "id": "wTp7oYSKYVH2",
        "colab_type": "code",
        "colab": {}
      },
      "source": [
        "#Performing stammering here\n",
        "# We are having less data\n",
        "from nltk.stem import PorterStemmer\n",
        "stemmed_sent = []\n",
        "for sent in preprocessed_question:\n",
        "  word_arr = []\n",
        "  for word in sent.split():\n",
        "    word_arr.append(porter.stem(word))\n",
        "  temp_str = \"\"\n",
        "  for words in word_arr:\n",
        "    temp_str += words + \" \"\n",
        "  stemmed_sent.append(temp_str)"
      ],
      "execution_count": 0,
      "outputs": []
    },
    {
      "cell_type": "code",
      "metadata": {
        "id": "zrlzs4y1Ay5g",
        "colab_type": "code",
        "colab": {}
      },
      "source": [
        "data['Question'] = stemmed_sent"
      ],
      "execution_count": 0,
      "outputs": []
    },
    {
      "cell_type": "code",
      "metadata": {
        "id": "ir4gNpv7bmW3",
        "colab_type": "code",
        "colab": {}
      },
      "source": [
        "#trimming the string the dataframe  \n",
        "#because after removal of the special character trimming might have lost\n",
        "data = data.applymap(lambda x: x.strip() if isinstance(x, str) else x)\n"
      ],
      "execution_count": 0,
      "outputs": []
    },
    {
      "cell_type": "code",
      "metadata": {
        "id": "bHv6ShjNiMSf",
        "colab_type": "code",
        "outputId": "8341998d-f2e4-410c-8819-e33b6f51339a",
        "colab": {
          "base_uri": "https://localhost:8080/",
          "height": 565
        }
      },
      "source": [
        "import matplotlib\n",
        "matplotlib.rc('figure', figsize=[50,5])\n",
        "#Getting the length of each Answer\n",
        "data[\"Question_length\"]= data[\"Question\"].str.len()\n",
        "len_questions = data[\"Question_length\"].values\n",
        "\n",
        "#converting datatype to string\n",
        "len_str_arr = []\n",
        "for num in len_questions:\n",
        "  len_str_arr.append(str(num)) \n",
        "\n",
        "no_reply_counter = 0\n",
        "for num in len_questions:\n",
        "  if num == 0:\n",
        "    no_reply_counter += 1\n",
        "\n",
        "temp_arr = []\n",
        "for indx in len_questions:\n",
        "  if indx == 0:\n",
        "    continue\n",
        "  else:\n",
        "    temp_arr.append(indx)\n",
        "    \n",
        "print(\"number of email don' have any reply\", end = ' : ')\n",
        "print(no_reply_counter)\n",
        "print('*' * 50)\n",
        "\n",
        "print('Max length', end = ' : ')\n",
        "print(max(list(len_questions)))\n",
        "print('*' * 50)\n",
        "\n",
        "print('Min Length', end = ' : ')\n",
        "print(min(list(temp_arr)))\n",
        "print('*' * 50)\n",
        "\n",
        "print(\"Average Length\", end = ' : ')\n",
        "print((sum(list(len_questions)))/(len(list(len_questions))))\n",
        "print('*' * 50)\n",
        "\n",
        "print(\"No of unique replies\", end = ' : ')\n",
        "print(len(list(set(len_questions))))\n",
        "print('*' * 50)\n",
        "\n",
        "\n",
        "print('-' * 50)\n",
        "print(\"Distribution of the words\")\n",
        "print('-' * 50)\n",
        "\n",
        "plt.hist(len_str_arr, 200,\n",
        "         histtype='bar',\n",
        "         facecolor='r',\n",
        "         alpha=0.5)\n",
        "plt.show()"
      ],
      "execution_count": 164,
      "outputs": [
        {
          "output_type": "stream",
          "text": [
            "number of email don' have any reply : 0\n",
            "**************************************************\n",
            "Max length : 236\n",
            "**************************************************\n",
            "Min Length : 4\n",
            "**************************************************\n",
            "Average Length : 46.40281110730202\n",
            "**************************************************\n",
            "No of unique replies : 144\n",
            "**************************************************\n",
            "--------------------------------------------------\n",
            "Distribution of the words\n",
            "--------------------------------------------------\n"
          ],
          "name": "stdout"
        },
        {
          "output_type": "display_data",
          "data": {
            "image/png": "[encoded data removed]",
            "text/plain": [
              "<Figure size 3600x360 with 1 Axes>"
            ]
          },
          "metadata": {
            "tags": []
          }
        }
      ]
    },
    {
      "cell_type": "markdown",
      "metadata": {
        "id": "PC-6hJeos4lk",
        "colab_type": "text"
      },
      "source": [
        "From the above graph we can observe that we have minimum of <b>4</b> character in the email<br><br>\n",
        "maximum length of the Questions is <b>270</b><br><br>\n",
        "and we have unique distribution of <b>156</b> questions."
      ]
    },
    {
      "cell_type": "markdown",
      "metadata": {
        "id": "AX-JCQQyCL0Q",
        "colab_type": "text"
      },
      "source": [
        "Top Unique distribution of Questions in dataset"
      ]
    },
    {
      "cell_type": "code",
      "metadata": {
        "id": "FmeoeW6OCIzQ",
        "colab_type": "code",
        "outputId": "f2777819-1942-4587-d25a-647538fe3b8d",
        "colab": {
          "base_uri": "https://localhost:8080/",
          "height": 108
        }
      },
      "source": [
        "data.head(2)"
      ],
      "execution_count": 165,
      "outputs": [
        {
          "output_type": "execute_result",
          "data": {
            "text/html": [
              "<div>\n",
              "<style scoped>\n",
              "    .dataframe tbody tr th:only-of-type {\n",
              "        vertical-align: middle;\n",
              "    }\n",
              "\n",
              "    .dataframe tbody tr th {\n",
              "        vertical-align: top;\n",
              "    }\n",
              "\n",
              "    .dataframe thead th {\n",
              "        text-align: right;\n",
              "    }\n",
              "</style>\n",
              "<table border=\"1\" class=\"dataframe\">\n",
              "  <thead>\n",
              "    <tr style=\"text-align: right;\">\n",
              "      <th></th>\n",
              "      <th>ArticleTitle</th>\n",
              "      <th>Question</th>\n",
              "      <th>Answer</th>\n",
              "      <th>DifficultyFromQuestioner</th>\n",
              "      <th>DifficultyFromAnswerer</th>\n",
              "      <th>ArticleFile</th>\n",
              "      <th>Answer Length</th>\n",
              "      <th>Question_length</th>\n",
              "    </tr>\n",
              "  </thead>\n",
              "  <tbody>\n",
              "    <tr>\n",
              "      <th>0</th>\n",
              "      <td>alessandro_volta</td>\n",
              "      <td>wa volta an italian physicist</td>\n",
              "      <td>start_ yes _end</td>\n",
              "      <td>easy</td>\n",
              "      <td>easy</td>\n",
              "      <td>data/set4/a10</td>\n",
              "      <td>3</td>\n",
              "      <td>29</td>\n",
              "    </tr>\n",
              "    <tr>\n",
              "      <th>1</th>\n",
              "      <td>alessandro_volta</td>\n",
              "      <td>is volta buri in the citi of pittsburgh</td>\n",
              "      <td>start_ no _end</td>\n",
              "      <td>easy</td>\n",
              "      <td>easy</td>\n",
              "      <td>data/set4/a10</td>\n",
              "      <td>2</td>\n",
              "      <td>39</td>\n",
              "    </tr>\n",
              "  </tbody>\n",
              "</table>\n",
              "</div>"
            ],
            "text/plain": [
              "       ArticleTitle  ... Question_length\n",
              "0  alessandro_volta  ...              29\n",
              "1  alessandro_volta  ...              39\n",
              "\n",
              "[2 rows x 8 columns]"
            ]
          },
          "metadata": {
            "tags": []
          },
          "execution_count": 165
        }
      ]
    },
    {
      "cell_type": "code",
      "metadata": {
        "colab_type": "code",
        "id": "UBIUdsE8Cs_9",
        "colab": {}
      },
      "source": [
        ""
      ],
      "execution_count": 0,
      "outputs": []
    },
    {
      "cell_type": "code",
      "metadata": {
        "colab_type": "code",
        "id": "5SSTC69ECtAC",
        "colab": {}
      },
      "source": [
        "question_list = list(data['Question'].values)\n",
        "questions_dict = {i:question_list.count(i) for i in question_list}"
      ],
      "execution_count": 0,
      "outputs": []
    },
    {
      "cell_type": "code",
      "metadata": {
        "colab_type": "code",
        "id": "MQMpPIG6CtAD",
        "colab": {}
      },
      "source": [
        "from collections import OrderedDict\n",
        "questions_dict_sorted = OrderedDict(sorted(questions_dict.items(), key=lambda x: x[1]))"
      ],
      "execution_count": 0,
      "outputs": []
    },
    {
      "cell_type": "code",
      "metadata": {
        "colab_type": "code",
        "id": "zfBW6l0kCtAF",
        "colab": {}
      },
      "source": [
        "questions = []\n",
        "keys = []\n",
        "for item in questions_dict_sorted.items():\n",
        "  questions.append(item[0])\n",
        "  keys.append(item[1])"
      ],
      "execution_count": 0,
      "outputs": []
    },
    {
      "cell_type": "code",
      "metadata": {
        "colab_type": "code",
        "id": "Ly-dFxnXCtAH",
        "colab": {}
      },
      "source": [
        "questions.reverse()\n",
        "keys.reverse()"
      ],
      "execution_count": 0,
      "outputs": []
    },
    {
      "cell_type": "code",
      "metadata": {
        "colab_type": "code",
        "id": "kEZ2na2FCtAL",
        "colab": {}
      },
      "source": [
        "#top 10 answers\n",
        "top_5_questions = questions[:5]\n",
        "top_5_keys = keys[:5]"
      ],
      "execution_count": 0,
      "outputs": []
    },
    {
      "cell_type": "code",
      "metadata": {
        "colab_type": "code",
        "id": "XJtdgsG4CtAO",
        "colab": {}
      },
      "source": [
        "temp_questions_list = []\n",
        "i = 0\n",
        "for key in top_5_keys:\n",
        "  for _ in range(0,key):\n",
        "    temp_questions_list.append(top_5_questions[i])\n",
        "  i += 1"
      ],
      "execution_count": 0,
      "outputs": []
    },
    {
      "cell_type": "code",
      "metadata": {
        "colab_type": "code",
        "outputId": "4a6d3aff-1540-4a8c-b3c3-6ba75a50561e",
        "id": "E2sCoPEpCtAQ",
        "colab": {
          "base_uri": "https://localhost:8080/",
          "height": 265
        }
      },
      "source": [
        "import matplotlib\n",
        "matplotlib.rc('figure', figsize=[20,4])\n",
        "plt.hist(temp_questions_list, 50,\n",
        "         histtype='bar',\n",
        "         facecolor='g',\n",
        "         alpha=0.5)\n",
        "plt.show()"
      ],
      "execution_count": 172,
      "outputs": [
        {
          "output_type": "display_data",
          "data": {
            "image/png": "[encoded data removed]",
            "text/plain": [
              "<Figure size 1440x288 with 1 Axes>"
            ]
          },
          "metadata": {
            "tags": []
          }
        }
      ]
    },
    {
      "cell_type": "markdown",
      "metadata": {
        "id": "3ilQK6LLEAB-",
        "colab_type": "text"
      },
      "source": [
        "Here we can see the top 5 repeated questions,<br>\n",
        "&nbsp;&nbsp;&nbsp;&nbsp;&nbsp;&nbsp;&nbsp;&nbsp; It's not looking usefull for any interpretation"
      ]
    },
    {
      "cell_type": "code",
      "metadata": {
        "id": "zIpAzHbDDfoD",
        "colab_type": "code",
        "outputId": "af6f0fd2-60c5-42c2-a736-8c92c2dba98f",
        "colab": {
          "base_uri": "https://localhost:8080/",
          "height": 108
        }
      },
      "source": [
        "data.head(2)"
      ],
      "execution_count": 173,
      "outputs": [
        {
          "output_type": "execute_result",
          "data": {
            "text/html": [
              "<div>\n",
              "<style scoped>\n",
              "    .dataframe tbody tr th:only-of-type {\n",
              "        vertical-align: middle;\n",
              "    }\n",
              "\n",
              "    .dataframe tbody tr th {\n",
              "        vertical-align: top;\n",
              "    }\n",
              "\n",
              "    .dataframe thead th {\n",
              "        text-align: right;\n",
              "    }\n",
              "</style>\n",
              "<table border=\"1\" class=\"dataframe\">\n",
              "  <thead>\n",
              "    <tr style=\"text-align: right;\">\n",
              "      <th></th>\n",
              "      <th>ArticleTitle</th>\n",
              "      <th>Question</th>\n",
              "      <th>Answer</th>\n",
              "      <th>DifficultyFromQuestioner</th>\n",
              "      <th>DifficultyFromAnswerer</th>\n",
              "      <th>ArticleFile</th>\n",
              "      <th>Answer Length</th>\n",
              "      <th>Question_length</th>\n",
              "    </tr>\n",
              "  </thead>\n",
              "  <tbody>\n",
              "    <tr>\n",
              "      <th>0</th>\n",
              "      <td>alessandro_volta</td>\n",
              "      <td>wa volta an italian physicist</td>\n",
              "      <td>start_ yes _end</td>\n",
              "      <td>easy</td>\n",
              "      <td>easy</td>\n",
              "      <td>data/set4/a10</td>\n",
              "      <td>3</td>\n",
              "      <td>29</td>\n",
              "    </tr>\n",
              "    <tr>\n",
              "      <th>1</th>\n",
              "      <td>alessandro_volta</td>\n",
              "      <td>is volta buri in the citi of pittsburgh</td>\n",
              "      <td>start_ no _end</td>\n",
              "      <td>easy</td>\n",
              "      <td>easy</td>\n",
              "      <td>data/set4/a10</td>\n",
              "      <td>2</td>\n",
              "      <td>39</td>\n",
              "    </tr>\n",
              "  </tbody>\n",
              "</table>\n",
              "</div>"
            ],
            "text/plain": [
              "       ArticleTitle  ... Question_length\n",
              "0  alessandro_volta  ...              29\n",
              "1  alessandro_volta  ...              39\n",
              "\n",
              "[2 rows x 8 columns]"
            ]
          },
          "metadata": {
            "tags": []
          },
          "execution_count": 173
        }
      ]
    },
    {
      "cell_type": "code",
      "metadata": {
        "id": "G1I1RMJ7E-Qm",
        "colab_type": "code",
        "outputId": "1a5ce09c-3487-48d2-bcb0-3d0ab1283415",
        "colab": {
          "base_uri": "https://localhost:8080/",
          "height": 108
        }
      },
      "source": [
        "data.tail(2)"
      ],
      "execution_count": 174,
      "outputs": [
        {
          "output_type": "execute_result",
          "data": {
            "text/html": [
              "<div>\n",
              "<style scoped>\n",
              "    .dataframe tbody tr th:only-of-type {\n",
              "        vertical-align: middle;\n",
              "    }\n",
              "\n",
              "    .dataframe tbody tr th {\n",
              "        vertical-align: top;\n",
              "    }\n",
              "\n",
              "    .dataframe thead th {\n",
              "        text-align: right;\n",
              "    }\n",
              "</style>\n",
              "<table border=\"1\" class=\"dataframe\">\n",
              "  <thead>\n",
              "    <tr style=\"text-align: right;\">\n",
              "      <th></th>\n",
              "      <th>ArticleTitle</th>\n",
              "      <th>Question</th>\n",
              "      <th>Answer</th>\n",
              "      <th>DifficultyFromQuestioner</th>\n",
              "      <th>DifficultyFromAnswerer</th>\n",
              "      <th>ArticleFile</th>\n",
              "      <th>Answer Length</th>\n",
              "      <th>Question_length</th>\n",
              "    </tr>\n",
              "  </thead>\n",
              "  <tbody>\n",
              "    <tr>\n",
              "      <th>2915</th>\n",
              "      <td>woodrow_wilson</td>\n",
              "      <td>wa wilson , a staunch oppon of antisemit , sym...</td>\n",
              "      <td>start_ yes _end</td>\n",
              "      <td>nan</td>\n",
              "      <td>easy</td>\n",
              "      <td>data/set3/a8</td>\n",
              "      <td>3</td>\n",
              "      <td>105</td>\n",
              "    </tr>\n",
              "    <tr>\n",
              "      <th>2916</th>\n",
              "      <td>woodrow_wilson</td>\n",
              "      <td>what happen in 1917</td>\n",
              "      <td>start_ raised billions through liberty loans, ...</td>\n",
              "      <td>nan</td>\n",
              "      <td>medium</td>\n",
              "      <td>data/set3/a8</td>\n",
              "      <td>259</td>\n",
              "      <td>19</td>\n",
              "    </tr>\n",
              "  </tbody>\n",
              "</table>\n",
              "</div>"
            ],
            "text/plain": [
              "        ArticleTitle  ... Question_length\n",
              "2915  woodrow_wilson  ...             105\n",
              "2916  woodrow_wilson  ...              19\n",
              "\n",
              "[2 rows x 8 columns]"
            ]
          },
          "metadata": {
            "tags": []
          },
          "execution_count": 174
        }
      ]
    },
    {
      "cell_type": "markdown",
      "metadata": {
        "id": "djx94dfPFEJ3",
        "colab_type": "text"
      },
      "source": [
        "Here we can <b>combine the Article Title with the question</b> which can help in getting better suggestions."
      ]
    },
    {
      "cell_type": "markdown",
      "metadata": {
        "id": "BL3OxMkpGfs7",
        "colab_type": "text"
      },
      "source": [
        "<b>Modelling Approaches:<br><i>\n",
        "# here before modeling we can stammer the sentences : Playing ko play\n",
        "* Seq2seq model\n",
        "* Bi-Directional LSTM\n",
        "* Attention Layer\n",
        "* Beam Search</b></i>"
      ]
    },
    {
      "cell_type": "markdown",
      "metadata": {
        "id": "jGNqb5y9gO3U",
        "colab_type": "text"
      },
      "source": [
        "# Modeling"
      ]
    },
    {
      "cell_type": "code",
      "metadata": {
        "id": "hDi0U_l1XtIk",
        "colab_type": "code",
        "colab": {}
      },
      "source": [
        "# Vocabulary of Question\n",
        "all_email_words=[]\n",
        "for quest in data.Question:\n",
        "    for word in quest.split():\n",
        "        if word not in all_email_words:\n",
        "            all_email_words.append(word)\n",
        "\n",
        "# Vocabulary of Replies \n",
        "all_reply_words=[]\n",
        "for mar in data.Answer:\n",
        "    for word in mar.split():\n",
        "        if word not in all_reply_words:\n",
        "            all_reply_words.append(word)"
      ],
      "execution_count": 0,
      "outputs": []
    },
    {
      "cell_type": "code",
      "metadata": {
        "id": "5rCX0FObZ4JN",
        "colab_type": "code",
        "colab": {}
      },
      "source": [
        "all_email_words = list(set(all_email_words))"
      ],
      "execution_count": 0,
      "outputs": []
    },
    {
      "cell_type": "code",
      "metadata": {
        "id": "qIa4hS2ua-3n",
        "colab_type": "code",
        "colab": {}
      },
      "source": [
        "all_reply_words = list(set(all_reply_words))"
      ],
      "execution_count": 0,
      "outputs": []
    },
    {
      "cell_type": "code",
      "metadata": {
        "id": "eX0dl2XPNpd2",
        "colab_type": "code",
        "outputId": "0638f96d-4af4-4509-c9f9-a6ca7cf04d87",
        "colab": {
          "base_uri": "https://localhost:8080/",
          "height": 35
        }
      },
      "source": [
        "import numpy as np\n",
        "lenght_list=[]\n",
        "for l in data.Question.values:\n",
        "    lenght_list.append(len(l.split(' ')))\n",
        "max_length_src = max(lenght_list)\n",
        "max_length_src"
      ],
      "execution_count": 178,
      "outputs": [
        {
          "output_type": "execute_result",
          "data": {
            "text/plain": [
              "44"
            ]
          },
          "metadata": {
            "tags": []
          },
          "execution_count": 178
        }
      ]
    },
    {
      "cell_type": "code",
      "metadata": {
        "id": "gsOifdDLninm",
        "colab_type": "code",
        "outputId": "c8baab19-8595-49ab-8de7-22b10240e752",
        "colab": {
          "base_uri": "https://localhost:8080/",
          "height": 35
        }
      },
      "source": [
        "lenght_list=[]\n",
        "for l in data.Answer:\n",
        "    lenght_list.append(len(l.split(' ')))\n",
        "max_length_tar = np.max(lenght_list)\n",
        "max_length_tar"
      ],
      "execution_count": 179,
      "outputs": [
        {
          "output_type": "execute_result",
          "data": {
            "text/plain": [
              "158"
            ]
          },
          "metadata": {
            "tags": []
          },
          "execution_count": 179
        }
      ]
    },
    {
      "cell_type": "code",
      "metadata": {
        "id": "cO6NAiNCNpb0",
        "colab_type": "code",
        "outputId": "19bc7968-109a-4d96-c114-3f1ee7defe61",
        "colab": {
          "base_uri": "https://localhost:8080/",
          "height": 35
        }
      },
      "source": [
        "\n",
        "#All input words\n",
        "input_words = sorted(list(all_email_words))\n",
        "target_words = sorted(list(all_reply_words))\n",
        "\n",
        "# get the length of the vocabalary // Kitne words // this will help while performing embedding layer\n",
        "num_encoder_tokens = len(all_email_words) + 1\n",
        "num_decoder_tokens = len(all_reply_words) + 1\n",
        "\n",
        "num_encoder_tokens, num_decoder_tokens"
      ],
      "execution_count": 180,
      "outputs": [
        {
          "output_type": "execute_result",
          "data": {
            "text/plain": [
              "(3672, 3776)"
            ]
          },
          "metadata": {
            "tags": []
          },
          "execution_count": 180
        }
      ]
    },
    {
      "cell_type": "code",
      "metadata": {
        "id": "ffcT8tnQc-iP",
        "colab_type": "code",
        "colab": {}
      },
      "source": [
        "# from word to token we can get\n",
        "input_token_index = dict([(word, i+1) for i, word in enumerate(input_words)])\n",
        "target_token_index = dict([(word, i+1) for i, word in enumerate(target_words)])"
      ],
      "execution_count": 0,
      "outputs": []
    },
    {
      "cell_type": "code",
      "metadata": {
        "id": "96-7OL3dAoTJ",
        "colab_type": "code",
        "colab": {}
      },
      "source": [
        "# from token to word we can get\n",
        "reverse_input_char_index = dict((i, word) for word, i in input_token_index.items())\n",
        "reverse_target_char_index = dict((i, word) for word, i in target_token_index.items())"
      ],
      "execution_count": 0,
      "outputs": []
    },
    {
      "cell_type": "code",
      "metadata": {
        "id": "o9hXENXBhBTe",
        "colab_type": "code",
        "outputId": "245d3983-487d-4dc4-9e41-e35b8f77e0b5",
        "colab": {
          "base_uri": "https://localhost:8080/",
          "height": 108
        }
      },
      "source": [
        "from sklearn.utils import shuffle\n",
        "data = shuffle(data)\n",
        "data.head(2)"
      ],
      "execution_count": 183,
      "outputs": [
        {
          "output_type": "execute_result",
          "data": {
            "text/html": [
              "<div>\n",
              "<style scoped>\n",
              "    .dataframe tbody tr th:only-of-type {\n",
              "        vertical-align: middle;\n",
              "    }\n",
              "\n",
              "    .dataframe tbody tr th {\n",
              "        vertical-align: top;\n",
              "    }\n",
              "\n",
              "    .dataframe thead th {\n",
              "        text-align: right;\n",
              "    }\n",
              "</style>\n",
              "<table border=\"1\" class=\"dataframe\">\n",
              "  <thead>\n",
              "    <tr style=\"text-align: right;\">\n",
              "      <th></th>\n",
              "      <th>ArticleTitle</th>\n",
              "      <th>Question</th>\n",
              "      <th>Answer</th>\n",
              "      <th>DifficultyFromQuestioner</th>\n",
              "      <th>DifficultyFromAnswerer</th>\n",
              "      <th>ArticleFile</th>\n",
              "      <th>Answer Length</th>\n",
              "      <th>Question_length</th>\n",
              "    </tr>\n",
              "  </thead>\n",
              "  <tbody>\n",
              "    <tr>\n",
              "      <th>2721</th>\n",
              "      <td>theodore_roosevelt</td>\n",
              "      <td>what did roosevelt do to improv hi physic condit</td>\n",
              "      <td>start_ roosevelt took up exercise _end</td>\n",
              "      <td>medium</td>\n",
              "      <td>hard</td>\n",
              "      <td>data/set3/a7</td>\n",
              "      <td>26</td>\n",
              "      <td>48</td>\n",
              "    </tr>\n",
              "    <tr>\n",
              "      <th>2015</th>\n",
              "      <td>finland</td>\n",
              "      <td>is the capit citi oslo</td>\n",
              "      <td>start_ no _end</td>\n",
              "      <td>easy</td>\n",
              "      <td>easy</td>\n",
              "      <td>data/set2/a4</td>\n",
              "      <td>2</td>\n",
              "      <td>22</td>\n",
              "    </tr>\n",
              "  </tbody>\n",
              "</table>\n",
              "</div>"
            ],
            "text/plain": [
              "            ArticleTitle  ... Question_length\n",
              "2721  theodore_roosevelt  ...              48\n",
              "2015             finland  ...              22\n",
              "\n",
              "[2 rows x 8 columns]"
            ]
          },
          "metadata": {
            "tags": []
          },
          "execution_count": 183
        }
      ]
    },
    {
      "cell_type": "code",
      "metadata": {
        "id": "h5Wuj1cAhBXx",
        "colab_type": "code",
        "outputId": "5aea18a5-5dfe-4e62-a66e-09970784fb42",
        "colab": {
          "base_uri": "https://localhost:8080/",
          "height": 35
        }
      },
      "source": [
        "# Train - Test Split\n",
        "from sklearn.model_selection import train_test_split\n",
        "X, y = data.Question, data.Answer\n",
        "X_train, X_test, y_train, y_test = train_test_split(X, y, test_size = 0.1)\n",
        "X_train.shape, X_test.shape"
      ],
      "execution_count": 184,
      "outputs": [
        {
          "output_type": "execute_result",
          "data": {
            "text/plain": [
              "((2625,), (292,))"
            ]
          },
          "metadata": {
            "tags": []
          },
          "execution_count": 184
        }
      ]
    },
    {
      "cell_type": "code",
      "metadata": {
        "id": "QWCmkE25lFYV",
        "colab_type": "code",
        "colab": {}
      },
      "source": [
        "def generate_batch(X=X_train, y=y_train, batch_size=1000):\n",
        "    while True:\n",
        "      # in every batch we are sending (batch_size) of sentences\n",
        "        for j in range(0, len(X), batch_size):\n",
        "            encoder_input_data = np.zeros((batch_size, max_length_src),\n",
        "                    dtype='float32')\n",
        "            decoder_input_data = np.zeros((batch_size, max_length_tar),\n",
        "                    dtype='float32')\n",
        "            decoder_target_data = np.zeros((batch_size, max_length_tar,\n",
        "                    num_decoder_tokens), dtype='float32')\n",
        "\n",
        "            # for all the sentences in the batch\n",
        "            for (i, (input_text, target_text)) in enumerate(zip(X[j:j\n",
        "                    + batch_size], y[j:j + batch_size])):\n",
        "\n",
        "                # for words in each sentence //Question\n",
        "                for (t, word) in enumerate(input_text.split()):  # Question wale text ko tokenize kiya gaya\n",
        "                    encoder_input_data[i] = input_token_index[word]  # encoder input seq\n",
        "\n",
        "                # for each word in   Sentence\n",
        "                for (t, word) in enumerate(target_text.split()):  # t is the length of the sentence\n",
        "                    if t < len(target_text.split()):\n",
        "                        decoder_input_data[i] = target_token_index[word]  # decoder input seq\n",
        "                    if t > 0:\n",
        "                        #one-hot encoding \n",
        "                        #and making it to the output shape from decoder\n",
        "                        decoder_target_data[i, t - 1,\n",
        "                                target_token_index[word]] = 1.\n",
        "                                                       \n",
        "            yield ([encoder_input_data, decoder_input_data],\n",
        "                   decoder_target_data)  # this will help multiple return// like closure in swift\n"
      ],
      "execution_count": 0,
      "outputs": []
    },
    {
      "cell_type": "code",
      "metadata": {
        "id": "agN3uPx8hJT7",
        "colab_type": "code",
        "colab": {}
      },
      "source": [
        "from keras.layers import Dense, Dropout, Embedding, LSTM, Bidirectional,CuDNNLSTM,Concatenate\n",
        "from keras.layers import Input, LSTM, Embedding, Dense\n",
        "from keras.models import Model\n",
        "\n",
        "# Encoder\n",
        "latent_dim = 64 # how much dimension of output we want form the embedding layer\n",
        "encoder_inputs = Input(shape=(None,)) # mentioning the input shape row and collumns are still null\n",
        "\n",
        "# **num_encoder_tokens** vocabulary size we are having\n",
        "\n",
        "enc_emb =  Embedding(num_encoder_tokens, latent_dim, mask_zero = True)(encoder_inputs) #Embedding layer # this layer will make it 3D\n",
        "\n",
        "#training the LSTM on encoder\n",
        "# encoder_lstm = LSTM(latent_dim, return_state=True)\n",
        "encoder_output, forward_h, forward_c, backward_h, backward_c = Bidirectional(LSTM(128, return_sequences=True, return_state=True))(enc_emb)\n",
        "state_h = Concatenate()([forward_h, backward_h])\n",
        "state_c = Concatenate()([forward_c, backward_c])\n",
        "\n",
        "\n",
        "encoder_states = [state_h, state_c] #output and the cell state"
      ],
      "execution_count": 0,
      "outputs": []
    },
    {
      "cell_type": "code",
      "metadata": {
        "id": "72FkFUHOh-Kf",
        "colab_type": "code",
        "colab": {}
      },
      "source": [
        "\n",
        "#  Set up the decoder, using `encoder_states` as initial state.\n",
        "decoder_inputs = Input(shape=(None,)) #Reply's input\n",
        "dec_emb_layer = Embedding(num_decoder_tokens, latent_dim, mask_zero = True) \n",
        "dec_emb = dec_emb_layer(decoder_inputs) # Reply sikhaye hum Embedding layer ko\n",
        "\n",
        "\n",
        "# We set up our decoder to return full output sequences,\n",
        "# and to return internal states as well. We don't use the\n",
        "# return states in the training model, but we will use them in inference.\n",
        "\n",
        "\n",
        "decoder_lstm = LSTM(256, return_sequences=True, return_state=True)\n",
        "decoder_output, decoder_h, decoder_c = decoder_lstm(dec_emb,initial_state=encoder_states)\n",
        "\n",
        "\n",
        "decoder_states = [decoder_h, decoder_c]\n",
        "\n",
        "decoder_dense = Dense(num_decoder_tokens, activation='softmax')\n",
        "decoder_outputs = decoder_dense(decoder_output)\n",
        "\n",
        "# Define the model that will turn\n",
        "# `encoder_input_data` & `decoder_input_data` into `decoder_target_data`\n",
        "model = Model([encoder_inputs, decoder_inputs], decoder_outputs)"
      ],
      "execution_count": 0,
      "outputs": []
    },
    {
      "cell_type": "code",
      "metadata": {
        "id": "rx8E8M6Jx_gN",
        "colab_type": "code",
        "colab": {}
      },
      "source": [
        "model.save_weights('nmt_weights.h5')"
      ],
      "execution_count": 0,
      "outputs": []
    },
    {
      "cell_type": "code",
      "metadata": {
        "id": "8rip_ucPyEKQ",
        "colab_type": "code",
        "colab": {}
      },
      "source": [
        "model.load_weights('nmt_weights.h5')"
      ],
      "execution_count": 0,
      "outputs": []
    },
    {
      "cell_type": "code",
      "metadata": {
        "id": "5hqEzomJym4S",
        "colab_type": "code",
        "colab": {}
      },
      "source": [
        "model.save('my_model.h5')"
      ],
      "execution_count": 0,
      "outputs": []
    },
    {
      "cell_type": "markdown",
      "metadata": {
        "id": "rl46yXkzQ_ez",
        "colab_type": "text"
      },
      "source": [
        "<h3> Adding Attention layer </h3>"
      ]
    },
    {
      "cell_type": "code",
      "metadata": {
        "id": "pFZLqHnLw9Sc",
        "colab_type": "code",
        "outputId": "070908f0-3317-4538-c40d-1a107fa02cad",
        "colab": {
          "base_uri": "https://localhost:8080/",
          "height": 52
        }
      },
      "source": [
        "from keras.models import load_model\n",
        "custom_objects = {\n",
        "    'AttentionLayer':AttentionLayer\n",
        "}\n",
        "model = load_model('my_model.h5',custom_objects = custom_objects)"
      ],
      "execution_count": 192,
      "outputs": [
        {
          "output_type": "stream",
          "text": [
            "/usr/local/lib/python3.6/dist-packages/keras/engine/saving.py:310: UserWarning: No training configuration found in save file: the model was *not* compiled. Compile it manually.\n",
            "  warnings.warn('No training configuration found in save file: '\n"
          ],
          "name": "stderr"
        }
      ]
    },
    {
      "cell_type": "code",
      "metadata": {
        "id": "Wmr_DUpzaIOb",
        "colab_type": "code",
        "outputId": "4d73e6ed-6b30-49eb-aef3-f4d768a25866",
        "colab": {
          "base_uri": "https://localhost:8080/",
          "height": 35
        }
      },
      "source": [
        "encoder_output.shape"
      ],
      "execution_count": 193,
      "outputs": [
        {
          "output_type": "execute_result",
          "data": {
            "text/plain": [
              "TensorShape([Dimension(None), Dimension(None), Dimension(256)])"
            ]
          },
          "metadata": {
            "tags": []
          },
          "execution_count": 193
        }
      ]
    },
    {
      "cell_type": "code",
      "metadata": {
        "id": "QcQ_LzJDajkn",
        "colab_type": "code",
        "outputId": "4e122042-91e3-4b8f-ee0a-4ae2e4372d23",
        "colab": {
          "base_uri": "https://localhost:8080/",
          "height": 35
        }
      },
      "source": [
        "decoder_output.shape"
      ],
      "execution_count": 194,
      "outputs": [
        {
          "output_type": "execute_result",
          "data": {
            "text/plain": [
              "TensorShape([Dimension(None), Dimension(None), Dimension(256)])"
            ]
          },
          "metadata": {
            "tags": []
          },
          "execution_count": 194
        }
      ]
    },
    {
      "cell_type": "code",
      "metadata": {
        "id": "Yf_PYG_th-T9",
        "colab_type": "code",
        "colab": {}
      },
      "source": [
        "model.compile(optimizer='adam', loss='categorical_crossentropy', metrics=['acc'])"
      ],
      "execution_count": 0,
      "outputs": []
    },
    {
      "cell_type": "code",
      "metadata": {
        "id": "G4WsxOpo79bC",
        "colab_type": "code",
        "outputId": "a5197976-bd3d-4777-dde2-66efcd5ae1e1",
        "colab": {
          "base_uri": "https://localhost:8080/",
          "height": 553
        }
      },
      "source": [
        "print(model.summary())"
      ],
      "execution_count": 196,
      "outputs": [
        {
          "output_type": "stream",
          "text": [
            "Model: \"model_3\"\n",
            "__________________________________________________________________________________________________\n",
            "Layer (type)                    Output Shape         Param #     Connected to                     \n",
            "==================================================================================================\n",
            "input_5 (InputLayer)            (None, None)         0                                            \n",
            "__________________________________________________________________________________________________\n",
            "embedding_6 (Embedding)         (None, None, 64)     235008      input_5[0][0]                    \n",
            "__________________________________________________________________________________________________\n",
            "input_6 (InputLayer)            (None, None)         0                                            \n",
            "__________________________________________________________________________________________________\n",
            "bidirectional_3 (Bidirectional) [(None, None, 256),  197632      embedding_6[0][0]                \n",
            "__________________________________________________________________________________________________\n",
            "embedding_7 (Embedding)         (None, None, 64)     241664      input_6[0][0]                    \n",
            "__________________________________________________________________________________________________\n",
            "concatenate_5 (Concatenate)     (None, 256)          0           bidirectional_3[0][1]            \n",
            "                                                                 bidirectional_3[0][3]            \n",
            "__________________________________________________________________________________________________\n",
            "concatenate_6 (Concatenate)     (None, 256)          0           bidirectional_3[0][2]            \n",
            "                                                                 bidirectional_3[0][4]            \n",
            "__________________________________________________________________________________________________\n",
            "lstm_6 (LSTM)                   [(None, None, 256),  328704      embedding_7[0][0]                \n",
            "                                                                 concatenate_5[0][0]              \n",
            "                                                                 concatenate_6[0][0]              \n",
            "__________________________________________________________________________________________________\n",
            "dense_3 (Dense)                 (None, None, 3776)   970432      lstm_6[0][0]                     \n",
            "==================================================================================================\n",
            "Total params: 1,973,440\n",
            "Trainable params: 1,973,440\n",
            "Non-trainable params: 0\n",
            "__________________________________________________________________________________________________\n",
            "None\n"
          ],
          "name": "stdout"
        }
      ]
    },
    {
      "cell_type": "code",
      "metadata": {
        "id": "dVXgCsmaCuBN",
        "colab_type": "code",
        "outputId": "e5362e35-6a21-42a9-aa3a-0181bcba7102",
        "colab": {
          "base_uri": "https://localhost:8080/",
          "height": 564
        }
      },
      "source": [
        "from keras.utils import plot_model\n",
        "plot_model(model, to_file='multilayer_perceptron_graph.png')"
      ],
      "execution_count": 197,
      "outputs": [
        {
          "output_type": "execute_result",
          "data": {
            "image/png": "[encoded data removed]",
            "text/plain": [
              "<IPython.core.display.Image object>"
            ]
          },
          "metadata": {
            "tags": []
          },
          "execution_count": 197
        }
      ]
    },
    {
      "cell_type": "code",
      "metadata": {
        "id": "PwDyBi_tlfbK",
        "colab_type": "code",
        "outputId": "63a09dd6-9af2-46ba-96a6-fa641802672b",
        "colab": {
          "base_uri": "https://localhost:8080/",
          "height": 104
        }
      },
      "source": [
        "import numpy as np\n",
        "model.fit_generator(generator = generate_batch(X_train, y_train, batch_size = 1),\n",
        "                    steps_per_epoch = 10,\n",
        "                    epochs=2,\n",
        "                    validation_data = generate_batch(X_test, y_test, batch_size = 1),\n",
        "                    validation_steps = 10\n",
        "                    )\n"
      ],
      "execution_count": 198,
      "outputs": [
        {
          "output_type": "stream",
          "text": [
            "Epoch 1/2\n",
            "10/10 [==============================] - 12s 1s/step - loss: 0.3542 - acc: 0.0032 - val_loss: 0.3745 - val_acc: 0.0063\n",
            "Epoch 2/2\n",
            "10/10 [==============================] - 7s 720ms/step - loss: 0.1761 - acc: 0.0063 - val_loss: 0.1643 - val_acc: 0.0063\n"
          ],
          "name": "stdout"
        },
        {
          "output_type": "execute_result",
          "data": {
            "text/plain": [
              "<keras.callbacks.History at 0x7f6de0318f98>"
            ]
          },
          "metadata": {
            "tags": []
          },
          "execution_count": 198
        }
      ]
    },
    {
      "cell_type": "code",
      "metadata": {
        "id": "h5UsISMbd-v3",
        "colab_type": "code",
        "outputId": "7537b417-7fe0-4409-a750-17f2a010f4b0",
        "colab": {
          "base_uri": "https://localhost:8080/",
          "height": 35
        }
      },
      "source": [
        "encoder_output"
      ],
      "execution_count": 199,
      "outputs": [
        {
          "output_type": "execute_result",
          "data": {
            "text/plain": [
              "<tf.Tensor 'bidirectional_3/concat:0' shape=(?, ?, 256) dtype=float32>"
            ]
          },
          "metadata": {
            "tags": []
          },
          "execution_count": 199
        }
      ]
    },
    {
      "cell_type": "code",
      "metadata": {
        "id": "2ShFI9RQqsVk",
        "colab_type": "code",
        "colab": {}
      },
      "source": [
        "#Making new model so that we can predict the output\n",
        "# taking all input and output of the encoder from the previous model to here\n",
        "    #encoder_inputs: It's the tokenized and padded words from the Question\n",
        "encoder_model = Model(encoder_inputs, encoder_states) # this is not used for the input in the LSTM"
      ],
      "execution_count": 0,
      "outputs": []
    },
    {
      "cell_type": "code",
      "metadata": {
        "id": "J6b2dtuMqiY3",
        "colab_type": "code",
        "colab": {
          "base_uri": "https://localhost:8080/",
          "height": 369
        },
        "outputId": "e71f1045-9447-4534-d07a-ee9276a66919"
      },
      "source": [
        "from keras.utils import plot_model\n",
        "plot_model(encoder_model, to_file='multilayer_perceptron_graph.png')"
      ],
      "execution_count": 201,
      "outputs": [
        {
          "output_type": "execute_result",
          "data": {
            "image/png": "[encoded data removed]",
            "text/plain": [
              "<IPython.core.display.Image object>"
            ]
          },
          "metadata": {
            "tags": []
          },
          "execution_count": 201
        }
      ]
    },
    {
      "cell_type": "code",
      "metadata": {
        "id": "7O1l0GRnqXuQ",
        "colab_type": "code",
        "colab": {
          "base_uri": "https://localhost:8080/",
          "height": 363
        },
        "outputId": "60d8161c-3bff-4f00-ec2d-18932fd76b78"
      },
      "source": [
        "encoder_model.summary()\n"
      ],
      "execution_count": 202,
      "outputs": [
        {
          "output_type": "stream",
          "text": [
            "Model: \"model_4\"\n",
            "__________________________________________________________________________________________________\n",
            "Layer (type)                    Output Shape         Param #     Connected to                     \n",
            "==================================================================================================\n",
            "input_5 (InputLayer)            (None, None)         0                                            \n",
            "__________________________________________________________________________________________________\n",
            "embedding_6 (Embedding)         (None, None, 64)     235008      input_5[0][0]                    \n",
            "__________________________________________________________________________________________________\n",
            "bidirectional_3 (Bidirectional) [(None, None, 256),  197632      embedding_6[0][0]                \n",
            "__________________________________________________________________________________________________\n",
            "concatenate_5 (Concatenate)     (None, 256)          0           bidirectional_3[0][1]            \n",
            "                                                                 bidirectional_3[0][3]            \n",
            "__________________________________________________________________________________________________\n",
            "concatenate_6 (Concatenate)     (None, 256)          0           bidirectional_3[0][2]            \n",
            "                                                                 bidirectional_3[0][4]            \n",
            "==================================================================================================\n",
            "Total params: 432,640\n",
            "Trainable params: 432,640\n",
            "Non-trainable params: 0\n",
            "__________________________________________________________________________________________________\n"
          ],
          "name": "stdout"
        }
      ]
    },
    {
      "cell_type": "markdown",
      "metadata": {
        "id": "V-RL4UnnNrOD",
        "colab_type": "text"
      },
      "source": [
        "___"
      ]
    },
    {
      "cell_type": "code",
      "metadata": {
        "id": "lD9qWnX3sfKc",
        "colab_type": "code",
        "colab": {}
      },
      "source": [
        "#giving input to decoder\n",
        "decoder_state_input_h = Input(shape=(256,)) # this will be the input form the encoders # cz 256 is from the encoder after concatination \n",
        "decoder_state_input_c = Input(shape=(256,)) #cell state after the encoder\n",
        "\n",
        "decoder_states_inputs = [decoder_state_input_h, decoder_state_input_c]\n",
        "\n",
        "#Reply words tokenized\n",
        "dec_emb2= dec_emb_layer(decoder_inputs) #Get the embeddings of the decoder sequence\n",
        "\n",
        "#decoder ka output and cell state nikal liya \n",
        "    # decoder_lstm = LSTM(256, return_sequences=True, return_state=True)\n",
        "        # here dec_emb2 we passed the output from the embedding later which for trained on tokenized sentensed of Reply words\n",
        "decoder_outputs, state_h2, state_c2 = decoder_lstm(dec_emb2, initial_state=decoder_states_inputs)\n",
        "\n",
        "#added both states from the decoder \n",
        "decoder_states = [state_h2, state_c2]  \n",
        "\n",
        "# Passing the output from the decoder model to the dense layer\n",
        "decoder_output_dense = decoder_dense(decoder_outputs)\n",
        "\n",
        "# Final decoder model\n",
        "# decoder_inputs : Embedding layer ko Reply sentence tokenizer\n",
        "# decoder_states_inputs : this is from the encoder\n",
        "# decoder_outputs2 : #ye decoder ka output he //predicted values from the decoder not the cellstate or output(h)\n",
        "# decoder_states2 : #ye output(h) & cell state h from decoder\n",
        "\n",
        "\n",
        "decoder_model = Model(\n",
        "    [decoder_inputs] + decoder_states_inputs,\n",
        "    [decoder_output_dense] + decoder_states)"
      ],
      "execution_count": 0,
      "outputs": []
    },
    {
      "cell_type": "code",
      "metadata": {
        "id": "pBVnsk5sMxHC",
        "colab_type": "code",
        "colab": {
          "base_uri": "https://localhost:8080/",
          "height": 415
        },
        "outputId": "03e3c128-0007-49cb-a38d-81ebbd576858"
      },
      "source": [
        "print(decoder_model.summary())"
      ],
      "execution_count": 204,
      "outputs": [
        {
          "output_type": "stream",
          "text": [
            "Model: \"model_5\"\n",
            "__________________________________________________________________________________________________\n",
            "Layer (type)                    Output Shape         Param #     Connected to                     \n",
            "==================================================================================================\n",
            "input_6 (InputLayer)            (None, None)         0                                            \n",
            "__________________________________________________________________________________________________\n",
            "embedding_7 (Embedding)         (None, None, 64)     241664      input_6[0][0]                    \n",
            "__________________________________________________________________________________________________\n",
            "input_7 (InputLayer)            (None, 256)          0                                            \n",
            "__________________________________________________________________________________________________\n",
            "input_8 (InputLayer)            (None, 256)          0                                            \n",
            "__________________________________________________________________________________________________\n",
            "lstm_6 (LSTM)                   [(None, None, 256),  328704      embedding_7[1][0]                \n",
            "                                                                 input_7[0][0]                    \n",
            "                                                                 input_8[0][0]                    \n",
            "__________________________________________________________________________________________________\n",
            "dense_3 (Dense)                 (None, None, 3776)   970432      lstm_6[1][0]                     \n",
            "==================================================================================================\n",
            "Total params: 1,540,800\n",
            "Trainable params: 1,540,800\n",
            "Non-trainable params: 0\n",
            "__________________________________________________________________________________________________\n",
            "None\n"
          ],
          "name": "stdout"
        }
      ]
    },
    {
      "cell_type": "code",
      "metadata": {
        "id": "Dh77NQFZqdes",
        "colab_type": "code",
        "colab": {
          "base_uri": "https://localhost:8080/",
          "height": 369
        },
        "outputId": "8c41154c-5b43-461c-8acb-6a81887e14fa"
      },
      "source": [
        "from keras.utils import plot_model\n",
        "plot_model(decoder_model, to_file='multilayer_perceptron_graph.png')"
      ],
      "execution_count": 205,
      "outputs": [
        {
          "output_type": "execute_result",
          "data": {
            "image/png": "[encoded data removed]",
            "text/plain": [
              "<IPython.core.display.Image object>"
            ]
          },
          "metadata": {
            "tags": []
          },
          "execution_count": 205
        }
      ]
    },
    {
      "cell_type": "code",
      "metadata": {
        "id": "h2-XqWuJ5QtU",
        "colab_type": "code",
        "colab": {}
      },
      "source": [
        "def decode_sequence(input_seq):\n",
        "    # Encode the input as state vectors.\n",
        "    states_value = encoder_model.predict(input_seq)\n",
        "    # Generate empty target sequence of length 1.\n",
        "    target_seq = np.zeros((1,1))\n",
        "    # Populate the first character of target sequence with the start character.\n",
        "    target_seq[0, 0] = target_token_index['start_']\n",
        "\n",
        "    # Sampling loop for a batch of sequences\n",
        "    # (to simplify, here we assume a batch of size 1).\n",
        "    stop_condition = False\n",
        "    decoded_sentence = ''\n",
        "    while not stop_condition:\n",
        "        output_tokens, h, c = decoder_model.predict([target_seq] + states_value)\n",
        "\n",
        "        # Sample a token\n",
        "        sampled_token_index = np.argmax(output_tokens[0, -1, :])\n",
        "        sampled_char = reverse_target_char_index[sampled_token_index]\n",
        "        decoded_sentence += ' '+sampled_char\n",
        "\n",
        "        # Exit condition: either hit max length\n",
        "        # or find stop character.\n",
        "        if (sampled_char == '_end' or\n",
        "           len(decoded_sentence) > 50):\n",
        "            stop_condition = True\n",
        "\n",
        "        # Update the target sequence (of length 1).\n",
        "        target_seq = np.zeros((1,1))\n",
        "        target_seq[0, 0] = sampled_token_index\n",
        "\n",
        "        # Update states\n",
        "        states_value = [h, c]\n",
        "\n",
        "    return decoded_sentence"
      ],
      "execution_count": 0,
      "outputs": []
    },
    {
      "cell_type": "code",
      "metadata": {
        "id": "LzmrXlw86BIn",
        "colab_type": "code",
        "colab": {}
      },
      "source": [
        "train_gen = generate_batch(X_train, y_train, batch_size = 1)\n",
        "k=-1"
      ],
      "execution_count": 0,
      "outputs": []
    },
    {
      "cell_type": "code",
      "metadata": {
        "id": "4YDQelrrwbQu",
        "colab_type": "code",
        "colab": {}
      },
      "source": [
        "\n",
        "(input_seq, actual_output), _ = next(train_gen)"
      ],
      "execution_count": 0,
      "outputs": []
    },
    {
      "cell_type": "code",
      "metadata": {
        "id": "SIeHahLno92x",
        "colab_type": "code",
        "colab": {
          "base_uri": "https://localhost:8080/",
          "height": 121
        },
        "outputId": "ea8787c1-2012-41c5-f13e-aea7a8a4bd03"
      },
      "source": [
        "y_train.head()"
      ],
      "execution_count": 209,
      "outputs": [
        {
          "output_type": "execute_result",
          "data": {
            "text/plain": [
              "1184    start_ although previously attributed to ghirl...\n",
              "138                                   start_ cellist _end\n",
              "1558    start_ taipei produces textiles, apparel, elec...\n",
              "1241                                      start_ yes _end\n",
              "390                                        start_ no _end\n",
              "Name: Answer, dtype: object"
            ]
          },
          "metadata": {
            "tags": []
          },
          "execution_count": 209
        }
      ]
    },
    {
      "cell_type": "code",
      "metadata": {
        "id": "n-MGTcgJ61Fq",
        "colab_type": "code",
        "colab": {}
      },
      "source": [
        "# y_train_ = 'Start_ ' + X_train + ' _End'\n",
        "# y_test_ = 'Start_ ' + X_test + ' _End'"
      ],
      "execution_count": 0,
      "outputs": []
    },
    {
      "cell_type": "code",
      "metadata": {
        "id": "fdCAnUDt-HLr",
        "colab_type": "code",
        "colab": {
          "base_uri": "https://localhost:8080/",
          "height": 121
        },
        "outputId": "51fe53a1-b281-4235-c0b6-64648c42d68d"
      },
      "source": [
        "X_train.head()"
      ],
      "execution_count": 211,
      "outputs": [
        {
          "output_type": "execute_result",
          "data": {
            "text/plain": [
              "1184    is the larger work now almost univers attribut...\n",
              "138              what is a person who play the cello call\n",
              "1558                               what doe taipei produc\n",
              "1241       is melbourn home to australia' busiest seaport\n",
              "390                         is lyre play in mordern greec\n",
              "Name: Question, dtype: object"
            ]
          },
          "metadata": {
            "tags": []
          },
          "execution_count": 211
        }
      ]
    },
    {
      "cell_type": "code",
      "metadata": {
        "id": "pti93YEymsPC",
        "colab_type": "code",
        "colab": {
          "base_uri": "https://localhost:8080/",
          "height": 35
        },
        "outputId": "1f4c8812-11fe-45a8-da31-bca4d428eefa"
      },
      "source": [
        "decode_sequence(input_seq)"
      ],
      "execution_count": 213,
      "outputs": [
        {
          "output_type": "execute_result",
          "data": {
            "text/plain": [
              "' railroads, ernest connecticut connecticut pegs met'"
            ]
          },
          "metadata": {
            "tags": []
          },
          "execution_count": 213
        }
      ]
    },
    {
      "cell_type": "code",
      "metadata": {
        "id": "YdAYuoeT6Jbf",
        "colab_type": "code",
        "colab": {
          "base_uri": "https://localhost:8080/",
          "height": 69
        },
        "outputId": "449e13fc-2b3b-4ab0-e0c2-51f4748b99df"
      },
      "source": [
        "decoded_sentence = decode_sequence(input_seq)\n",
        "print('Input Question sentence:', X_train[k:k+1].values[0])\n",
        "print('Actual Reply :', y_train[k:k+1].values[0][6:-4])\n",
        "print('Predicted Reply :', decoded_sentence[:-4])"
      ],
      "execution_count": 214,
      "outputs": [
        {
          "output_type": "stream",
          "text": [
            "Input Question sentence: is the larger work now almost univers attribut to leonardo\n",
            "Actual Reply :  although previously attributed to ghirlandaio, the larger work is now almost universally attributed to leonardo \n",
            "Predicted Reply :  railroads, ernest connecticut connecticut pegs\n"
          ],
          "name": "stdout"
        }
      ]
    },
    {
      "cell_type": "code",
      "metadata": {
        "id": "ZzXmzNL7_1Ao",
        "colab_type": "code",
        "colab": {
          "base_uri": "https://localhost:8080/",
          "height": 69
        },
        "outputId": "6aef5224-6221-40a5-e74c-f943f768fac9"
      },
      "source": [
        "k+=1\n",
        "decoded_sentence = decode_sequence(input_seq)\n",
        "print('Input Question sentence:', X_train[k:k+1].values[0])\n",
        "print('Actual Reply:', y_train[k:k+1].values[0][6:-4])\n",
        "print('Predicted Reply:', decoded_sentence[:-4])"
      ],
      "execution_count": 215,
      "outputs": [
        {
          "output_type": "stream",
          "text": [
            "Input Question sentence: what is a person who play the cello call\n",
            "Actual Reply:  cellist \n",
            "Predicted Reply:  railroads, ernest connecticut connecticut pegs\n"
          ],
          "name": "stdout"
        }
      ]
    },
    {
      "cell_type": "markdown",
      "metadata": {
        "id": "IDH7zDPp8wgU",
        "colab_type": "text"
      },
      "source": [
        "# Attention Layer"
      ]
    },
    {
      "cell_type": "code",
      "metadata": {
        "id": "ratVBBpp8yNT",
        "colab_type": "code",
        "colab": {}
      },
      "source": [
        "import tensorflow as tf\n",
        "import os\n",
        "from tensorflow.python.keras.layers import Layer\n",
        "from tensorflow.python.keras import backend as K\n",
        "\n",
        "\n",
        "class AttentionLayer(Layer):\n",
        "    \"\"\"\n",
        "    This class implements Bahdanau attention (https://arxiv.org/pdf/1409.0473.pdf).\n",
        "    There are three sets of weights introduced W_a, U_a, and V_a\n",
        "     \"\"\"\n",
        "\n",
        "    def __init__(self, **kwargs):\n",
        "        super(AttentionLayer, self).__init__(**kwargs)\n",
        "\n",
        "    def build(self, input_shape):\n",
        "        assert isinstance(input_shape, list)\n",
        "        # Create a trainable weight variable for this layer.\n",
        "\n",
        "        self.W_a = self.add_weight(name='W_a',\n",
        "                                   shape=tf.TensorShape((input_shape[0][2], input_shape[0][2])),\n",
        "                                   initializer='uniform',\n",
        "                                   trainable=True)\n",
        "        self.U_a = self.add_weight(name='U_a',\n",
        "                                   shape=tf.TensorShape((input_shape[1][2], input_shape[0][2])),\n",
        "                                   initializer='uniform',\n",
        "                                   trainable=True)\n",
        "        self.V_a = self.add_weight(name='V_a',\n",
        "                                   shape=tf.TensorShape((input_shape[0][2], 1)),\n",
        "                                   initializer='uniform',\n",
        "                                   trainable=True)\n",
        "\n",
        "        super(AttentionLayer, self).build(input_shape)  # Be sure to call this at the end\n",
        "\n",
        "    def call(self, inputs, verbose=False):\n",
        "        print(\"here at call \")\n",
        "        \"\"\"\n",
        "        inputs: [encoder_output_sequence, decoder_output_sequence]\n",
        "        \"\"\"\n",
        "        assert type(inputs) == list\n",
        "        encoder_out_seq, decoder_out_seq = inputs\n",
        "        if verbose:\n",
        "            print('encoder_out_seq>', encoder_out_seq.shape)\n",
        "            print('decoder_out_seq>', decoder_out_seq.shape)\n",
        "\n",
        "        def energy_step(inputs, states):\n",
        "            print(\"here at energy_step \")\n",
        "            \"\"\" Step function for computing energy for a single decoder state \"\"\"\n",
        "            assert_msg = \"States must be a list. However states {} is of type {}\".format(states, type(states))\n",
        "            assert isinstance(states, list) or isinstance(states, tuple), assert_msg\n",
        "\n",
        "            \"\"\" Some parameters required for shaping tensors\"\"\"\n",
        "            en_seq_len, en_hidden = encoder_out_seq.shape[1], encoder_out_seq.shape[2]\n",
        "            \n",
        "            de_hidden = inputs.shape[-1]\n",
        "            print(\"here is error1\")\n",
        "            \"\"\" Computing S.Wa where S=[s0, s1, ..., si]\"\"\"\n",
        "            # <= batch_size*en_seq_len, latent_dim\n",
        "            reshaped_enc_outputs = K.reshape(encoder_out_seq, (-1, en_hidden))\n",
        "            print(\"here is error2\")\n",
        "            # <= batch_size*en_seq_len, latent_dim\n",
        "            W_a_dot_s = K.reshape(K.dot(reshaped_enc_outputs, self.W_a), (-1, en_seq_len, en_hidden)) # error is happening\n",
        "            \n",
        "            print(\"no error till here\")\n",
        "            if verbose:\n",
        "                print('wa.s>',W_a_dot_s.shape)\n",
        "\n",
        "            \"\"\" Computing hj.Ua \"\"\"\n",
        "            U_a_dot_h = K.expand_dims(K.dot(inputs, self.U_a), 1)  # <= batch_size, 1, latent_dim\n",
        "            if verbose:\n",
        "                print('Ua.h>',U_a_dot_h.shape)\n",
        "\n",
        "            \"\"\" tanh(S.Wa + hj.Ua) \"\"\"\n",
        "            # <= batch_size*en_seq_len, latent_dim\n",
        "            reshaped_Ws_plus_Uh = K.tanh(K.reshape(W_a_dot_s + U_a_dot_h, (-1, en_hidden)))\n",
        "            if verbose:\n",
        "                print('Ws+Uh>', reshaped_Ws_plus_Uh.shape)\n",
        "\n",
        "            \"\"\" softmax(va.tanh(S.Wa + hj.Ua)) \"\"\"\n",
        "            # <= batch_size, en_seq_len\n",
        "            e_i = K.reshape(K.dot(reshaped_Ws_plus_Uh, self.V_a), (-1, en_seq_len))\n",
        "            # <= batch_size, en_seq_len\n",
        "            e_i = K.softmax(e_i)\n",
        "\n",
        "            if verbose:\n",
        "                print('ei>', e_i.shape)\n",
        "\n",
        "            return e_i, [e_i]\n",
        "\n",
        "        def context_step(inputs, states):\n",
        "            \"\"\" Step function for computing ci using ei \"\"\"\n",
        "            print(\"here at context_step \")\n",
        "            # <= batch_size, hidden_size\n",
        "            c_i = K.sum(encoder_out_seq * K.expand_dims(inputs, -1), axis=1)\n",
        "            if verbose:\n",
        "                print('ci>', c_i.shape)\n",
        "            return c_i, [c_i]\n",
        "\n",
        "        def create_inital_state(inputs, hidden_size):\n",
        "            print(\"here at create_inital_state \")\n",
        "            # We are not using initial states, but need to pass something to K.rnn funciton\n",
        "            fake_state = K.zeros_like(inputs)  # <= (batch_size, enc_seq_len, latent_dim\n",
        "            fake_state = K.sum(fake_state, axis=[1, 2])  # <= (batch_size)\n",
        "            fake_state = K.expand_dims(fake_state)  # <= (batch_size, 1)\n",
        "            fake_state = K.tile(fake_state, [1, hidden_size])  # <= (batch_size, latent_dim\n",
        "            print(\"reaching here\")\n",
        "            return fake_state\n",
        "\n",
        "        fake_state_c = create_inital_state(encoder_out_seq, encoder_out_seq.shape[-1])\n",
        "        fake_state_e = create_inital_state(encoder_out_seq, encoder_out_seq.shape[1])    # <= (batch_size, enc_seq_len, latent_dim\n",
        "\n",
        "        \"\"\" Computing energy outputs \"\"\"\n",
        "        # e_outputs => (batch_size, de_seq_len, en_seq_len)\n",
        "        last_out, e_outputs, _ = K.rnn(\n",
        "            energy_step, decoder_out_seq, [fake_state_e],\n",
        "        )\n",
        "\n",
        "        \"\"\" Computing context vectors \"\"\"\n",
        "        last_out, c_outputs, _ = K.rnn(\n",
        "            context_step, e_outputs, [fake_state_c],\n",
        "        )\n",
        "\n",
        "        return c_outputs, e_outputs\n",
        "\n",
        "    def compute_output_shape(self, input_shape):\n",
        "        \"\"\" Outputs produced by the layer \"\"\"\n",
        "        print(\"here at compute_output_shape \")\n",
        "        return [\n",
        "            tf.TensorShape((input_shape[1][0], input_shape[1][1], input_shape[1][2])),\n",
        "            tf.TensorShape((input_shape[1][0], input_shape[1][1], input_shape[0][1]))\n",
        "        ]"
      ],
      "execution_count": 0,
      "outputs": []
    },
    {
      "cell_type": "code",
      "metadata": {
        "id": "a5pIr6lv8ywj",
        "colab_type": "code",
        "colab": {}
      },
      "source": [
        ""
      ],
      "execution_count": 0,
      "outputs": []
    }
  ]
}